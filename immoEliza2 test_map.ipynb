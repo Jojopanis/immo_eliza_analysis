{
 "cells": [
  {
   "cell_type": "markdown",
   "metadata": {},
   "source": [
    "# ImmoEliza Data Analysis"
   ]
  },
  {
   "cell_type": "markdown",
   "metadata": {},
   "source": [
    "## Data Cleaning"
   ]
  },
  {
   "cell_type": "markdown",
   "metadata": {},
   "source": [
    "### Import Necessary Librairies"
   ]
  },
  {
   "cell_type": "code",
   "execution_count": null,
   "metadata": {},
   "outputs": [],
   "source": [
    "import pandas as pd\n",
    "import numpy as np\n",
    "import matplotlib.pyplot as plt\n",
    "import plotly.express as px\n",
    "import plotly.graph_objects as go\n",
    "from plotly.subplots import make_subplots\n",
    "\n",
    "pd.options.mode.chained_assignment = None"
   ]
  },
  {
   "cell_type": "markdown",
   "metadata": {},
   "source": [
    "### Setting the dataset in a variable called \"data\""
   ]
  },
  {
   "cell_type": "code",
   "execution_count": null,
   "metadata": {},
   "outputs": [],
   "source": [
    "data = pd.read_json(\"final_dataset.json\")\n",
    "pd.options.display.max_columns = 35             #just extending the number  of columns that can be seen\n",
    "pd.options.display.max_colwidth = 120           #just extending the width of columns to be able to click on Url for checking infos\n",
    "data.shape"
   ]
  },
  {
   "cell_type": "markdown",
   "metadata": {},
   "source": [
    "### Checking  if there is any duplicates"
   ]
  },
  {
   "cell_type": "code",
   "execution_count": null,
   "metadata": {},
   "outputs": [],
   "source": [
    "data.drop_duplicates(\"PropertyId\",inplace=True)\n",
    "data.shape\n",
    "\n"
   ]
  },
  {
   "cell_type": "markdown",
   "metadata": {},
   "source": [
    "### Seems not let's move on to the next step which  is checking null values"
   ]
  },
  {
   "cell_type": "code",
   "execution_count": null,
   "metadata": {},
   "outputs": [],
   "source": [
    "data.isnull().sum()"
   ]
  },
  {
   "cell_type": "markdown",
   "metadata": {},
   "source": [
    "### Get rid of null values when possible"
   ]
  },
  {
   "cell_type": "code",
   "execution_count": null,
   "metadata": {},
   "outputs": [],
   "source": [
    "data.update(data[[\"BathroomCount\",\"Fireplace\",\"Furnished\",\"Garden\",\"GardenArea\",\"SwimmingPool\",\"Terrace\",\"ToiletCount\"]].fillna(0))\n",
    "data.shape"
   ]
  },
  {
   "cell_type": "markdown",
   "metadata": {},
   "source": [
    "### Get rid of potentials encoding errors"
   ]
  },
  {
   "cell_type": "code",
   "execution_count": null,
   "metadata": {},
   "outputs": [],
   "source": [
    "data.drop(data[data.BathroomCount > data.BedroomCount].index,inplace=True)\n",
    "data.drop(data[data.ConstructionYear > 2033].index,inplace=True)\n",
    "data.drop(data[data.GardenArea > data.SurfaceOfPlot].index,inplace=True)\n",
    "data.drop(data[data.PostalCode < 1000].index,inplace=True)\n",
    "data.drop(data[data.NumberOfFacades > 4].index,inplace=True)\n",
    "data.drop(data[data.Price > 15000000].index,inplace=True)\n",
    "data.drop(data[data.ToiletCount > 58].index,inplace=True)\n",
    "data.drop(data[data.ShowerCount > 58].index,inplace=True)\n",
    "data.drop(data[data.Price == data.LivingArea].index,inplace=True)\n",
    "data.drop(data[data.LivingArea > 8800].index, inplace=True)\n",
    "data.drop(data[data.TypeOfSale == \"annuity_monthly_amount\"].index,inplace=True)\n",
    "data.drop(data[data.TypeOfSale == \"annuity_without_lump_sum\"].index,inplace=True)\n",
    "data.drop(data[data.TypeOfSale == \"annuity_lump_sum\"].index,inplace=True)\n",
    "\n",
    "\n",
    "data.shape"
   ]
  },
  {
   "cell_type": "markdown",
   "metadata": {},
   "source": [
    "### Super looks like we deleted more than 4000 errors. Great!"
   ]
  },
  {
   "cell_type": "markdown",
   "metadata": {},
   "source": [
    "### Separate sale data and rent data to express more things"
   ]
  },
  {
   "cell_type": "code",
   "execution_count": null,
   "metadata": {},
   "outputs": [],
   "source": [
    "sale_data = data[data.TypeOfSale == \"residential_sale\"]\n",
    "rent_data = data[data.TypeOfSale == \"residential_monthly_rent\"]\n",
    "print(sale_data.shape)\n",
    "print(rent_data.shape)"
   ]
  },
  {
   "cell_type": "markdown",
   "metadata": {},
   "source": [
    "## Data Analysis"
   ]
  },
  {
   "cell_type": "markdown",
   "metadata": {},
   "source": [
    "### See how many rows and columns we have"
   ]
  },
  {
   "cell_type": "code",
   "execution_count": null,
   "metadata": {},
   "outputs": [],
   "source": [
    "print(sale_data.shape)\n",
    "print(rent_data.shape)"
   ]
  },
  {
   "cell_type": "markdown",
   "metadata": {},
   "source": [
    "### See correlation between price and place"
   ]
  },
  {
   "cell_type": "markdown",
   "metadata": {},
   "source": [
    "#### price/region"
   ]
  },
  {
   "cell_type": "code",
   "execution_count": null,
   "metadata": {},
   "outputs": [],
   "source": [
    "price_sale_region = sale_data.groupby(\"Region\", as_index=False)[[\"Price\"]].mean().round()\n",
    "price_rent_region = rent_data.groupby(\"Region\", as_index=False)[[\"Price\"]].mean().round()"
   ]
  },
  {
   "cell_type": "code",
   "execution_count": null,
   "metadata": {},
   "outputs": [],
   "source": [
    "fig = go.Figure()\n",
    "colors = px.colors.qualitative.Vivid\n",
    "fig.add_trace(\n",
    "    go.Bar(\n",
    "        x=price_sale_region['Region'],\n",
    "        y=price_sale_region['Price'],\n",
    "        name='Sale',\n",
    "        offsetgroup=1,\n",
    "        marker=dict(\n",
    "            color=colors[0]\n",
    "        )\n",
    "    )\n",
    ")\n",
    "fig.add_trace(\n",
    "    go.Bar(\n",
    "        x=price_rent_region['Region'],\n",
    "        y=price_rent_region['Price'],\n",
    "        name='Rent',\n",
    "        yaxis='y2',\n",
    "        offsetgroup=2,\n",
    "        marker=dict(\n",
    "            color=colors[1]\n",
    "        )\n",
    "    )\n",
    ")\n",
    "fig.update_traces(\n",
    "    hovertemplate='<b>%{y:,.0f} €</b>'\n",
    ")\n",
    "buttons=[\n",
    "    dict(\n",
    "        label=\"Rent\",\n",
    "        method=\"update\",\n",
    "        args=[{},dict(\n",
    "            xaxis=dict(\n",
    "                categoryarray=price_rent_region['Region']\n",
    "            )   \n",
    "        )]\n",
    "    ),\n",
    "    dict(\n",
    "        label=\"Sale\",\n",
    "        method=\"update\",\n",
    "        args=[{},dict(\n",
    "            xaxis=dict(\n",
    "                categoryarray=price_sale_region['Region']\n",
    "            )   \n",
    "        )]\n",
    "    )\n",
    "]\n",
    "fig.update_layout(\n",
    "    title='Average price per region',\n",
    "    width = 800,\n",
    "    updatemenus=[dict(\n",
    "        type='buttons',\n",
    "        buttons=buttons,\n",
    "        bgcolor=colors[-1]\n",
    "    )],\n",
    "    legend=dict(\n",
    "        x=0.5,\n",
    "        y=1.1,\n",
    "        orientation='h',\n",
    "        xanchor='center'\n",
    "    ),\n",
    "    yaxis=dict(\n",
    "        gridcolor=colors[0],\n",
    "        color=colors[0],\n",
    "        title='Sale price in €'\n",
    "    ),\n",
    "    yaxis2=dict(\n",
    "        overlaying='y',\n",
    "        side='right',\n",
    "        gridcolor=colors[1],\n",
    "        color=colors[1],\n",
    "        title='Monthly rent in €'\n",
    "    ),\n",
    "        xaxis=dict(\n",
    "        categoryorder='array',\n",
    "    ),\n",
    "    bargap=0.1,\n",
    "    bargroupgap=0.05,\n",
    "    hovermode='x unified',\n",
    ")\n",
    "fig.show()"
   ]
  },
  {
   "cell_type": "markdown",
   "metadata": {},
   "source": [
    "#### price/province"
   ]
  },
  {
   "cell_type": "code",
   "execution_count": null,
   "metadata": {},
   "outputs": [],
   "source": [
    "price_sale_province = sale_data.groupby(\"Province\", as_index=False)[[\"Price\"]].mean().round().sort_values(\"Price\",ascending=False)\n",
    "price_rent_province = rent_data.groupby(\"Province\", as_index=False)[[\"Price\"]].mean().round().sort_values(\"Price\",ascending=False)"
   ]
  },
  {
   "cell_type": "code",
   "execution_count": null,
   "metadata": {},
   "outputs": [],
   "source": [
    "fig = go.Figure()\n",
    "colors = px.colors.qualitative.Vivid\n",
    "fig.add_trace(\n",
    "    go.Bar(\n",
    "        x=price_sale_province['Province'],\n",
    "        y=price_sale_province['Price'],\n",
    "        name='Sale',\n",
    "        offsetgroup=1,\n",
    "        marker=dict(\n",
    "            color=colors[0]\n",
    "        )\n",
    "    )\n",
    ")\n",
    "fig.add_trace(\n",
    "    go.Bar(\n",
    "        x=price_rent_province['Province'],\n",
    "        y=price_rent_province['Price'],\n",
    "        name='Rent',\n",
    "        yaxis='y2',\n",
    "        offsetgroup=2,\n",
    "        marker=dict(\n",
    "            color=colors[1]\n",
    "        )\n",
    "    )\n",
    ")\n",
    "fig.update_traces(\n",
    "    hovertemplate='<b>%{y:,.0f} €</b>',   \n",
    ")\n",
    "buttons=[\n",
    "    dict(\n",
    "        label=\"Sale\",\n",
    "        method=\"update\",\n",
    "        args=[{},dict(\n",
    "            xaxis=dict(\n",
    "                categoryarray=price_sale_province['Province']\n",
    "            )   \n",
    "        )]\n",
    "    ),\n",
    "    dict(\n",
    "        label=\"Rent\",\n",
    "        method=\"update\",\n",
    "        args=[{},dict(\n",
    "            xaxis=dict(\n",
    "                categoryarray=price_rent_province['Province']\n",
    "            )   \n",
    "        )]\n",
    "    )\n",
    "]\n",
    "fig.update_layout(\n",
    "    title='Average price per province',\n",
    "    width = 800,\n",
    "    updatemenus=[dict(\n",
    "        buttons=buttons\n",
    "    )],\n",
    "    legend=dict(\n",
    "        x=0.5,\n",
    "        y=1.1,\n",
    "        orientation='h',\n",
    "        xanchor='center'\n",
    "    ),\n",
    "    yaxis=dict(\n",
    "        gridcolor=colors[0],\n",
    "        color=colors[0],\n",
    "        title='Sale price in €'\n",
    "    ),\n",
    "    yaxis2=dict(\n",
    "        overlaying='y',\n",
    "        side='right',\n",
    "        gridcolor=colors[1],\n",
    "        color=colors[1],\n",
    "        title='Monthly rent in €'\n",
    "    ),\n",
    "    xaxis=dict(\n",
    "        categoryorder='array',\n",
    "    ),\n",
    "    bargap=0.1,\n",
    "    bargroupgap=0.05,\n",
    "    hovermode='x unified',\n",
    ")\n",
    "fig.show()"
   ]
  },
  {
   "cell_type": "markdown",
   "metadata": {},
   "source": [
    "#### Price/District"
   ]
  },
  {
   "cell_type": "code",
   "execution_count": null,
   "metadata": {},
   "outputs": [],
   "source": [
    "price_sale_district = sale_data.groupby(\"District\", as_index=False)[[\"Price\"]].mean().round().sort_values(\"Price\",ascending=False)\n",
    "price_rent_district = rent_data.groupby(\"District\", as_index=False)[[\"Price\"]].mean().round().sort_values(\"Price\",ascending=False)"
   ]
  },
  {
   "cell_type": "code",
   "execution_count": null,
   "metadata": {},
   "outputs": [],
   "source": [
    "fig = go.Figure()\n",
    "colors = px.colors.qualitative.Vivid\n",
    "fig.add_trace(\n",
    "    go.Bar(\n",
    "        x=price_sale_district['District'],\n",
    "        y=price_sale_district['Price'],\n",
    "        name='Sale',\n",
    "        offsetgroup=1,\n",
    "        marker=dict(\n",
    "            color=colors[0]\n",
    "        )\n",
    "    )\n",
    ")\n",
    "fig.add_trace(\n",
    "    go.Bar(\n",
    "        x=price_rent_district['District'],\n",
    "        y=price_rent_district['Price'],\n",
    "        name='Rent',\n",
    "        yaxis='y2',\n",
    "        offsetgroup=2,\n",
    "        marker=dict(\n",
    "            color=colors[1]\n",
    "        )\n",
    "    )\n",
    ")\n",
    "fig.update_traces(\n",
    "    hovertemplate='<b>%{y:,.0f} €</b>',   \n",
    ")\n",
    "buttons=[\n",
    "    dict(\n",
    "        label=\"Sale\",\n",
    "        method=\"update\",\n",
    "        args=[{},dict(\n",
    "            xaxis=dict(\n",
    "                categoryarray=price_sale_district['District']\n",
    "            )   \n",
    "        )]\n",
    "    ),\n",
    "    dict(\n",
    "        label=\"Rent\",\n",
    "        method=\"update\",\n",
    "        args=[{},dict(\n",
    "            xaxis=dict(\n",
    "                categoryarray=price_rent_district['District']\n",
    "            )   \n",
    "        )]\n",
    "    )\n",
    "]\n",
    "fig.update_layout(\n",
    "    title='Average price per district',\n",
    "    width = 800,\n",
    "    updatemenus=[dict(\n",
    "        buttons=buttons\n",
    "    )],\n",
    "    legend=dict(\n",
    "        x=0.5,\n",
    "        y=1.15,\n",
    "        orientation='h',\n",
    "        xanchor='center'\n",
    "    ),\n",
    "    yaxis=dict(\n",
    "        gridcolor=colors[0],\n",
    "        color=colors[0],\n",
    "        title='Sale price in €'\n",
    "    ),\n",
    "    yaxis2=dict(\n",
    "        overlaying='y',\n",
    "        side='right',\n",
    "        gridcolor=colors[1],\n",
    "        color=colors[1],\n",
    "        title='Monthly rent in €'\n",
    "    ),\n",
    "    xaxis=dict(\n",
    "        categoryorder='array',\n",
    "    ),\n",
    "    bargap=0.1,\n",
    "    bargroupgap=0.05,\n",
    "    hovermode='x unified',\n",
    ")\n",
    "fig.show()"
   ]
  },
  {
   "cell_type": "markdown",
   "metadata": {},
   "source": [
    "### Price per m2"
   ]
  },
  {
   "cell_type": "markdown",
   "metadata": {},
   "source": [
    "#### Per Region"
   ]
  },
  {
   "cell_type": "code",
   "execution_count": null,
   "metadata": {},
   "outputs": [],
   "source": [
    "region_price = sale_data.groupby(\"Region\")[[\"Price\"]].sum()\n",
    "region_livingarea = sale_data.groupby(\"Region\")[[\"LivingArea\"]].sum()\n",
    "region_m2_price = pd.merge(region_price,region_livingarea,on=\"Region\")\n",
    "region_m2_price[\"€/m2\"] = region_m2_price[\"Price\"] / region_m2_price[\"LivingArea\"]\n",
    "region_m2_price = region_m2_price.reset_index()\n",
    "region_m2_price.plot.bar(x=\"Region\",y=\"€/m2\")"
   ]
  },
  {
   "cell_type": "markdown",
   "metadata": {},
   "source": [
    "#### Per Province"
   ]
  },
  {
   "cell_type": "code",
   "execution_count": null,
   "metadata": {},
   "outputs": [],
   "source": [
    "province_price = sale_data.groupby(\"Province\",as_index=False)[[\"Price\"]].sum()\n",
    "province_livingarea = sale_data.groupby(\"Province\",as_index=False)[[\"LivingArea\"]].sum()\n",
    "province_m2_price = pd.merge(province_price,province_livingarea,on=\"Province\")\n",
    "province_m2_price[\"€/m2\"] = province_m2_price[\"Price\"] / province_m2_price[\"LivingArea\"]\n",
    "province_m2_price.plot.bar(x=\"Province\",y=\"€/m2\")"
   ]
  },
  {
   "cell_type": "markdown",
   "metadata": {},
   "source": [
    "#### Per District"
   ]
  },
  {
   "cell_type": "code",
   "execution_count": null,
   "metadata": {},
   "outputs": [],
   "source": [
    "district_price = sale_data.groupby(\"District\",as_index=False)[[\"Price\"]].sum()\n",
    "district_livingarea = sale_data.groupby(\"District\",as_index=False)[[\"LivingArea\"]].sum()\n",
    "district_m2_price = pd.merge(district_price,district_livingarea,on=\"District\")\n",
    "district_m2_price[\"€/m2\"] = district_m2_price[\"Price\"] / district_m2_price[\"LivingArea\"]\n",
    "district_m2_price.plot.bar(x=\"District\",y=\"€/m2\")"
   ]
  },
  {
   "cell_type": "code",
   "execution_count": null,
   "metadata": {},
   "outputs": [],
   "source": [
    "sale_data.head(1)"
   ]
  },
  {
   "cell_type": "code",
   "execution_count": null,
   "metadata": {},
   "outputs": [],
   "source": [
    "sale_data.StateOfBuilding.value_counts()"
   ]
  },
  {
   "cell_type": "code",
   "execution_count": null,
   "metadata": {},
   "outputs": [],
   "source": [
    "stateofbuilding_dict = {\"StateOfBuilding\":{\"TO_BE_DONE_UP\": 1, \"TO_RESTORE\" : 2, \"TO_RENOVATE\" : 3, \"GOOD\" : 4, \"JUST_RENOVATED\" : 5, \"AS_NEW\" : 6}}\n",
    "sale_data.replace(stateofbuilding_dict, inplace=True)\n",
    "peb_sob = sale_data.groupby(\"PEB\", as_index=False)[[\"StateOfBuilding\"]].mean()\n",
    "peb_sob.dropna(inplace=True)\n",
    "peb_sob.sort_values(\"StateOfBuilding\",ascending=False)\n",
    "peb_sob.plot.bar(x=\"PEB\",y=\"StateOfBuilding\")"
   ]
  },
  {
   "cell_type": "code",
   "execution_count": null,
   "metadata": {},
   "outputs": [],
   "source": [
    "values = district_price['Price'].tolist()\n",
    "district = district_price['District'].to_list()"
   ]
  },
  {
   "cell_type": "code",
   "execution_count": null,
   "metadata": {},
   "outputs": [],
   "source": [
    "district_price = sale_data.groupby(\"District\",as_index=False)[[\"Price\"]].sum()\n",
    "district_livingarea = sale_data.groupby(\"District\",as_index=False)[[\"LivingArea\"]].sum()\n",
    "district_m2_price = pd.merge(district_price,district_livingarea,on=\"District\")\n",
    "district_m2_price[\"€/m2\"] = district_m2_price[\"Price\"] / district_m2_price[\"LivingArea\"]\n",
    "district_m2_price.plot.bar(x=\"District\",y=\"€/m2\")"
   ]
  },
  {
   "cell_type": "code",
   "execution_count": null,
   "metadata": {},
   "outputs": [],
   "source": [
    "from dython.nominal import associations\n",
    "from dython.nominal import identify_nominal_columns"
   ]
  },
  {
   "cell_type": "code",
   "execution_count": null,
   "metadata": {},
   "outputs": [],
   "source": [
    "categorical_features=identify_nominal_columns(sale_data)\n",
    "categorical_features"
   ]
  },
  {
   "cell_type": "code",
   "execution_count": null,
   "metadata": {},
   "outputs": [],
   "source": [
    "sale_data_wo_url = sale_data.iloc[:,1:]\n",
    "\n",
    "sale_data_wo_url"
   ]
  },
  {
   "cell_type": "code",
   "execution_count": null,
   "metadata": {},
   "outputs": [],
   "source": [
    "sale_data['FloodingZone'].value_counts()\n"
   ]
  },
  {
   "cell_type": "code",
   "execution_count": null,
   "metadata": {},
   "outputs": [],
   "source": [
    "sale_data.info()"
   ]
  },
  {
   "cell_type": "code",
   "execution_count": null,
   "metadata": {},
   "outputs": [],
   "source": [
    "test = sale_data.drop(['MonthlyCharges'], axis=1)\n",
    "test = test.drop(['Country'], axis=1)\n",
    "test = test.drop(['Url'], axis=1)\n",
    "test = test.drop(['TypeOfSale'], axis=1)\n"
   ]
  },
  {
   "cell_type": "code",
   "execution_count": null,
   "metadata": {},
   "outputs": [],
   "source": [
    "test.dropna()\n",
    "test.info()"
   ]
  },
  {
   "cell_type": "code",
   "execution_count": null,
   "metadata": {},
   "outputs": [],
   "source": [
    "test_corr_house = test.loc[test['TypeOfProperty'] == 1]\n",
    "test_corr_appt = test.loc[test['TypeOfProperty'] == 2]\n",
    "\n"
   ]
  },
  {
   "cell_type": "code",
   "execution_count": null,
   "metadata": {},
   "outputs": [],
   "source": [
    "test_corr_house = test_corr_house.drop(['TypeOfProperty'], axis=1)\n",
    "test_corr_appt = test_corr_appt.drop(['TypeOfProperty'], axis=1)\n",
    "test_corr_appt = test_corr_appt.drop(['SurfaceOfPlot'], axis=1)\n"
   ]
  },
  {
   "cell_type": "code",
   "execution_count": null,
   "metadata": {},
   "outputs": [],
   "source": [
    "test_corr_house.info()"
   ]
  },
  {
   "cell_type": "code",
   "execution_count": null,
   "metadata": {},
   "outputs": [],
   "source": [
    "# House\n",
    "complete_correlation = associations(test_corr_house, filename= 'complete_correlation_house.png', figsize=(30,30))\n",
    "df_complete_corr = complete_correlation['corr']\n",
    "df_complete_corr.dropna(axis=1, how='all').dropna(axis=0, how='all').style.background_gradient(cmap='coolwarm', axis=None)\n"
   ]
  },
  {
   "cell_type": "code",
   "execution_count": null,
   "metadata": {},
   "outputs": [],
   "source": [
    "# Appt\n",
    "complete_correlation = associations(test_corr_appt, filename= 'complete_correlation_appt.png', figsize=(30,30))\n",
    "df_complete_corr = complete_correlation['corr']\n",
    "df_complete_corr.dropna(axis=1, how='all').dropna(axis=0, how='all').style.background_gradient(cmap='coolwarm', axis=None)"
   ]
  },
  {
   "cell_type": "code",
   "execution_count": null,
   "metadata": {},
   "outputs": [],
   "source": [
    "sale_data['Kitchen'].value_counts()"
   ]
  },
  {
   "cell_type": "code",
   "execution_count": null,
   "metadata": {},
   "outputs": [],
   "source": [
    "district_price_test = test_corr_house.groupby(\"District\",as_index=False)[[\"Price\"]].sum()\n",
    "district_livingarea_test = test_corr_house.groupby(\"District\",as_index=False)[[\"LivingArea\"]].sum()\n",
    "district_m2_price_test = pd.merge(district_price_test,district_livingarea_test,on=\"District\")\n",
    "district_m2_price_test[\"€/m2\"] = district_m2_price_test[\"Price\"] / district_m2_price_test[\"LivingArea\"]\n",
    "district_m2_price_test.plot.bar(x=\"District\",y=\"€/m2\")"
   ]
  },
  {
   "cell_type": "code",
   "execution_count": null,
   "metadata": {},
   "outputs": [],
   "source": [
    "district_m2_price_test"
   ]
  },
  {
   "cell_type": "code",
   "execution_count": null,
   "metadata": {},
   "outputs": [],
   "source": [
    "import pandas as pd\n",
    "import plotly.express as px\n",
    "\n",
    "# Create the map\n",
    "fig = px.choropleth(data_frame=district_m2_price_test,\n",
    "                    geojson=\"data_geo/belgium-with-regions_.geojson\",\n",
    "                    locations=\"District\",\n",
    "                    featureidkey=\"properties.name\",\n",
    "                    color=\"€/m2\",\n",
    "                    hover_name=\"District\",\n",
    "                    hover_data=[\"€/m2\"],\n",
    "                    title=\"Square meter price in Belgium disctrict (€/m²)\",\n",
    "                    color_continuous_scale=\"Viridis\")\n",
    "\n",
    "# gemometry of the map\n",
    "fig.update_geos(fitbounds=\"locations\", visible=False)\n",
    "\n",
    "fig.show()\n"
   ]
  },
  {
   "cell_type": "code",
   "execution_count": null,
   "metadata": {},
   "outputs": [],
   "source": [
    "municipality_name = pd.read_excel(\"Conversion Postal code_Refnis code_va01012019.xlsx\")\n",
    "zip_code = municipality_name[[\"Postal code\", \"Nom commune\",\"Refnis code\"]]\n",
    "zip_code.rename(columns={\"Postal code\": \"PostalCode\"}, inplace=True)\n",
    "data_municipality = pd.merge(sale_data,zip_code,on=\"PostalCode\",how='inner')\n",
    "data_municipality = data_municipality.drop_duplicates(\"PropertyId\")\n",
    "data_municipality"
   ]
  },
  {
   "cell_type": "code",
   "execution_count": null,
   "metadata": {},
   "outputs": [],
   "source": [
    "municipality_price_m2 = data_municipality[[\"LivingArea\",\"Price\",\"Nom commune\"]]\n",
    "municipality_price_m2 = data_municipality.groupby(\"Nom commune\",as_index=False)[[\"LivingArea\",\"Price\"]].sum()\n",
    "municipality_price_m2[\"Refnis code\"] = data_municipality[\"Refnis code\"]\n",
    "municipality_price_m2[\"€/m2\"] = municipality_price_m2[\"Price\"] / municipality_price_m2[\"LivingArea\"]\n",
    "municipality_price_m2.sort_values(\"€/m2\",ascending=False)"
   ]
  },
  {
   "cell_type": "code",
   "execution_count": null,
   "metadata": {},
   "outputs": [],
   "source": []
  },
  {
   "cell_type": "code",
   "execution_count": null,
   "metadata": {},
   "outputs": [],
   "source": [
    "import geopandas\n",
    "import pandas as pd\n",
    "import json\n",
    "import numba"
   ]
  },
  {
   "cell_type": "code",
   "execution_count": null,
   "metadata": {},
   "outputs": [],
   "source": [
    "geo_df=geopandas.read_file(\"data/BELGIUM_-_Municipalities.geojson\")\n",
    "geo_df.head()\n",
    "\n"
   ]
  },
  {
   "cell_type": "code",
   "execution_count": null,
   "metadata": {},
   "outputs": [],
   "source": [
    "geo_df.drop(columns=[\"OBJECTID\",\"ADMUNAFR\",\"ADMUNADU\",\"ADMUNAGE\",\"arrond\"],inplace=True)\n",
    "geo_df[\"CODE_INS\"]=geo_df[\"CODE_INS\"].astype(int)\n",
    "geo_df.head()"
   ]
  },
  {
   "cell_type": "code",
   "execution_count": null,
   "metadata": {},
   "outputs": [],
   "source": [
    "refnis_conv=pd.read_excel(\"data/Conversion Postal code_Refnis code_va01012019.xlsx\")\n",
    "refnis_conv.head()\n"
   ]
  },
  {
   "cell_type": "code",
   "execution_count": null,
   "metadata": {},
   "outputs": [],
   "source": [
    "conv_table=refnis_conv.astype(str)[[\"Refnis code\",\"Postal code\"]].melt(id_vars=\"Refnis code\").drop_duplicates().pivot_table(index=\"Refnis code\",\n",
    "                                                                      values=\"value\",\n",
    "                                                                      aggfunc=\",\".join).reset_index().rename(columns={\"value\":\"PostalCodes\"})\n",
    "conv_table[\"Refnis code\"]=conv_table[\"Refnis code\"].astype(int)                                                                     \n",
    "conv_table"
   ]
  },
  {
   "cell_type": "code",
   "execution_count": null,
   "metadata": {},
   "outputs": [],
   "source": [
    "geo_base = geo_df.merge(conv_table,left_on=\"CODE_INS\",right_on=\"Refnis code\",how=\"left\").drop(\"CODE_INS\",axis=1)\n",
    "geo_base.head()"
   ]
  },
  {
   "cell_type": "code",
   "execution_count": null,
   "metadata": {},
   "outputs": [],
   "source": [
    "geo_base[\"Refnis code\"].isna().sum()\n"
   ]
  },
  {
   "cell_type": "code",
   "execution_count": null,
   "metadata": {},
   "outputs": [],
   "source": [
    "geo_price = geo_base.merge(municipality_price,on=\"Refnis code\",how=\"left\")\n"
   ]
  },
  {
   "cell_type": "code",
   "execution_count": null,
   "metadata": {},
   "outputs": [],
   "source": [
    "geo_price.plot(column=\"Price\",legend=True,\n",
    "             missing_kwds={\n",
    "        \"color\": \"lightgrey\",\n",
    "        \"edgecolor\": \"red\",\n",
    "        \"hatch\": \"///\",\n",
    "        \"label\": \"Missing values\",\n",
    "    }\n",
    "             )"
   ]
  },
  {
   "cell_type": "code",
   "execution_count": null,
   "metadata": {},
   "outputs": [],
   "source": [
    "# geo_price.explore(\"Price\",scheme=\"fisherjenks\",legend=True,legend_kws={\"caption\": \"Mean prices\",})\n"
   ]
  }
 ],
 "metadata": {
  "kernelspec": {
   "display_name": "Python 3",
   "language": "python",
   "name": "python3"
  },
  "language_info": {
   "codemirror_mode": {
    "name": "ipython",
    "version": 3
   },
   "file_extension": ".py",
   "mimetype": "text/x-python",
   "name": "python",
   "nbconvert_exporter": "python",
   "pygments_lexer": "ipython3",
   "version": "3.11.9"
  }
 },
 "nbformat": 4,
 "nbformat_minor": 2
}
