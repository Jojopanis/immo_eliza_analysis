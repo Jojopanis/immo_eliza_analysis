{
 "cells": [
  {
   "cell_type": "markdown",
   "metadata": {},
   "source": [
    "# ImmoEliza Data Analysis"
   ]
  },
  {
   "cell_type": "markdown",
   "metadata": {},
   "source": [
    "## Data Cleaning"
   ]
  },
  {
   "cell_type": "markdown",
   "metadata": {},
   "source": [
    "### Import Necessary Librairies"
   ]
  },
  {
   "cell_type": "code",
   "execution_count": null,
   "metadata": {},
   "outputs": [],
   "source": [
    "import pandas as pd\n",
    "import numpy as np\n",
    "import matplotlib.pyplot as plt\n",
    "import seaborn as sns\n",
    "\n",
    "%matplotlib inline\n"
   ]
  },
  {
   "cell_type": "markdown",
   "metadata": {},
   "source": [
    "### Setting the dataset in a variable called \"data\""
   ]
  },
  {
   "cell_type": "code",
   "execution_count": null,
   "metadata": {},
   "outputs": [],
   "source": [
    "data = pd.read_json(\"final_dataset.json\")\n",
    "pd.options.display.max_columns = 35             #just extending the number  of columns that can be seen\n",
    "pd.options.display.max_colwidth = 120           #just extending the width of columns to be able to click on Url for checking infos\n",
    "data.shape"
   ]
  },
  {
   "cell_type": "markdown",
   "metadata": {},
   "source": [
    "### Checking  if there is any duplicates"
   ]
  },
  {
   "cell_type": "code",
   "execution_count": null,
   "metadata": {},
   "outputs": [],
   "source": [
    "data.drop_duplicates(\"PropertyId\",inplace=True)\n",
    "data.shape\n",
    "\n"
   ]
  },
  {
   "cell_type": "markdown",
   "metadata": {},
   "source": [
    "### Seems not let's move on to the next step which  is checking null values"
   ]
  },
  {
   "cell_type": "code",
   "execution_count": null,
   "metadata": {},
   "outputs": [],
   "source": [
    "data.isnull().sum()"
   ]
  },
  {
   "cell_type": "markdown",
   "metadata": {},
   "source": [
    "### Get rid of null values when possible"
   ]
  },
  {
   "cell_type": "code",
   "execution_count": null,
   "metadata": {},
   "outputs": [],
   "source": [
    "data.update(data[[\"BathroomCount\",\"Fireplace\",\"Furnished\",\"Garden\",\"GardenArea\",\"SwimmingPool\",\"Terrace\",\"ToiletCount\"]].fillna(0))\n",
    "data.shape"
   ]
  },
  {
   "cell_type": "markdown",
   "metadata": {},
   "source": [
    "### Get rid of potentials encoding errors"
   ]
  },
  {
   "cell_type": "code",
   "execution_count": null,
   "metadata": {},
   "outputs": [],
   "source": [
    "data.drop(data[data.BathroomCount > data.BedroomCount].index,inplace=True)\n",
    "data.drop(data[data.ConstructionYear > 2033].index,inplace=True)\n",
    "data.drop(data[data.GardenArea > data.SurfaceOfPlot].index,inplace=True)\n",
    "data.drop(data[data.PostalCode < 1000].index,inplace=True)\n",
    "data.drop(data[data.NumberOfFacades > 4].index,inplace=True)\n",
    "data.drop(data[data.Price > 15000000].index,inplace=True)\n",
    "data.drop(data[data.ToiletCount > 58].index,inplace=True)\n",
    "data.drop(data[data.ShowerCount > 58].index,inplace=True)\n",
    "data.drop(data[data.TypeOfSale == \"annuity_monthly_amount\"].index,inplace=True)\n",
    "data.drop(data[data.TypeOfSale == \"annuity_without_lump_sum\"].index,inplace=True)\n",
    "data.drop(data[data.TypeOfSale == \"annuity_lump_sum\"].index,inplace=True)\n",
    "\n",
    "\n",
    "data.shape"
   ]
  },
  {
   "cell_type": "markdown",
   "metadata": {},
   "source": [
    "### Super looks like we deleted more than 4000 errors. Great!"
   ]
  },
  {
   "cell_type": "markdown",
   "metadata": {},
   "source": [
    "### Separate sale data and rent data to express more things"
   ]
  },
  {
   "cell_type": "code",
   "execution_count": null,
   "metadata": {},
   "outputs": [],
   "source": [
    "sale_data = data[data.TypeOfSale == \"residential_sale\"]\n",
    "rent_data = data[data.TypeOfSale == \"residential_monthly_rent\"]\n",
    "print(sale_data.shape)\n",
    "print(rent_data.shape)"
   ]
  },
  {
   "cell_type": "markdown",
   "metadata": {},
   "source": [
    "## Data Analysis"
   ]
  },
  {
   "cell_type": "markdown",
   "metadata": {},
   "source": [
    "### See how many rows and columns we have"
   ]
  },
  {
   "cell_type": "code",
   "execution_count": null,
   "metadata": {},
   "outputs": [],
   "source": [
    "print(sale_data.shape)\n",
    "print(rent_data.shape)"
   ]
  },
  {
   "cell_type": "code",
   "execution_count": null,
   "metadata": {},
   "outputs": [],
   "source": [
    "sale_data.head()"
   ]
  },
  {
   "cell_type": "code",
   "execution_count": null,
   "metadata": {},
   "outputs": [],
   "source": [
    "rent_data.head()"
   ]
  },
  {
   "cell_type": "markdown",
   "metadata": {},
   "source": [
    "### See correlation between price and place"
   ]
  },
  {
   "cell_type": "markdown",
   "metadata": {},
   "source": [
    "#### price/region"
   ]
  },
  {
   "cell_type": "code",
   "execution_count": null,
   "metadata": {},
   "outputs": [],
   "source": [
    "price_sale_region = sale_data.groupby(\"Region\")[[\"Price\"]].mean().round()\n",
    "price_rent_region = rent_data.groupby(\"Region\")[[\"Price\"]].mean().round()\n",
    "price_sale_region.plot.bar()\n",
    "plt.title(\"Mean price by region\")\n",
    "plt.xlabel(\"Regions\")\n",
    "plt.ylabel(\"Mean Price\")\n",
    "price_rent_region.plot.bar()\n",
    "plt.title(\"Mean price by region\")\n",
    "plt.xlabel(\"Regions\")\n",
    "plt.ylabel(\"Mean Price\")\n",
    "plt.show()"
   ]
  },
  {
   "cell_type": "markdown",
   "metadata": {},
   "source": [
    "#### price/province"
   ]
  },
  {
   "cell_type": "code",
   "execution_count": null,
   "metadata": {},
   "outputs": [],
   "source": [
    "price_sale_province = sale_data.groupby(\"Province\")[[\"Price\"]].mean().round().sort_values(\"Price\",ascending=False)\n",
    "price_rent_province = rent_data.groupby(\"Province\")[[\"Price\"]].mean().round().sort_values(\"Price\",ascending=False)\n",
    "price_sale_province.plot.bar()\n",
    "plt.title(\"Mean price by province\")\n",
    "plt.xlabel(\"Provinces\")\n",
    "plt.ylabel(\"Mean Price\")\n",
    "price_rent_province.plot.bar()\n",
    "plt.title(\"Mean price by province\")\n",
    "plt.xlabel(\"Provinces\")\n",
    "plt.ylabel(\"Mean Price\")\n",
    "plt.show()"
   ]
  },
  {
   "cell_type": "markdown",
   "metadata": {},
   "source": [
    "#### Price/District"
   ]
  },
  {
   "cell_type": "code",
   "execution_count": null,
   "metadata": {},
   "outputs": [],
   "source": [
    "price_sale_district = sale_data.groupby(\"District\")[[\"Price\"]].mean().round().sort_values(\"Price\",ascending=False)\n",
    "price_rent_district = rent_data.groupby(\"District\")[[\"Price\"]].mean().round().sort_values(\"Price\",ascending=False)\n",
    "price_sale_district.plot.bar()\n",
    "plt.title(\"Mean price per district\")\n",
    "plt.xlabel(\"Districts\")\n",
    "plt.ylabel(\"Mean Price\")\n",
    "price_rent_district.plot.area()\n",
    "plt.title(\"Mean price per district\")\n",
    "plt.xlabel(\"Districts\")\n",
    "plt.ylabel(\"Mean Price\")\n",
    "plt.show()"
   ]
  },
  {
   "cell_type": "code",
   "execution_count": null,
   "metadata": {},
   "outputs": [],
   "source": [
    "# price_sale_district = sale_data.groupby(\"District\")[[\"Price\"]].mean().round().sort_values(\"Price\",ascending=False)\n",
    "# price_rent_district = rent_data.groupby(\"District\")[[\"Price\"]].mean().round().sort_values(\"Price\",ascending=False)"
   ]
  },
  {
   "cell_type": "code",
   "execution_count": null,
   "metadata": {},
   "outputs": [],
   "source": [
    "sale_data.head()"
   ]
  },
  {
   "cell_type": "code",
   "execution_count": null,
   "metadata": {},
   "outputs": [],
   "source": [
    "p = sns.catplot(data=sale_data, x=\"District\", y=\"Price\")\n",
    "plt.xticks(rotation=45)\n",
    "plt.show()"
   ]
  },
  {
   "cell_type": "code",
   "execution_count": null,
   "metadata": {},
   "outputs": [],
   "source": []
  }
 ],
 "metadata": {
  "kernelspec": {
   "display_name": "Python 3",
   "language": "python",
   "name": "python3"
  },
  "language_info": {
   "codemirror_mode": {
    "name": "ipython",
    "version": 3
   },
   "file_extension": ".py",
   "mimetype": "text/x-python",
   "name": "python",
   "nbconvert_exporter": "python",
   "pygments_lexer": "ipython3",
   "version": "3.11.9"
  }
 },
 "nbformat": 4,
 "nbformat_minor": 2
}
