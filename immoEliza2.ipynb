{
 "cells": [
  {
   "cell_type": "markdown",
   "metadata": {},
   "source": [
    "# ImmoEliza Data Analysis"
   ]
  },
  {
   "cell_type": "markdown",
   "metadata": {},
   "source": [
    "## Data Cleaning"
   ]
  },
  {
   "cell_type": "markdown",
   "metadata": {},
   "source": [
    "### Import Necessary Librairies"
   ]
  },
  {
   "cell_type": "code",
   "execution_count": null,
   "metadata": {},
   "outputs": [],
   "source": [
    "import pandas as pd\n",
    "import numpy as np\n",
    "import matplotlib.pyplot as plt\n",
    "import plotly.express as px\n",
    "import plotly.graph_objects as go\n",
    "from plotly.subplots import make_subplots\n",
    "\n",
    "pd.options.mode.chained_assignment = None"
   ]
  },
  {
   "cell_type": "markdown",
   "metadata": {},
   "source": [
    "### Setting the dataset in a variable called \"data\""
   ]
  },
  {
   "cell_type": "code",
   "execution_count": null,
   "metadata": {},
   "outputs": [],
   "source": [
    "data = pd.read_json(\"final_dataset.json\")\n",
    "pd.options.display.max_columns = 35             #just extending the number  of columns that can be seen\n",
    "pd.options.display.max_colwidth = 120           #just extending the width of columns to be able to click on Url for checking infos\n",
    "data.shape"
   ]
  },
  {
   "cell_type": "markdown",
   "metadata": {},
   "source": [
    "### Checking  if there is any duplicates"
   ]
  },
  {
   "cell_type": "code",
   "execution_count": null,
   "metadata": {},
   "outputs": [],
   "source": [
    "data.drop_duplicates(\"PropertyId\",inplace=True)\n",
    "data.shape\n",
    "\n"
   ]
  },
  {
   "cell_type": "markdown",
   "metadata": {},
   "source": [
    "### Seems not let's move on to the next step which  is checking null values"
   ]
  },
  {
   "cell_type": "code",
   "execution_count": null,
   "metadata": {},
   "outputs": [],
   "source": [
    "data.isnull().sum()"
   ]
  },
  {
   "cell_type": "markdown",
   "metadata": {},
   "source": [
    "### Get rid of null values when possible"
   ]
  },
  {
   "cell_type": "code",
   "execution_count": null,
   "metadata": {},
   "outputs": [],
   "source": [
    "data.update(data[[\"BathroomCount\",\"Fireplace\",\"Furnished\",\"Garden\",\"GardenArea\",\"SwimmingPool\",\"Terrace\",\"ToiletCount\"]].fillna(0))\n",
    "data.shape"
   ]
  },
  {
   "cell_type": "markdown",
   "metadata": {},
   "source": [
    "### Get rid of potentials encoding errors"
   ]
  },
  {
   "cell_type": "code",
   "execution_count": null,
   "metadata": {},
   "outputs": [],
   "source": [
    "data.drop(data[data.BathroomCount > data.BedroomCount].index,inplace=True)\n",
    "data.drop(data[data.ConstructionYear > 2033].index,inplace=True)\n",
    "data.drop(data[data.GardenArea > data.SurfaceOfPlot].index,inplace=True)\n",
    "data.drop(data[data.PostalCode < 1000].index,inplace=True)\n",
    "data.drop(data[data.NumberOfFacades > 4].index,inplace=True)\n",
    "data.drop(data[data.Price > 15000000].index,inplace=True)\n",
    "data.drop(data[data.ToiletCount > 58].index,inplace=True)\n",
    "data.drop(data[data.ShowerCount > 58].index,inplace=True)\n",
    "data.drop(data[data.Price == data.LivingArea].index,inplace=True)\n",
    "data.drop(data[data.LivingArea > 8800].index, inplace=True)\n",
    "data.drop(data[data.TypeOfSale == \"annuity_monthly_amount\"].index,inplace=True)\n",
    "data.drop(data[data.TypeOfSale == \"annuity_without_lump_sum\"].index,inplace=True)\n",
    "data.drop(data[data.TypeOfSale == \"annuity_lump_sum\"].index,inplace=True)\n",
    "\n",
    "\n",
    "data.shape"
   ]
  },
  {
   "cell_type": "markdown",
   "metadata": {},
   "source": [
    "### Super looks like we deleted more than 4000 errors. Great!"
   ]
  },
  {
   "cell_type": "markdown",
   "metadata": {},
   "source": [
    "### Separate sale data and rent data to express more things"
   ]
  },
  {
   "cell_type": "code",
   "execution_count": null,
   "metadata": {},
   "outputs": [],
   "source": [
    "sale_data = data[data.TypeOfSale == \"residential_sale\"]\n",
    "rent_data = data[data.TypeOfSale == \"residential_monthly_rent\"]\n",
    "print(sale_data.shape)\n",
    "print(rent_data.shape)"
   ]
  },
  {
   "cell_type": "markdown",
   "metadata": {},
   "source": [
    "## Data Analysis"
   ]
  },
  {
   "cell_type": "markdown",
   "metadata": {},
   "source": [
    "### See how many rows and columns we have"
   ]
  },
  {
   "cell_type": "code",
   "execution_count": null,
   "metadata": {},
   "outputs": [],
   "source": [
    "print(sale_data.shape)\n",
    "print(rent_data.shape)"
   ]
  },
  {
   "cell_type": "markdown",
   "metadata": {},
   "source": [
    "### See correlation between price and place"
   ]
  },
  {
   "cell_type": "markdown",
   "metadata": {},
   "source": [
    "#### price/region"
   ]
  },
  {
   "cell_type": "code",
   "execution_count": null,
   "metadata": {},
   "outputs": [],
   "source": [
    "price_sale_region = sale_data.groupby(\"Region\", as_index=False)[[\"Price\"]].mean().round()\n",
    "price_rent_region = rent_data.groupby(\"Region\", as_index=False)[[\"Price\"]].mean().round()"
   ]
  },
  {
   "cell_type": "code",
   "execution_count": null,
   "metadata": {},
   "outputs": [],
   "source": [
    "fig = go.Figure()\n",
    "colors = px.colors.qualitative.Vivid\n",
    "fig.add_trace(\n",
    "    go.Bar(\n",
    "        x=price_sale_region['Region'],\n",
    "        y=price_sale_region['Price'],\n",
    "        name='Sale',\n",
    "        offsetgroup=1,\n",
    "        marker=dict(\n",
    "            color=colors[0]\n",
    "        )\n",
    "    )\n",
    ")\n",
    "fig.add_trace(\n",
    "    go.Bar(\n",
    "        x=price_rent_region['Region'],\n",
    "        y=price_rent_region['Price'],\n",
    "        name='Rent',\n",
    "        yaxis='y2',\n",
    "        offsetgroup=2,\n",
    "        marker=dict(\n",
    "            color=colors[1]\n",
    "        )\n",
    "    )\n",
    ")\n",
    "fig.update_traces(\n",
    "    hovertemplate='<b>%{y:,.0f} €</b>'\n",
    ")\n",
    "buttons=[\n",
    "    dict(\n",
    "        label=\"Rent\",\n",
    "        method=\"update\",\n",
    "        args=[{},dict(\n",
    "            xaxis=dict(\n",
    "                categoryarray=price_rent_region['Region']\n",
    "            )   \n",
    "        )]\n",
    "    ),\n",
    "    dict(\n",
    "        label=\"Sale\",\n",
    "        method=\"update\",\n",
    "        args=[{},dict(\n",
    "            xaxis=dict(\n",
    "                categoryarray=price_sale_region['Region']\n",
    "            )   \n",
    "        )]\n",
    "    )\n",
    "]\n",
    "fig.update_layout(\n",
    "    title='Average price per region',\n",
    "    width = 800,\n",
    "    updatemenus=[dict(\n",
    "        type='buttons',\n",
    "        buttons=buttons,\n",
    "        bgcolor=colors[-1]\n",
    "    )],\n",
    "    legend=dict(\n",
    "        x=0.5,\n",
    "        y=1.1,\n",
    "        orientation='h',\n",
    "        xanchor='center'\n",
    "    ),\n",
    "    yaxis=dict(\n",
    "        gridcolor=colors[0],\n",
    "        color=colors[0],\n",
    "        title='Sale price in €'\n",
    "    ),\n",
    "    yaxis2=dict(\n",
    "        overlaying='y',\n",
    "        side='right',\n",
    "        gridcolor=colors[1],\n",
    "        color=colors[1],\n",
    "        title='Monthly rent in €'\n",
    "    ),\n",
    "        xaxis=dict(\n",
    "        categoryorder='array',\n",
    "    ),\n",
    "    bargap=0.1,\n",
    "    bargroupgap=0.05,\n",
    "    hovermode='x unified',\n",
    ")\n",
    "fig.show()"
   ]
  },
  {
   "cell_type": "markdown",
   "metadata": {},
   "source": [
    "#### price/province"
   ]
  },
  {
   "cell_type": "code",
   "execution_count": null,
   "metadata": {},
   "outputs": [],
   "source": [
    "price_sale_province = sale_data.groupby(\"Province\", as_index=False)[[\"Price\"]].mean().round().sort_values(\"Price\",ascending=False)\n",
    "price_rent_province = rent_data.groupby(\"Province\", as_index=False)[[\"Price\"]].mean().round().sort_values(\"Price\",ascending=False)"
   ]
  },
  {
   "cell_type": "code",
   "execution_count": null,
   "metadata": {},
   "outputs": [],
   "source": [
    "fig = go.Figure()\n",
    "colors = px.colors.qualitative.Vivid\n",
    "fig.add_trace(\n",
    "    go.Bar(\n",
    "        x=price_sale_province['Province'],\n",
    "        y=price_sale_province['Price'],\n",
    "        name='Sale',\n",
    "        offsetgroup=1,\n",
    "        marker=dict(\n",
    "            color=colors[0]\n",
    "        )\n",
    "    )\n",
    ")\n",
    "fig.add_trace(\n",
    "    go.Bar(\n",
    "        x=price_rent_province['Province'],\n",
    "        y=price_rent_province['Price'],\n",
    "        name='Rent',\n",
    "        yaxis='y2',\n",
    "        offsetgroup=2,\n",
    "        marker=dict(\n",
    "            color=colors[1]\n",
    "        )\n",
    "    )\n",
    ")\n",
    "fig.update_traces(\n",
    "    hovertemplate='<b>%{y:,.0f} €</b>',   \n",
    ")\n",
    "buttons=[\n",
    "    dict(\n",
    "        label=\"Sale\",\n",
    "        method=\"update\",\n",
    "        args=[{},dict(\n",
    "            xaxis=dict(\n",
    "                categoryarray=price_sale_province['Province']\n",
    "            )   \n",
    "        )]\n",
    "    ),\n",
    "    dict(\n",
    "        label=\"Rent\",\n",
    "        method=\"update\",\n",
    "        args=[{},dict(\n",
    "            xaxis=dict(\n",
    "                categoryarray=price_rent_province['Province']\n",
    "            )   \n",
    "        )]\n",
    "    )\n",
    "]\n",
    "fig.update_layout(\n",
    "    title='Average price per province',\n",
    "    width = 800,\n",
    "    updatemenus=[dict(\n",
    "        buttons=buttons\n",
    "    )],\n",
    "    legend=dict(\n",
    "        x=0.5,\n",
    "        y=1.1,\n",
    "        orientation='h',\n",
    "        xanchor='center'\n",
    "    ),\n",
    "    yaxis=dict(\n",
    "        gridcolor=colors[0],\n",
    "        color=colors[0],\n",
    "        title='Sale price in €'\n",
    "    ),\n",
    "    yaxis2=dict(\n",
    "        overlaying='y',\n",
    "        side='right',\n",
    "        gridcolor=colors[1],\n",
    "        color=colors[1],\n",
    "        title='Monthly rent in €'\n",
    "    ),\n",
    "    xaxis=dict(\n",
    "        categoryorder='array',\n",
    "    ),\n",
    "    bargap=0.1,\n",
    "    bargroupgap=0.05,\n",
    "    hovermode='x unified',\n",
    ")\n",
    "fig.show()"
   ]
  },
  {
   "cell_type": "markdown",
   "metadata": {},
   "source": [
    "#### Price/District"
   ]
  },
  {
   "cell_type": "code",
   "execution_count": null,
   "metadata": {},
   "outputs": [],
   "source": [
    "price_sale_district = sale_data.groupby(\"District\", as_index=False)[[\"Price\"]].mean().round().sort_values(\"Price\",ascending=False)\n",
    "price_rent_district = rent_data.groupby(\"District\", as_index=False)[[\"Price\"]].mean().round().sort_values(\"Price\",ascending=False)"
   ]
  },
  {
   "cell_type": "code",
   "execution_count": null,
   "metadata": {},
   "outputs": [],
   "source": [
    "fig = go.Figure()\n",
    "colors = px.colors.qualitative.Vivid\n",
    "fig.add_trace(\n",
    "    go.Bar(\n",
    "        x=price_sale_district['District'],\n",
    "        y=price_sale_district['Price'],\n",
    "        name='Sale',\n",
    "        offsetgroup=1,\n",
    "        marker=dict(\n",
    "            color=colors[0]\n",
    "        )\n",
    "    )\n",
    ")\n",
    "fig.add_trace(\n",
    "    go.Bar(\n",
    "        x=price_rent_district['District'],\n",
    "        y=price_rent_district['Price'],\n",
    "        name='Rent',\n",
    "        yaxis='y2',\n",
    "        offsetgroup=2,\n",
    "        marker=dict(\n",
    "            color=colors[1]\n",
    "        )\n",
    "    )\n",
    ")\n",
    "fig.update_traces(\n",
    "    hovertemplate='<b>%{y:,.0f} €</b>',   \n",
    ")\n",
    "buttons=[\n",
    "    dict(\n",
    "        label=\"Sale\",\n",
    "        method=\"update\",\n",
    "        args=[{},dict(\n",
    "            xaxis=dict(\n",
    "                categoryarray=price_sale_district['District']\n",
    "            )   \n",
    "        )]\n",
    "    ),\n",
    "    dict(\n",
    "        label=\"Rent\",\n",
    "        method=\"update\",\n",
    "        args=[{},dict(\n",
    "            xaxis=dict(\n",
    "                categoryarray=price_rent_district['District']\n",
    "            )   \n",
    "        )]\n",
    "    )\n",
    "]\n",
    "fig.update_layout(\n",
    "    title='Average price per district',\n",
    "    width = 800,\n",
    "    updatemenus=[dict(\n",
    "        buttons=buttons\n",
    "    )],\n",
    "    legend=dict(\n",
    "        x=0.5,\n",
    "        y=1.15,\n",
    "        orientation='h',\n",
    "        xanchor='center'\n",
    "    ),\n",
    "    yaxis=dict(\n",
    "        gridcolor=colors[0],\n",
    "        color=colors[0],\n",
    "        title='Sale price in €'\n",
    "    ),\n",
    "    yaxis2=dict(\n",
    "        overlaying='y',\n",
    "        side='right',\n",
    "        gridcolor=colors[1],\n",
    "        color=colors[1],\n",
    "        title='Monthly rent in €'\n",
    "    ),\n",
    "    xaxis=dict(\n",
    "        categoryorder='array',\n",
    "    ),\n",
    "    bargap=0.1,\n",
    "    bargroupgap=0.05,\n",
    "    hovermode='x unified',\n",
    ")\n",
    "fig.show()"
   ]
  },
  {
   "cell_type": "markdown",
   "metadata": {},
   "source": [
    "### Price per m2"
   ]
  },
  {
   "cell_type": "markdown",
   "metadata": {},
   "source": [
    "#### Per Region"
   ]
  },
  {
   "cell_type": "code",
   "execution_count": null,
   "metadata": {},
   "outputs": [],
   "source": [
    "region_price = sale_data.groupby(\"Region\")[[\"Price\"]].sum()\n",
    "region_livingarea = sale_data.groupby(\"Region\")[[\"LivingArea\"]].sum()\n",
    "region_m2_price = pd.merge(region_price,region_livingarea,on=\"Region\")\n",
    "region_m2_price[\"€/m2\"] = region_m2_price[\"Price\"] / region_m2_price[\"LivingArea\"]\n",
    "region_m2_price = region_m2_price.reset_index()\n",
    "region_m2_price.plot.bar(x=\"Region\",y=\"€/m2\")"
   ]
  },
  {
   "cell_type": "markdown",
   "metadata": {},
   "source": [
    "#### Per Province"
   ]
  },
  {
   "cell_type": "code",
   "execution_count": null,
   "metadata": {},
   "outputs": [],
   "source": [
    "province_price = sale_data.groupby(\"Province\",as_index=False)[[\"Price\"]].sum()\n",
    "province_livingarea = sale_data.groupby(\"Province\",as_index=False)[[\"LivingArea\"]].sum()\n",
    "province_m2_price = pd.merge(province_price,province_livingarea,on=\"Province\")\n",
    "province_m2_price[\"€/m2\"] = province_m2_price[\"Price\"] / province_m2_price[\"LivingArea\"]\n",
    "province_m2_price.plot.bar(x=\"Province\",y=\"€/m2\")"
   ]
  },
  {
   "cell_type": "markdown",
   "metadata": {},
   "source": [
    "#### Per District"
   ]
  },
  {
   "cell_type": "code",
   "execution_count": null,
   "metadata": {},
   "outputs": [],
   "source": [
    "district_price = sale_data.groupby(\"District\",as_index=False)[[\"Price\"]].sum()\n",
    "district_livingarea = sale_data.groupby(\"District\",as_index=False)[[\"LivingArea\"]].sum()\n",
    "district_m2_price = pd.merge(district_price,district_livingarea,on=\"District\")\n",
    "district_m2_price[\"€/m2\"] = district_m2_price[\"Price\"] / district_m2_price[\"LivingArea\"]\n",
    "district_m2_price.plot.bar(x=\"District\",y=\"€/m2\")"
   ]
  },
  {
   "cell_type": "code",
   "execution_count": null,
   "metadata": {},
   "outputs": [],
   "source": [
    "sale_data.head(1)"
   ]
  },
  {
   "cell_type": "code",
   "execution_count": null,
   "metadata": {},
   "outputs": [],
   "source": [
    "sale_data.StateOfBuilding.value_counts()"
   ]
  },
  {
   "cell_type": "code",
   "execution_count": null,
   "metadata": {},
   "outputs": [],
   "source": [
    "stateofbuilding_to_num = {\"StateOfBuilding\":{\"TO_BE_DONE_UP\": 1, \"TO_RESTORE\" : 2, \"TO_RENOVATE\" : 3, \"GOOD\" : 4, \"JUST_RENOVATED\" : 5, \"AS_NEW\" : 6}}\n",
    "sale_data.replace(stateofbuilding_to_num, inplace=True)\n",
    "peb_sob = sale_data.groupby(\"PEB\", as_index=False)[[\"StateOfBuilding\"]].mean()\n",
    "peb_sob.dropna(inplace=True)\n",
    "peb_sob.sort_values(\"StateOfBuilding\",ascending=False)\n",
    "\n",
    "peb_sob.plot.bar(x=\"PEB\", y=\"StateOfBuilding\")"
   ]
  },
  {
   "cell_type": "markdown",
   "metadata": {},
   "source": [
    "### €/m2 per municipality"
   ]
  },
  {
   "cell_type": "markdown",
   "metadata": {},
   "source": [
    "#### adding Nom commune column"
   ]
  },
  {
   "cell_type": "code",
   "execution_count": null,
   "metadata": {},
   "outputs": [],
   "source": [
    "municipality_name = pd.read_excel(\"Conversion Postal code_Refnis code_va01012019.xlsx\")\n",
    "zip_code = municipality_name[[\"Postal code\", \"Nom commune\",\"Refnis code\"]]\n",
    "zip_code.rename(columns={\"Postal code\": \"PostalCode\"}, inplace=True)\n",
    "data_municipality = pd.merge(sale_data,zip_code,on=\"PostalCode\",how='inner')\n",
    "data_municipality = data_municipality.drop_duplicates(\"PropertyId\")\n",
    "data_municipality"
   ]
  },
  {
   "cell_type": "markdown",
   "metadata": {},
   "source": [
    "### More and less expensives municipality in Wallonia"
   ]
  },
  {
   "cell_type": "code",
   "execution_count": null,
   "metadata": {},
   "outputs": [],
   "source": [
    "municipality_price = data_municipality[[\"Nom commune\",\"Region\",\"Price\",\"LivingArea\",\"Refnis code\"]]\n",
    "wallonia_price = municipality_price[~municipality_price.Region.isin([\"Flanders\", \"Brussels\"])]\n",
    "wallonia_price[\"€/m2\"] = wallonia_price[\"Price\"] / wallonia_price[\"LivingArea\"]\n",
    "wallonia_price = wallonia_price.groupby(\"Nom commune\",as_index=False)[[\"€/m2\"]].mean()\n",
    "wallonia_price = wallonia_price.sort_values(\"€/m2\", ascending=False)\n",
    "print(wallonia_price.head(1))\n",
    "print(wallonia_price.tail(1))"
   ]
  },
  {
   "cell_type": "markdown",
   "metadata": {},
   "source": [
    "### More and less expensives municipality in Brussels"
   ]
  },
  {
   "cell_type": "code",
   "execution_count": null,
   "metadata": {},
   "outputs": [],
   "source": [
    "brussels_price = municipality_price[~municipality_price.Region.isin([\"Flanders\", \"Wallonie\"])]\n",
    "brussels_price[\"€/m2\"] = brussels_price[\"Price\"] / brussels_price[\"LivingArea\"]\n",
    "brussels_price = brussels_price.groupby(\"Nom commune\",as_index=False)[[\"€/m2\"]].mean()\n",
    "brussels_price = brussels_price.sort_values(\"€/m2\", ascending=False)\n",
    "print(brussels_price.head(1))\n",
    "print(brussels_price.tail(1))"
   ]
  },
  {
   "cell_type": "markdown",
   "metadata": {},
   "source": [
    "### More and less expensives municipality in Flanders"
   ]
  },
  {
   "cell_type": "code",
   "execution_count": null,
   "metadata": {},
   "outputs": [],
   "source": [
    "flanders_price = municipality_price[~municipality_price.Region.isin([\"Brussels\", \"Wallonie\"])]\n",
    "flanders_price[\"€/m2\"] = flanders_price[\"Price\"] / flanders_price[\"LivingArea\"]\n",
    "flanders_price = flanders_price.groupby(\"Nom commune\",as_index=False)[[\"€/m2\"]].mean()\n",
    "flanders_price = flanders_price.sort_values(\"€/m2\", ascending=False)\n",
    "print(flanders_price.head(1))\n",
    "print(flanders_price.tail(1))"
   ]
  },
  {
   "cell_type": "markdown",
   "metadata": {},
   "source": [
    "### Global €/m2 per municpality"
   ]
  },
  {
   "cell_type": "code",
   "execution_count": null,
   "metadata": {},
   "outputs": [],
   "source": [
    "municipality_price_m2 = data_municipality[[\"LivingArea\",\"Price\",\"Nom commune\"]]\n",
    "municipality_price_m2 = data_municipality.groupby(\"Nom commune\",as_index=False)[[\"LivingArea\",\"Price\"]].sum()\n",
    "municipality_price_m2[\"Refnis code\"] = data_municipality[\"Refnis code\"]\n",
    "municipality_price_m2[\"€/m2\"] = municipality_price_m2[\"Price\"] / municipality_price_m2[\"LivingArea\"]\n",
    "municipality_price_m2.sort_values(\"€/m2\",ascending=False)"
   ]
  },
  {
   "cell_type": "code",
   "execution_count": null,
   "metadata": {},
   "outputs": [],
   "source": [
    "municipality_price_m2.plot.scatter(x=\"Nom commune\",y= \"€/m2\")\n"
   ]
  },
  {
   "cell_type": "markdown",
   "metadata": {},
   "source": [
    "### Just for fun the link between url lenght and Price"
   ]
  },
  {
   "cell_type": "code",
   "execution_count": null,
   "metadata": {},
   "outputs": [],
   "source": [
    "sale_data[\"length_url\"] = sale_data[\"Url\"].apply(len)\n",
    "sale_data = sale_data.groupby(\"length_url\",as_index=False)[[\"Price\"]].mean().sort_values(\"length_url\",ascending=False)\n",
    "sale_data.plot.bar(x=\"length_url\",y=\"Price\")\n",
    "\n"
   ]
  }
 ],
 "metadata": {
  "kernelspec": {
   "display_name": "Python 3",
   "language": "python",
   "name": "python3"
  },
  "language_info": {
   "codemirror_mode": {
    "name": "ipython",
    "version": 3
   },
   "file_extension": ".py",
   "mimetype": "text/x-python",
   "name": "python",
   "nbconvert_exporter": "python",
   "pygments_lexer": "ipython3",
   "version": "3.11.9"
  }
 },
 "nbformat": 4,
 "nbformat_minor": 2
}
