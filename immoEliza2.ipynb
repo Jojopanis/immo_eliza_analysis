{
 "cells": [
  {
   "cell_type": "markdown",
   "metadata": {},
   "source": [
    "# ImmoEliza Data Analysis"
   ]
  },
  {
   "cell_type": "markdown",
   "metadata": {},
   "source": [
    "## Data Cleaning"
   ]
  },
  {
   "cell_type": "markdown",
   "metadata": {},
   "source": [
    "### Import Necessary Librairies"
   ]
  },
  {
   "cell_type": "code",
   "execution_count": 1,
   "metadata": {},
   "outputs": [],
   "source": [
    "import pandas as pd\n",
    "import numpy as np\n",
    "import matplotlib.pyplot as plt\n",
    "import plotly.express as px\n",
    "import plotly.graph_objects as go\n",
    "from plotly.subplots import make_subplots\n",
    "\n",
    "pd.options.mode.chained_assignment = None"
   ]
  },
  {
   "cell_type": "markdown",
   "metadata": {},
   "source": [
    "### Setting the dataset in a variable called \"data\""
   ]
  },
  {
   "cell_type": "code",
   "execution_count": 2,
   "metadata": {},
   "outputs": [
    {
     "data": {
      "text/plain": [
       "(118714, 32)"
      ]
     },
     "execution_count": 2,
     "metadata": {},
     "output_type": "execute_result"
    }
   ],
   "source": [
    "data = pd.read_json(\"final_dataset.json\")\n",
    "pd.options.display.max_columns = 35             #just extending the number  of columns that can be seen\n",
    "pd.options.display.max_colwidth = 120           #just extending the width of columns to be able to click on Url for checking infos\n",
    "data.shape"
   ]
  },
  {
   "cell_type": "markdown",
   "metadata": {},
   "source": [
    "### Checking  if there is any duplicates"
   ]
  },
  {
   "cell_type": "code",
   "execution_count": 3,
   "metadata": {},
   "outputs": [
    {
     "data": {
      "text/plain": [
       "(118714, 32)"
      ]
     },
     "execution_count": 3,
     "metadata": {},
     "output_type": "execute_result"
    }
   ],
   "source": [
    "data.drop_duplicates(\"PropertyId\",inplace=True)\n",
    "data.shape\n",
    "\n"
   ]
  },
  {
   "cell_type": "markdown",
   "metadata": {},
   "source": [
    "### Seems not let's move on to the next step which  is checking null values"
   ]
  },
  {
   "cell_type": "code",
   "execution_count": 4,
   "metadata": {},
   "outputs": [
    {
     "data": {
      "text/plain": [
       "Url                       0\n",
       "BathroomCount          9602\n",
       "BedroomCount              0\n",
       "ConstructionYear      49816\n",
       "Country                   0\n",
       "District                  7\n",
       "Fireplace            114591\n",
       "FloodingZone          60372\n",
       "Furnished             88389\n",
       "Garden                96211\n",
       "GardenArea            96211\n",
       "Kitchen               51580\n",
       "LivingArea            14175\n",
       "Locality                  2\n",
       "MonthlyCharges       105064\n",
       "NumberOfFacades       41772\n",
       "PEB                   33640\n",
       "PostalCode                0\n",
       "Price                     0\n",
       "PropertyId                0\n",
       "Province                  7\n",
       "Region                    7\n",
       "RoomCount             85798\n",
       "ShowerCount           61587\n",
       "StateOfBuilding       37092\n",
       "SubtypeOfProperty         0\n",
       "SurfaceOfPlot         60477\n",
       "SwimmingPool          78356\n",
       "Terrace               50370\n",
       "ToiletCount           22273\n",
       "TypeOfProperty            0\n",
       "TypeOfSale                0\n",
       "dtype: int64"
      ]
     },
     "execution_count": 4,
     "metadata": {},
     "output_type": "execute_result"
    }
   ],
   "source": [
    "data.isnull().sum()"
   ]
  },
  {
   "cell_type": "markdown",
   "metadata": {},
   "source": [
    "### Get rid of null values when possible"
   ]
  },
  {
   "cell_type": "code",
   "execution_count": 5,
   "metadata": {},
   "outputs": [
    {
     "data": {
      "text/plain": [
       "(118714, 32)"
      ]
     },
     "execution_count": 5,
     "metadata": {},
     "output_type": "execute_result"
    }
   ],
   "source": [
    "data.update(data[[\"BathroomCount\",\"Fireplace\",\"Furnished\",\"Garden\",\"GardenArea\",\"SwimmingPool\",\"Terrace\",\"ToiletCount\"]].fillna(0))\n",
    "data.shape"
   ]
  },
  {
   "cell_type": "markdown",
   "metadata": {},
   "source": [
    "### Get rid of potentials encoding errors"
   ]
  },
  {
   "cell_type": "code",
   "execution_count": 6,
   "metadata": {},
   "outputs": [
    {
     "data": {
      "text/plain": [
       "(114510, 32)"
      ]
     },
     "execution_count": 6,
     "metadata": {},
     "output_type": "execute_result"
    }
   ],
   "source": [
    "data.drop(data[data.BathroomCount > data.BedroomCount].index,inplace=True)\n",
    "data.drop(data[data.ConstructionYear > 2033].index,inplace=True)\n",
    "data.drop(data[data.GardenArea > data.SurfaceOfPlot].index,inplace=True)\n",
    "data.drop(data[data.PostalCode < 1000].index,inplace=True)\n",
    "data.drop(data[data.NumberOfFacades > 4].index,inplace=True)\n",
    "data.drop(data[data.Price > 15000000].index,inplace=True)\n",
    "data.drop(data[data.ToiletCount > 58].index,inplace=True)\n",
    "data.drop(data[data.ShowerCount > 58].index,inplace=True)\n",
    "data.drop(data[data.Price == data.LivingArea].index,inplace=True)\n",
    "data.drop(data[data.LivingArea > 8800].index, inplace=True)\n",
    "data.drop(data[data.TypeOfSale == \"annuity_monthly_amount\"].index,inplace=True)\n",
    "data.drop(data[data.TypeOfSale == \"annuity_without_lump_sum\"].index,inplace=True)\n",
    "data.drop(data[data.TypeOfSale == \"annuity_lump_sum\"].index,inplace=True)\n",
    "\n",
    "\n",
    "data.shape"
   ]
  },
  {
   "cell_type": "markdown",
   "metadata": {},
   "source": [
    "### Super looks like we deleted more than 4000 errors. Great!"
   ]
  },
  {
   "cell_type": "markdown",
   "metadata": {},
   "source": [
    "### Separate sale data and rent data to express more things"
   ]
  },
  {
   "cell_type": "code",
   "execution_count": 7,
   "metadata": {},
   "outputs": [
    {
     "name": "stdout",
     "output_type": "stream",
     "text": [
      "(101800, 32)\n",
      "(12710, 32)\n"
     ]
    }
   ],
   "source": [
    "sale_data = data[data.TypeOfSale == \"residential_sale\"]\n",
    "rent_data = data[data.TypeOfSale == \"residential_monthly_rent\"]\n",
    "print(sale_data.shape)\n",
    "print(rent_data.shape)"
   ]
  },
  {
   "cell_type": "markdown",
   "metadata": {},
   "source": [
    "## Data Analysis"
   ]
  },
  {
   "cell_type": "markdown",
   "metadata": {},
   "source": [
    "### See how many rows and columns we have"
   ]
  },
  {
   "cell_type": "code",
   "execution_count": 8,
   "metadata": {},
   "outputs": [
    {
     "name": "stdout",
     "output_type": "stream",
     "text": [
      "(101800, 32)\n",
      "(12710, 32)\n"
     ]
    }
   ],
   "source": [
    "print(sale_data.shape)\n",
    "print(rent_data.shape)"
   ]
  },
  {
   "cell_type": "markdown",
   "metadata": {},
   "source": [
    "### See correlation between price and place"
   ]
  },
  {
   "cell_type": "markdown",
   "metadata": {},
   "source": [
    "#### price/region"
   ]
  },
  {
   "cell_type": "code",
   "execution_count": 9,
   "metadata": {},
   "outputs": [
    {
     "data": {
      "text/html": [
       "<div>\n",
       "<style scoped>\n",
       "    .dataframe tbody tr th:only-of-type {\n",
       "        vertical-align: middle;\n",
       "    }\n",
       "\n",
       "    .dataframe tbody tr th {\n",
       "        vertical-align: top;\n",
       "    }\n",
       "\n",
       "    .dataframe thead th {\n",
       "        text-align: right;\n",
       "    }\n",
       "</style>\n",
       "<table border=\"1\" class=\"dataframe\">\n",
       "  <thead>\n",
       "    <tr style=\"text-align: right;\">\n",
       "      <th></th>\n",
       "      <th>Region</th>\n",
       "      <th>Price</th>\n",
       "    </tr>\n",
       "  </thead>\n",
       "  <tbody>\n",
       "    <tr>\n",
       "      <th>0</th>\n",
       "      <td>Brussels</td>\n",
       "      <td>551392.0</td>\n",
       "    </tr>\n",
       "    <tr>\n",
       "      <th>1</th>\n",
       "      <td>Flanders</td>\n",
       "      <td>462067.0</td>\n",
       "    </tr>\n",
       "    <tr>\n",
       "      <th>2</th>\n",
       "      <td>Wallonie</td>\n",
       "      <td>325349.0</td>\n",
       "    </tr>\n",
       "  </tbody>\n",
       "</table>\n",
       "</div>"
      ],
      "text/plain": [
       "     Region     Price\n",
       "0  Brussels  551392.0\n",
       "1  Flanders  462067.0\n",
       "2  Wallonie  325349.0"
      ]
     },
     "execution_count": 9,
     "metadata": {},
     "output_type": "execute_result"
    }
   ],
   "source": [
    "price_sale_region = sale_data.groupby(\"Region\", as_index=False)[[\"Price\"]].mean().round()\n",
    "price_rent_region = rent_data.groupby(\"Region\", as_index=False)[[\"Price\"]].mean().round()\n",
    "price_sale_region.head()"
   ]
  },
  {
   "cell_type": "code",
   "execution_count": 10,
   "metadata": {},
   "outputs": [
    {
     "data": {
      "application/vnd.plotly.v1+json": {
       "config": {
        "plotlyServerURL": "https://plot.ly"
       },
       "data": [
        {
         "hovertemplate": "<b>%{y:,.0f} €</b>",
         "marker": {
          "color": "rgb(229, 134, 6)"
         },
         "name": "Sale",
         "offsetgroup": "1",
         "type": "bar",
         "x": [
          "Brussels",
          "Flanders",
          "Wallonie"
         ],
         "y": [
          551392,
          462067,
          325349
         ]
        },
        {
         "hovertemplate": "<b>%{y:,.0f} €</b>",
         "marker": {
          "color": "rgb(93, 105, 177)"
         },
         "name": "Rent",
         "offsetgroup": "2",
         "type": "bar",
         "x": [
          "Brussels",
          "Flanders",
          "Wallonie"
         ],
         "y": [
          2344,
          1456,
          959
         ],
         "yaxis": "y2"
        }
       ],
       "layout": {
        "bargap": 0.1,
        "bargroupgap": 0.05,
        "hovermode": "x unified",
        "legend": {
         "orientation": "h",
         "x": 0.5,
         "xanchor": "center",
         "y": 1.1
        },
        "template": {
         "data": {
          "bar": [
           {
            "error_x": {
             "color": "#2a3f5f"
            },
            "error_y": {
             "color": "#2a3f5f"
            },
            "marker": {
             "line": {
              "color": "#E5ECF6",
              "width": 0.5
             },
             "pattern": {
              "fillmode": "overlay",
              "size": 10,
              "solidity": 0.2
             }
            },
            "type": "bar"
           }
          ],
          "barpolar": [
           {
            "marker": {
             "line": {
              "color": "#E5ECF6",
              "width": 0.5
             },
             "pattern": {
              "fillmode": "overlay",
              "size": 10,
              "solidity": 0.2
             }
            },
            "type": "barpolar"
           }
          ],
          "carpet": [
           {
            "aaxis": {
             "endlinecolor": "#2a3f5f",
             "gridcolor": "white",
             "linecolor": "white",
             "minorgridcolor": "white",
             "startlinecolor": "#2a3f5f"
            },
            "baxis": {
             "endlinecolor": "#2a3f5f",
             "gridcolor": "white",
             "linecolor": "white",
             "minorgridcolor": "white",
             "startlinecolor": "#2a3f5f"
            },
            "type": "carpet"
           }
          ],
          "choropleth": [
           {
            "colorbar": {
             "outlinewidth": 0,
             "ticks": ""
            },
            "type": "choropleth"
           }
          ],
          "contour": [
           {
            "colorbar": {
             "outlinewidth": 0,
             "ticks": ""
            },
            "colorscale": [
             [
              0,
              "#0d0887"
             ],
             [
              0.1111111111111111,
              "#46039f"
             ],
             [
              0.2222222222222222,
              "#7201a8"
             ],
             [
              0.3333333333333333,
              "#9c179e"
             ],
             [
              0.4444444444444444,
              "#bd3786"
             ],
             [
              0.5555555555555556,
              "#d8576b"
             ],
             [
              0.6666666666666666,
              "#ed7953"
             ],
             [
              0.7777777777777778,
              "#fb9f3a"
             ],
             [
              0.8888888888888888,
              "#fdca26"
             ],
             [
              1,
              "#f0f921"
             ]
            ],
            "type": "contour"
           }
          ],
          "contourcarpet": [
           {
            "colorbar": {
             "outlinewidth": 0,
             "ticks": ""
            },
            "type": "contourcarpet"
           }
          ],
          "heatmap": [
           {
            "colorbar": {
             "outlinewidth": 0,
             "ticks": ""
            },
            "colorscale": [
             [
              0,
              "#0d0887"
             ],
             [
              0.1111111111111111,
              "#46039f"
             ],
             [
              0.2222222222222222,
              "#7201a8"
             ],
             [
              0.3333333333333333,
              "#9c179e"
             ],
             [
              0.4444444444444444,
              "#bd3786"
             ],
             [
              0.5555555555555556,
              "#d8576b"
             ],
             [
              0.6666666666666666,
              "#ed7953"
             ],
             [
              0.7777777777777778,
              "#fb9f3a"
             ],
             [
              0.8888888888888888,
              "#fdca26"
             ],
             [
              1,
              "#f0f921"
             ]
            ],
            "type": "heatmap"
           }
          ],
          "heatmapgl": [
           {
            "colorbar": {
             "outlinewidth": 0,
             "ticks": ""
            },
            "colorscale": [
             [
              0,
              "#0d0887"
             ],
             [
              0.1111111111111111,
              "#46039f"
             ],
             [
              0.2222222222222222,
              "#7201a8"
             ],
             [
              0.3333333333333333,
              "#9c179e"
             ],
             [
              0.4444444444444444,
              "#bd3786"
             ],
             [
              0.5555555555555556,
              "#d8576b"
             ],
             [
              0.6666666666666666,
              "#ed7953"
             ],
             [
              0.7777777777777778,
              "#fb9f3a"
             ],
             [
              0.8888888888888888,
              "#fdca26"
             ],
             [
              1,
              "#f0f921"
             ]
            ],
            "type": "heatmapgl"
           }
          ],
          "histogram": [
           {
            "marker": {
             "pattern": {
              "fillmode": "overlay",
              "size": 10,
              "solidity": 0.2
             }
            },
            "type": "histogram"
           }
          ],
          "histogram2d": [
           {
            "colorbar": {
             "outlinewidth": 0,
             "ticks": ""
            },
            "colorscale": [
             [
              0,
              "#0d0887"
             ],
             [
              0.1111111111111111,
              "#46039f"
             ],
             [
              0.2222222222222222,
              "#7201a8"
             ],
             [
              0.3333333333333333,
              "#9c179e"
             ],
             [
              0.4444444444444444,
              "#bd3786"
             ],
             [
              0.5555555555555556,
              "#d8576b"
             ],
             [
              0.6666666666666666,
              "#ed7953"
             ],
             [
              0.7777777777777778,
              "#fb9f3a"
             ],
             [
              0.8888888888888888,
              "#fdca26"
             ],
             [
              1,
              "#f0f921"
             ]
            ],
            "type": "histogram2d"
           }
          ],
          "histogram2dcontour": [
           {
            "colorbar": {
             "outlinewidth": 0,
             "ticks": ""
            },
            "colorscale": [
             [
              0,
              "#0d0887"
             ],
             [
              0.1111111111111111,
              "#46039f"
             ],
             [
              0.2222222222222222,
              "#7201a8"
             ],
             [
              0.3333333333333333,
              "#9c179e"
             ],
             [
              0.4444444444444444,
              "#bd3786"
             ],
             [
              0.5555555555555556,
              "#d8576b"
             ],
             [
              0.6666666666666666,
              "#ed7953"
             ],
             [
              0.7777777777777778,
              "#fb9f3a"
             ],
             [
              0.8888888888888888,
              "#fdca26"
             ],
             [
              1,
              "#f0f921"
             ]
            ],
            "type": "histogram2dcontour"
           }
          ],
          "mesh3d": [
           {
            "colorbar": {
             "outlinewidth": 0,
             "ticks": ""
            },
            "type": "mesh3d"
           }
          ],
          "parcoords": [
           {
            "line": {
             "colorbar": {
              "outlinewidth": 0,
              "ticks": ""
             }
            },
            "type": "parcoords"
           }
          ],
          "pie": [
           {
            "automargin": true,
            "type": "pie"
           }
          ],
          "scatter": [
           {
            "fillpattern": {
             "fillmode": "overlay",
             "size": 10,
             "solidity": 0.2
            },
            "type": "scatter"
           }
          ],
          "scatter3d": [
           {
            "line": {
             "colorbar": {
              "outlinewidth": 0,
              "ticks": ""
             }
            },
            "marker": {
             "colorbar": {
              "outlinewidth": 0,
              "ticks": ""
             }
            },
            "type": "scatter3d"
           }
          ],
          "scattercarpet": [
           {
            "marker": {
             "colorbar": {
              "outlinewidth": 0,
              "ticks": ""
             }
            },
            "type": "scattercarpet"
           }
          ],
          "scattergeo": [
           {
            "marker": {
             "colorbar": {
              "outlinewidth": 0,
              "ticks": ""
             }
            },
            "type": "scattergeo"
           }
          ],
          "scattergl": [
           {
            "marker": {
             "colorbar": {
              "outlinewidth": 0,
              "ticks": ""
             }
            },
            "type": "scattergl"
           }
          ],
          "scattermapbox": [
           {
            "marker": {
             "colorbar": {
              "outlinewidth": 0,
              "ticks": ""
             }
            },
            "type": "scattermapbox"
           }
          ],
          "scatterpolar": [
           {
            "marker": {
             "colorbar": {
              "outlinewidth": 0,
              "ticks": ""
             }
            },
            "type": "scatterpolar"
           }
          ],
          "scatterpolargl": [
           {
            "marker": {
             "colorbar": {
              "outlinewidth": 0,
              "ticks": ""
             }
            },
            "type": "scatterpolargl"
           }
          ],
          "scatterternary": [
           {
            "marker": {
             "colorbar": {
              "outlinewidth": 0,
              "ticks": ""
             }
            },
            "type": "scatterternary"
           }
          ],
          "surface": [
           {
            "colorbar": {
             "outlinewidth": 0,
             "ticks": ""
            },
            "colorscale": [
             [
              0,
              "#0d0887"
             ],
             [
              0.1111111111111111,
              "#46039f"
             ],
             [
              0.2222222222222222,
              "#7201a8"
             ],
             [
              0.3333333333333333,
              "#9c179e"
             ],
             [
              0.4444444444444444,
              "#bd3786"
             ],
             [
              0.5555555555555556,
              "#d8576b"
             ],
             [
              0.6666666666666666,
              "#ed7953"
             ],
             [
              0.7777777777777778,
              "#fb9f3a"
             ],
             [
              0.8888888888888888,
              "#fdca26"
             ],
             [
              1,
              "#f0f921"
             ]
            ],
            "type": "surface"
           }
          ],
          "table": [
           {
            "cells": {
             "fill": {
              "color": "#EBF0F8"
             },
             "line": {
              "color": "white"
             }
            },
            "header": {
             "fill": {
              "color": "#C8D4E3"
             },
             "line": {
              "color": "white"
             }
            },
            "type": "table"
           }
          ]
         },
         "layout": {
          "annotationdefaults": {
           "arrowcolor": "#2a3f5f",
           "arrowhead": 0,
           "arrowwidth": 1
          },
          "autotypenumbers": "strict",
          "coloraxis": {
           "colorbar": {
            "outlinewidth": 0,
            "ticks": ""
           }
          },
          "colorscale": {
           "diverging": [
            [
             0,
             "#8e0152"
            ],
            [
             0.1,
             "#c51b7d"
            ],
            [
             0.2,
             "#de77ae"
            ],
            [
             0.3,
             "#f1b6da"
            ],
            [
             0.4,
             "#fde0ef"
            ],
            [
             0.5,
             "#f7f7f7"
            ],
            [
             0.6,
             "#e6f5d0"
            ],
            [
             0.7,
             "#b8e186"
            ],
            [
             0.8,
             "#7fbc41"
            ],
            [
             0.9,
             "#4d9221"
            ],
            [
             1,
             "#276419"
            ]
           ],
           "sequential": [
            [
             0,
             "#0d0887"
            ],
            [
             0.1111111111111111,
             "#46039f"
            ],
            [
             0.2222222222222222,
             "#7201a8"
            ],
            [
             0.3333333333333333,
             "#9c179e"
            ],
            [
             0.4444444444444444,
             "#bd3786"
            ],
            [
             0.5555555555555556,
             "#d8576b"
            ],
            [
             0.6666666666666666,
             "#ed7953"
            ],
            [
             0.7777777777777778,
             "#fb9f3a"
            ],
            [
             0.8888888888888888,
             "#fdca26"
            ],
            [
             1,
             "#f0f921"
            ]
           ],
           "sequentialminus": [
            [
             0,
             "#0d0887"
            ],
            [
             0.1111111111111111,
             "#46039f"
            ],
            [
             0.2222222222222222,
             "#7201a8"
            ],
            [
             0.3333333333333333,
             "#9c179e"
            ],
            [
             0.4444444444444444,
             "#bd3786"
            ],
            [
             0.5555555555555556,
             "#d8576b"
            ],
            [
             0.6666666666666666,
             "#ed7953"
            ],
            [
             0.7777777777777778,
             "#fb9f3a"
            ],
            [
             0.8888888888888888,
             "#fdca26"
            ],
            [
             1,
             "#f0f921"
            ]
           ]
          },
          "colorway": [
           "#636efa",
           "#EF553B",
           "#00cc96",
           "#ab63fa",
           "#FFA15A",
           "#19d3f3",
           "#FF6692",
           "#B6E880",
           "#FF97FF",
           "#FECB52"
          ],
          "font": {
           "color": "#2a3f5f"
          },
          "geo": {
           "bgcolor": "white",
           "lakecolor": "white",
           "landcolor": "#E5ECF6",
           "showlakes": true,
           "showland": true,
           "subunitcolor": "white"
          },
          "hoverlabel": {
           "align": "left"
          },
          "hovermode": "closest",
          "mapbox": {
           "style": "light"
          },
          "paper_bgcolor": "white",
          "plot_bgcolor": "#E5ECF6",
          "polar": {
           "angularaxis": {
            "gridcolor": "white",
            "linecolor": "white",
            "ticks": ""
           },
           "bgcolor": "#E5ECF6",
           "radialaxis": {
            "gridcolor": "white",
            "linecolor": "white",
            "ticks": ""
           }
          },
          "scene": {
           "xaxis": {
            "backgroundcolor": "#E5ECF6",
            "gridcolor": "white",
            "gridwidth": 2,
            "linecolor": "white",
            "showbackground": true,
            "ticks": "",
            "zerolinecolor": "white"
           },
           "yaxis": {
            "backgroundcolor": "#E5ECF6",
            "gridcolor": "white",
            "gridwidth": 2,
            "linecolor": "white",
            "showbackground": true,
            "ticks": "",
            "zerolinecolor": "white"
           },
           "zaxis": {
            "backgroundcolor": "#E5ECF6",
            "gridcolor": "white",
            "gridwidth": 2,
            "linecolor": "white",
            "showbackground": true,
            "ticks": "",
            "zerolinecolor": "white"
           }
          },
          "shapedefaults": {
           "line": {
            "color": "#2a3f5f"
           }
          },
          "ternary": {
           "aaxis": {
            "gridcolor": "white",
            "linecolor": "white",
            "ticks": ""
           },
           "baxis": {
            "gridcolor": "white",
            "linecolor": "white",
            "ticks": ""
           },
           "bgcolor": "#E5ECF6",
           "caxis": {
            "gridcolor": "white",
            "linecolor": "white",
            "ticks": ""
           }
          },
          "title": {
           "x": 0.05
          },
          "xaxis": {
           "automargin": true,
           "gridcolor": "white",
           "linecolor": "white",
           "ticks": "",
           "title": {
            "standoff": 15
           },
           "zerolinecolor": "white",
           "zerolinewidth": 2
          },
          "yaxis": {
           "automargin": true,
           "gridcolor": "white",
           "linecolor": "white",
           "ticks": "",
           "title": {
            "standoff": 15
           },
           "zerolinecolor": "white",
           "zerolinewidth": 2
          }
         }
        },
        "title": {
         "text": "Average price per region"
        },
        "updatemenus": [
         {
          "bgcolor": "rgb(165, 170, 153)",
          "buttons": [
           {
            "args": [
             {},
             {
              "xaxis": {
               "categoryarray": [
                "Brussels",
                "Flanders",
                "Wallonie"
               ]
              }
             }
            ],
            "label": "Rent",
            "method": "update"
           },
           {
            "args": [
             {},
             {
              "xaxis": {
               "categoryarray": [
                "Brussels",
                "Flanders",
                "Wallonie"
               ]
              }
             }
            ],
            "label": "Sale",
            "method": "update"
           }
          ],
          "type": "buttons"
         }
        ],
        "width": 800,
        "xaxis": {
         "categoryorder": "array"
        },
        "yaxis": {
         "color": "rgb(229, 134, 6)",
         "gridcolor": "rgb(229, 134, 6)",
         "title": {
          "text": "Sale price in €"
         }
        },
        "yaxis2": {
         "color": "rgb(93, 105, 177)",
         "gridcolor": "rgb(93, 105, 177)",
         "overlaying": "y",
         "side": "right",
         "title": {
          "text": "Monthly rent in €"
         }
        }
       }
      }
     },
     "metadata": {},
     "output_type": "display_data"
    }
   ],
   "source": [
    "fig = go.Figure()\n",
    "colors = px.colors.qualitative.Vivid\n",
    "fig.add_trace(\n",
    "    go.Bar(\n",
    "        x=price_sale_region['Region'],\n",
    "        y=price_sale_region['Price'],\n",
    "        name='Sale',\n",
    "        offsetgroup=1,\n",
    "        marker=dict(\n",
    "            color=colors[0]\n",
    "        )\n",
    "    )\n",
    ")\n",
    "fig.add_trace(\n",
    "    go.Bar(\n",
    "        x=price_rent_region['Region'],\n",
    "        y=price_rent_region['Price'],\n",
    "        name='Rent',\n",
    "        yaxis='y2',\n",
    "        offsetgroup=2,\n",
    "        marker=dict(\n",
    "            color=colors[1]\n",
    "        )\n",
    "    )\n",
    ")\n",
    "fig.update_traces(\n",
    "    hovertemplate='<b>%{y:,.0f} €</b>'\n",
    ")\n",
    "buttons=[\n",
    "    dict(\n",
    "        label=\"Rent\",\n",
    "        method=\"update\",\n",
    "        args=[{},dict(\n",
    "            xaxis=dict(\n",
    "                categoryarray=price_rent_region['Region']\n",
    "            )   \n",
    "        )]\n",
    "    ),\n",
    "    dict(\n",
    "        label=\"Sale\",\n",
    "        method=\"update\",\n",
    "        args=[{},dict(\n",
    "            xaxis=dict(\n",
    "                categoryarray=price_sale_region['Region']\n",
    "            )   \n",
    "        )]\n",
    "    )\n",
    "]\n",
    "fig.update_layout(\n",
    "    title='Average price per region',\n",
    "    width = 800,\n",
    "    updatemenus=[dict(\n",
    "        type='buttons',\n",
    "        buttons=buttons,\n",
    "        bgcolor=colors[-1]\n",
    "    )],\n",
    "    legend=dict(\n",
    "        x=0.5,\n",
    "        y=1.1,\n",
    "        orientation='h',\n",
    "        xanchor='center'\n",
    "    ),\n",
    "    yaxis=dict(\n",
    "        gridcolor=colors[0],\n",
    "        color=colors[0],\n",
    "        title='Sale price in €'\n",
    "    ),\n",
    "    yaxis2=dict(\n",
    "        overlaying='y',\n",
    "        side='right',\n",
    "        gridcolor=colors[1],\n",
    "        color=colors[1],\n",
    "        title='Monthly rent in €'\n",
    "    ),\n",
    "        xaxis=dict(\n",
    "        categoryorder='array',\n",
    "    ),\n",
    "    bargap=0.1,\n",
    "    bargroupgap=0.05,\n",
    "    hovermode='x unified',\n",
    ")\n",
    "fig.show()"
   ]
  },
  {
   "cell_type": "markdown",
   "metadata": {},
   "source": [
    "#### price/province"
   ]
  },
  {
   "cell_type": "code",
   "execution_count": 11,
   "metadata": {},
   "outputs": [],
   "source": [
    "price_sale_province = sale_data.groupby(\"Province\", as_index=False)[[\"Price\"]].mean().round().sort_values(\"Price\",ascending=False)\n",
    "price_rent_province = rent_data.groupby(\"Province\", as_index=False)[[\"Price\"]].mean().round().sort_values(\"Price\",ascending=False)"
   ]
  },
  {
   "cell_type": "code",
   "execution_count": 12,
   "metadata": {},
   "outputs": [
    {
     "data": {
      "application/vnd.plotly.v1+json": {
       "config": {
        "plotlyServerURL": "https://plot.ly"
       },
       "data": [
        {
         "hovertemplate": "<b>%{y:,.0f} €</b>",
         "marker": {
          "color": "rgb(229, 134, 6)"
         },
         "name": "Sale",
         "offsetgroup": "1",
         "type": "bar",
         "x": [
          "Brussels",
          "West Flanders",
          "Walloon Brabant",
          "Flemish Brabant",
          "Antwerp",
          "East Flanders",
          "Limburg",
          "Luxembourg",
          "Liège",
          "Namur",
          "Hainaut"
         ],
         "y": [
          551392,
          520260,
          510634,
          475761,
          453666,
          414187,
          372273,
          342516,
          312827,
          309511,
          269089
         ]
        },
        {
         "hovertemplate": "<b>%{y:,.0f} €</b>",
         "marker": {
          "color": "rgb(93, 105, 177)"
         },
         "name": "Rent",
         "offsetgroup": "2",
         "type": "bar",
         "x": [
          "Brussels",
          "Flemish Brabant",
          "Antwerp",
          "Walloon Brabant",
          "Limburg",
          "West Flanders",
          "East Flanders",
          "Luxembourg",
          "Liège",
          "Hainaut",
          "Namur"
         ],
         "y": [
          2344,
          1972,
          1822,
          1454,
          1167,
          1134,
          972,
          971,
          880,
          830,
          807
         ],
         "yaxis": "y2"
        }
       ],
       "layout": {
        "bargap": 0.1,
        "bargroupgap": 0.05,
        "hovermode": "x unified",
        "legend": {
         "orientation": "h",
         "x": 0.5,
         "xanchor": "center",
         "y": 1.1
        },
        "template": {
         "data": {
          "bar": [
           {
            "error_x": {
             "color": "#2a3f5f"
            },
            "error_y": {
             "color": "#2a3f5f"
            },
            "marker": {
             "line": {
              "color": "#E5ECF6",
              "width": 0.5
             },
             "pattern": {
              "fillmode": "overlay",
              "size": 10,
              "solidity": 0.2
             }
            },
            "type": "bar"
           }
          ],
          "barpolar": [
           {
            "marker": {
             "line": {
              "color": "#E5ECF6",
              "width": 0.5
             },
             "pattern": {
              "fillmode": "overlay",
              "size": 10,
              "solidity": 0.2
             }
            },
            "type": "barpolar"
           }
          ],
          "carpet": [
           {
            "aaxis": {
             "endlinecolor": "#2a3f5f",
             "gridcolor": "white",
             "linecolor": "white",
             "minorgridcolor": "white",
             "startlinecolor": "#2a3f5f"
            },
            "baxis": {
             "endlinecolor": "#2a3f5f",
             "gridcolor": "white",
             "linecolor": "white",
             "minorgridcolor": "white",
             "startlinecolor": "#2a3f5f"
            },
            "type": "carpet"
           }
          ],
          "choropleth": [
           {
            "colorbar": {
             "outlinewidth": 0,
             "ticks": ""
            },
            "type": "choropleth"
           }
          ],
          "contour": [
           {
            "colorbar": {
             "outlinewidth": 0,
             "ticks": ""
            },
            "colorscale": [
             [
              0,
              "#0d0887"
             ],
             [
              0.1111111111111111,
              "#46039f"
             ],
             [
              0.2222222222222222,
              "#7201a8"
             ],
             [
              0.3333333333333333,
              "#9c179e"
             ],
             [
              0.4444444444444444,
              "#bd3786"
             ],
             [
              0.5555555555555556,
              "#d8576b"
             ],
             [
              0.6666666666666666,
              "#ed7953"
             ],
             [
              0.7777777777777778,
              "#fb9f3a"
             ],
             [
              0.8888888888888888,
              "#fdca26"
             ],
             [
              1,
              "#f0f921"
             ]
            ],
            "type": "contour"
           }
          ],
          "contourcarpet": [
           {
            "colorbar": {
             "outlinewidth": 0,
             "ticks": ""
            },
            "type": "contourcarpet"
           }
          ],
          "heatmap": [
           {
            "colorbar": {
             "outlinewidth": 0,
             "ticks": ""
            },
            "colorscale": [
             [
              0,
              "#0d0887"
             ],
             [
              0.1111111111111111,
              "#46039f"
             ],
             [
              0.2222222222222222,
              "#7201a8"
             ],
             [
              0.3333333333333333,
              "#9c179e"
             ],
             [
              0.4444444444444444,
              "#bd3786"
             ],
             [
              0.5555555555555556,
              "#d8576b"
             ],
             [
              0.6666666666666666,
              "#ed7953"
             ],
             [
              0.7777777777777778,
              "#fb9f3a"
             ],
             [
              0.8888888888888888,
              "#fdca26"
             ],
             [
              1,
              "#f0f921"
             ]
            ],
            "type": "heatmap"
           }
          ],
          "heatmapgl": [
           {
            "colorbar": {
             "outlinewidth": 0,
             "ticks": ""
            },
            "colorscale": [
             [
              0,
              "#0d0887"
             ],
             [
              0.1111111111111111,
              "#46039f"
             ],
             [
              0.2222222222222222,
              "#7201a8"
             ],
             [
              0.3333333333333333,
              "#9c179e"
             ],
             [
              0.4444444444444444,
              "#bd3786"
             ],
             [
              0.5555555555555556,
              "#d8576b"
             ],
             [
              0.6666666666666666,
              "#ed7953"
             ],
             [
              0.7777777777777778,
              "#fb9f3a"
             ],
             [
              0.8888888888888888,
              "#fdca26"
             ],
             [
              1,
              "#f0f921"
             ]
            ],
            "type": "heatmapgl"
           }
          ],
          "histogram": [
           {
            "marker": {
             "pattern": {
              "fillmode": "overlay",
              "size": 10,
              "solidity": 0.2
             }
            },
            "type": "histogram"
           }
          ],
          "histogram2d": [
           {
            "colorbar": {
             "outlinewidth": 0,
             "ticks": ""
            },
            "colorscale": [
             [
              0,
              "#0d0887"
             ],
             [
              0.1111111111111111,
              "#46039f"
             ],
             [
              0.2222222222222222,
              "#7201a8"
             ],
             [
              0.3333333333333333,
              "#9c179e"
             ],
             [
              0.4444444444444444,
              "#bd3786"
             ],
             [
              0.5555555555555556,
              "#d8576b"
             ],
             [
              0.6666666666666666,
              "#ed7953"
             ],
             [
              0.7777777777777778,
              "#fb9f3a"
             ],
             [
              0.8888888888888888,
              "#fdca26"
             ],
             [
              1,
              "#f0f921"
             ]
            ],
            "type": "histogram2d"
           }
          ],
          "histogram2dcontour": [
           {
            "colorbar": {
             "outlinewidth": 0,
             "ticks": ""
            },
            "colorscale": [
             [
              0,
              "#0d0887"
             ],
             [
              0.1111111111111111,
              "#46039f"
             ],
             [
              0.2222222222222222,
              "#7201a8"
             ],
             [
              0.3333333333333333,
              "#9c179e"
             ],
             [
              0.4444444444444444,
              "#bd3786"
             ],
             [
              0.5555555555555556,
              "#d8576b"
             ],
             [
              0.6666666666666666,
              "#ed7953"
             ],
             [
              0.7777777777777778,
              "#fb9f3a"
             ],
             [
              0.8888888888888888,
              "#fdca26"
             ],
             [
              1,
              "#f0f921"
             ]
            ],
            "type": "histogram2dcontour"
           }
          ],
          "mesh3d": [
           {
            "colorbar": {
             "outlinewidth": 0,
             "ticks": ""
            },
            "type": "mesh3d"
           }
          ],
          "parcoords": [
           {
            "line": {
             "colorbar": {
              "outlinewidth": 0,
              "ticks": ""
             }
            },
            "type": "parcoords"
           }
          ],
          "pie": [
           {
            "automargin": true,
            "type": "pie"
           }
          ],
          "scatter": [
           {
            "fillpattern": {
             "fillmode": "overlay",
             "size": 10,
             "solidity": 0.2
            },
            "type": "scatter"
           }
          ],
          "scatter3d": [
           {
            "line": {
             "colorbar": {
              "outlinewidth": 0,
              "ticks": ""
             }
            },
            "marker": {
             "colorbar": {
              "outlinewidth": 0,
              "ticks": ""
             }
            },
            "type": "scatter3d"
           }
          ],
          "scattercarpet": [
           {
            "marker": {
             "colorbar": {
              "outlinewidth": 0,
              "ticks": ""
             }
            },
            "type": "scattercarpet"
           }
          ],
          "scattergeo": [
           {
            "marker": {
             "colorbar": {
              "outlinewidth": 0,
              "ticks": ""
             }
            },
            "type": "scattergeo"
           }
          ],
          "scattergl": [
           {
            "marker": {
             "colorbar": {
              "outlinewidth": 0,
              "ticks": ""
             }
            },
            "type": "scattergl"
           }
          ],
          "scattermapbox": [
           {
            "marker": {
             "colorbar": {
              "outlinewidth": 0,
              "ticks": ""
             }
            },
            "type": "scattermapbox"
           }
          ],
          "scatterpolar": [
           {
            "marker": {
             "colorbar": {
              "outlinewidth": 0,
              "ticks": ""
             }
            },
            "type": "scatterpolar"
           }
          ],
          "scatterpolargl": [
           {
            "marker": {
             "colorbar": {
              "outlinewidth": 0,
              "ticks": ""
             }
            },
            "type": "scatterpolargl"
           }
          ],
          "scatterternary": [
           {
            "marker": {
             "colorbar": {
              "outlinewidth": 0,
              "ticks": ""
             }
            },
            "type": "scatterternary"
           }
          ],
          "surface": [
           {
            "colorbar": {
             "outlinewidth": 0,
             "ticks": ""
            },
            "colorscale": [
             [
              0,
              "#0d0887"
             ],
             [
              0.1111111111111111,
              "#46039f"
             ],
             [
              0.2222222222222222,
              "#7201a8"
             ],
             [
              0.3333333333333333,
              "#9c179e"
             ],
             [
              0.4444444444444444,
              "#bd3786"
             ],
             [
              0.5555555555555556,
              "#d8576b"
             ],
             [
              0.6666666666666666,
              "#ed7953"
             ],
             [
              0.7777777777777778,
              "#fb9f3a"
             ],
             [
              0.8888888888888888,
              "#fdca26"
             ],
             [
              1,
              "#f0f921"
             ]
            ],
            "type": "surface"
           }
          ],
          "table": [
           {
            "cells": {
             "fill": {
              "color": "#EBF0F8"
             },
             "line": {
              "color": "white"
             }
            },
            "header": {
             "fill": {
              "color": "#C8D4E3"
             },
             "line": {
              "color": "white"
             }
            },
            "type": "table"
           }
          ]
         },
         "layout": {
          "annotationdefaults": {
           "arrowcolor": "#2a3f5f",
           "arrowhead": 0,
           "arrowwidth": 1
          },
          "autotypenumbers": "strict",
          "coloraxis": {
           "colorbar": {
            "outlinewidth": 0,
            "ticks": ""
           }
          },
          "colorscale": {
           "diverging": [
            [
             0,
             "#8e0152"
            ],
            [
             0.1,
             "#c51b7d"
            ],
            [
             0.2,
             "#de77ae"
            ],
            [
             0.3,
             "#f1b6da"
            ],
            [
             0.4,
             "#fde0ef"
            ],
            [
             0.5,
             "#f7f7f7"
            ],
            [
             0.6,
             "#e6f5d0"
            ],
            [
             0.7,
             "#b8e186"
            ],
            [
             0.8,
             "#7fbc41"
            ],
            [
             0.9,
             "#4d9221"
            ],
            [
             1,
             "#276419"
            ]
           ],
           "sequential": [
            [
             0,
             "#0d0887"
            ],
            [
             0.1111111111111111,
             "#46039f"
            ],
            [
             0.2222222222222222,
             "#7201a8"
            ],
            [
             0.3333333333333333,
             "#9c179e"
            ],
            [
             0.4444444444444444,
             "#bd3786"
            ],
            [
             0.5555555555555556,
             "#d8576b"
            ],
            [
             0.6666666666666666,
             "#ed7953"
            ],
            [
             0.7777777777777778,
             "#fb9f3a"
            ],
            [
             0.8888888888888888,
             "#fdca26"
            ],
            [
             1,
             "#f0f921"
            ]
           ],
           "sequentialminus": [
            [
             0,
             "#0d0887"
            ],
            [
             0.1111111111111111,
             "#46039f"
            ],
            [
             0.2222222222222222,
             "#7201a8"
            ],
            [
             0.3333333333333333,
             "#9c179e"
            ],
            [
             0.4444444444444444,
             "#bd3786"
            ],
            [
             0.5555555555555556,
             "#d8576b"
            ],
            [
             0.6666666666666666,
             "#ed7953"
            ],
            [
             0.7777777777777778,
             "#fb9f3a"
            ],
            [
             0.8888888888888888,
             "#fdca26"
            ],
            [
             1,
             "#f0f921"
            ]
           ]
          },
          "colorway": [
           "#636efa",
           "#EF553B",
           "#00cc96",
           "#ab63fa",
           "#FFA15A",
           "#19d3f3",
           "#FF6692",
           "#B6E880",
           "#FF97FF",
           "#FECB52"
          ],
          "font": {
           "color": "#2a3f5f"
          },
          "geo": {
           "bgcolor": "white",
           "lakecolor": "white",
           "landcolor": "#E5ECF6",
           "showlakes": true,
           "showland": true,
           "subunitcolor": "white"
          },
          "hoverlabel": {
           "align": "left"
          },
          "hovermode": "closest",
          "mapbox": {
           "style": "light"
          },
          "paper_bgcolor": "white",
          "plot_bgcolor": "#E5ECF6",
          "polar": {
           "angularaxis": {
            "gridcolor": "white",
            "linecolor": "white",
            "ticks": ""
           },
           "bgcolor": "#E5ECF6",
           "radialaxis": {
            "gridcolor": "white",
            "linecolor": "white",
            "ticks": ""
           }
          },
          "scene": {
           "xaxis": {
            "backgroundcolor": "#E5ECF6",
            "gridcolor": "white",
            "gridwidth": 2,
            "linecolor": "white",
            "showbackground": true,
            "ticks": "",
            "zerolinecolor": "white"
           },
           "yaxis": {
            "backgroundcolor": "#E5ECF6",
            "gridcolor": "white",
            "gridwidth": 2,
            "linecolor": "white",
            "showbackground": true,
            "ticks": "",
            "zerolinecolor": "white"
           },
           "zaxis": {
            "backgroundcolor": "#E5ECF6",
            "gridcolor": "white",
            "gridwidth": 2,
            "linecolor": "white",
            "showbackground": true,
            "ticks": "",
            "zerolinecolor": "white"
           }
          },
          "shapedefaults": {
           "line": {
            "color": "#2a3f5f"
           }
          },
          "ternary": {
           "aaxis": {
            "gridcolor": "white",
            "linecolor": "white",
            "ticks": ""
           },
           "baxis": {
            "gridcolor": "white",
            "linecolor": "white",
            "ticks": ""
           },
           "bgcolor": "#E5ECF6",
           "caxis": {
            "gridcolor": "white",
            "linecolor": "white",
            "ticks": ""
           }
          },
          "title": {
           "x": 0.05
          },
          "xaxis": {
           "automargin": true,
           "gridcolor": "white",
           "linecolor": "white",
           "ticks": "",
           "title": {
            "standoff": 15
           },
           "zerolinecolor": "white",
           "zerolinewidth": 2
          },
          "yaxis": {
           "automargin": true,
           "gridcolor": "white",
           "linecolor": "white",
           "ticks": "",
           "title": {
            "standoff": 15
           },
           "zerolinecolor": "white",
           "zerolinewidth": 2
          }
         }
        },
        "title": {
         "text": "Average price per province"
        },
        "updatemenus": [
         {
          "buttons": [
           {
            "args": [
             {},
             {
              "xaxis": {
               "categoryarray": [
                "Brussels",
                "West Flanders",
                "Walloon Brabant",
                "Flemish Brabant",
                "Antwerp",
                "East Flanders",
                "Limburg",
                "Luxembourg",
                "Liège",
                "Namur",
                "Hainaut"
               ]
              }
             }
            ],
            "label": "Sale",
            "method": "update"
           },
           {
            "args": [
             {},
             {
              "xaxis": {
               "categoryarray": [
                "Brussels",
                "Flemish Brabant",
                "Antwerp",
                "Walloon Brabant",
                "Limburg",
                "West Flanders",
                "East Flanders",
                "Luxembourg",
                "Liège",
                "Hainaut",
                "Namur"
               ]
              }
             }
            ],
            "label": "Rent",
            "method": "update"
           }
          ]
         }
        ],
        "width": 800,
        "xaxis": {
         "categoryorder": "array"
        },
        "yaxis": {
         "color": "rgb(229, 134, 6)",
         "gridcolor": "rgb(229, 134, 6)",
         "title": {
          "text": "Sale price in €"
         }
        },
        "yaxis2": {
         "color": "rgb(93, 105, 177)",
         "gridcolor": "rgb(93, 105, 177)",
         "overlaying": "y",
         "side": "right",
         "title": {
          "text": "Monthly rent in €"
         }
        }
       }
      }
     },
     "metadata": {},
     "output_type": "display_data"
    }
   ],
   "source": [
    "fig = go.Figure()\n",
    "colors = px.colors.qualitative.Vivid\n",
    "fig.add_trace(\n",
    "    go.Bar(\n",
    "        x=price_sale_province['Province'],\n",
    "        y=price_sale_province['Price'],\n",
    "        name='Sale',\n",
    "        offsetgroup=1,\n",
    "        marker=dict(\n",
    "            color=colors[0]\n",
    "        )\n",
    "    )\n",
    ")\n",
    "fig.add_trace(\n",
    "    go.Bar(\n",
    "        x=price_rent_province['Province'],\n",
    "        y=price_rent_province['Price'],\n",
    "        name='Rent',\n",
    "        yaxis='y2',\n",
    "        offsetgroup=2,\n",
    "        marker=dict(\n",
    "            color=colors[1]\n",
    "        )\n",
    "    )\n",
    ")\n",
    "fig.update_traces(\n",
    "    hovertemplate='<b>%{y:,.0f} €</b>',   \n",
    ")\n",
    "buttons=[\n",
    "    dict(\n",
    "        label=\"Sale\",\n",
    "        method=\"update\",\n",
    "        args=[{},dict(\n",
    "            xaxis=dict(\n",
    "                categoryarray=price_sale_province['Province']\n",
    "            )   \n",
    "        )]\n",
    "    ),\n",
    "    dict(\n",
    "        label=\"Rent\",\n",
    "        method=\"update\",\n",
    "        args=[{},dict(\n",
    "            xaxis=dict(\n",
    "                categoryarray=price_rent_province['Province']\n",
    "            )   \n",
    "        )]\n",
    "    )\n",
    "]\n",
    "fig.update_layout(\n",
    "    title='Average price per province',\n",
    "    width = 800,\n",
    "    updatemenus=[dict(\n",
    "        buttons=buttons\n",
    "    )],\n",
    "    legend=dict(\n",
    "        x=0.5,\n",
    "        y=1.1,\n",
    "        orientation='h',\n",
    "        xanchor='center'\n",
    "    ),\n",
    "    yaxis=dict(\n",
    "        gridcolor=colors[0],\n",
    "        color=colors[0],\n",
    "        title='Sale price in €'\n",
    "    ),\n",
    "    yaxis2=dict(\n",
    "        overlaying='y',\n",
    "        side='right',\n",
    "        gridcolor=colors[1],\n",
    "        color=colors[1],\n",
    "        title='Monthly rent in €'\n",
    "    ),\n",
    "    xaxis=dict(\n",
    "        categoryorder='array',\n",
    "    ),\n",
    "    bargap=0.1,\n",
    "    bargroupgap=0.05,\n",
    "    hovermode='x unified',\n",
    ")\n",
    "fig.show()"
   ]
  },
  {
   "cell_type": "markdown",
   "metadata": {},
   "source": [
    "#### Price/District"
   ]
  },
  {
   "cell_type": "code",
   "execution_count": 13,
   "metadata": {},
   "outputs": [],
   "source": [
    "price_sale_district = sale_data.groupby(\"District\", as_index=False)[[\"Price\"]].mean().round().sort_values(\"Price\",ascending=False)\n",
    "price_rent_district = rent_data.groupby(\"District\", as_index=False)[[\"Price\"]].mean().round().sort_values(\"Price\",ascending=False)"
   ]
  },
  {
   "cell_type": "code",
   "execution_count": 14,
   "metadata": {},
   "outputs": [
    {
     "data": {
      "application/vnd.plotly.v1+json": {
       "config": {
        "plotlyServerURL": "https://plot.ly"
       },
       "data": [
        {
         "hovertemplate": "<b>%{y:,.0f} €</b>",
         "marker": {
          "color": "rgb(229, 134, 6)"
         },
         "name": "Sale",
         "offsetgroup": "1",
         "type": "bar",
         "x": [
          "Brugge",
          "Brussels",
          "Nivelles",
          "Antwerp",
          "Halle-Vilvoorde",
          "Gent",
          "Leuven",
          "Veurne",
          "Mechelen",
          "Dendermonde",
          "Oudenaarde",
          "Turnhout",
          "Sint-Niklaas",
          "Maaseik",
          "Hasselt",
          "Aalst",
          "Bastogne",
          "Eeklo",
          "Arlon",
          "Tielt",
          "Kortrijk",
          "Oostend",
          "Marche-en-Famenne",
          "Verviers",
          "Tongeren",
          "Diksmuide",
          "Roeselare",
          "Waremme",
          "Namur",
          "Ieper",
          "Tournai",
          "Virton",
          "Neufchâteau",
          "Huy",
          "Liège",
          "Ath",
          "Dinant",
          "Soignies",
          "Mouscron",
          "Thuin",
          "Mons",
          "Philippeville",
          "Charleroi"
         ],
         "y": [
          874474,
          551392,
          510634,
          491936,
          482916,
          468908,
          466805,
          447567,
          430403,
          402357,
          392105,
          389592,
          389165,
          383998,
          377084,
          375443,
          369591,
          369308,
          369069,
          361355,
          358548,
          357561,
          351444,
          350448,
          344501,
          342613,
          331161,
          329826,
          327423,
          323992,
          321571,
          315647,
          313705,
          306542,
          300672,
          292446,
          284375,
          283260,
          276561,
          254031,
          250152,
          244663,
          240379
         ]
        },
        {
         "hovertemplate": "<b>%{y:,.0f} €</b>",
         "marker": {
          "color": "rgb(93, 105, 177)"
         },
         "name": "Rent",
         "offsetgroup": "2",
         "type": "bar",
         "x": [
          "Halle-Vilvoorde",
          "Brussels",
          "Antwerp",
          "Brugge",
          "Nivelles",
          "Leuven",
          "Hasselt",
          "Neufchâteau",
          "Waremme",
          "Gent",
          "Arlon",
          "Mechelen",
          "Dendermonde",
          "Turnhout",
          "Ath",
          "Maaseik",
          "Sint-Niklaas",
          "Tongeren",
          "Soignies",
          "Veurne",
          "Virton",
          "Mons",
          "Aalst",
          "Liège",
          "Dinant",
          "Kortrijk",
          "Oostend",
          "Marche-en-Famenne",
          "Verviers",
          "Oudenaarde",
          "Huy",
          "Roeselare",
          "Thuin",
          "Eeklo",
          "Diksmuide",
          "Namur",
          "Mouscron",
          "Tielt",
          "Bastogne",
          "Charleroi",
          "Tournai",
          "Philippeville",
          "Ieper"
         ],
         "y": [
          2814,
          2344,
          2248,
          1473,
          1454,
          1284,
          1282,
          1114,
          1081,
          1056,
          1047,
          1015,
          971,
          968,
          948,
          942,
          941,
          922,
          920,
          901,
          896,
          891,
          886,
          882,
          875,
          874,
          874,
          849,
          840,
          838,
          824,
          824,
          818,
          817,
          816,
          797,
          795,
          793,
          770,
          765,
          752,
          726,
          715
         ],
         "yaxis": "y2"
        }
       ],
       "layout": {
        "bargap": 0.1,
        "bargroupgap": 0.05,
        "hovermode": "x unified",
        "legend": {
         "orientation": "h",
         "x": 0.5,
         "xanchor": "center",
         "y": 1.15
        },
        "template": {
         "data": {
          "bar": [
           {
            "error_x": {
             "color": "#2a3f5f"
            },
            "error_y": {
             "color": "#2a3f5f"
            },
            "marker": {
             "line": {
              "color": "#E5ECF6",
              "width": 0.5
             },
             "pattern": {
              "fillmode": "overlay",
              "size": 10,
              "solidity": 0.2
             }
            },
            "type": "bar"
           }
          ],
          "barpolar": [
           {
            "marker": {
             "line": {
              "color": "#E5ECF6",
              "width": 0.5
             },
             "pattern": {
              "fillmode": "overlay",
              "size": 10,
              "solidity": 0.2
             }
            },
            "type": "barpolar"
           }
          ],
          "carpet": [
           {
            "aaxis": {
             "endlinecolor": "#2a3f5f",
             "gridcolor": "white",
             "linecolor": "white",
             "minorgridcolor": "white",
             "startlinecolor": "#2a3f5f"
            },
            "baxis": {
             "endlinecolor": "#2a3f5f",
             "gridcolor": "white",
             "linecolor": "white",
             "minorgridcolor": "white",
             "startlinecolor": "#2a3f5f"
            },
            "type": "carpet"
           }
          ],
          "choropleth": [
           {
            "colorbar": {
             "outlinewidth": 0,
             "ticks": ""
            },
            "type": "choropleth"
           }
          ],
          "contour": [
           {
            "colorbar": {
             "outlinewidth": 0,
             "ticks": ""
            },
            "colorscale": [
             [
              0,
              "#0d0887"
             ],
             [
              0.1111111111111111,
              "#46039f"
             ],
             [
              0.2222222222222222,
              "#7201a8"
             ],
             [
              0.3333333333333333,
              "#9c179e"
             ],
             [
              0.4444444444444444,
              "#bd3786"
             ],
             [
              0.5555555555555556,
              "#d8576b"
             ],
             [
              0.6666666666666666,
              "#ed7953"
             ],
             [
              0.7777777777777778,
              "#fb9f3a"
             ],
             [
              0.8888888888888888,
              "#fdca26"
             ],
             [
              1,
              "#f0f921"
             ]
            ],
            "type": "contour"
           }
          ],
          "contourcarpet": [
           {
            "colorbar": {
             "outlinewidth": 0,
             "ticks": ""
            },
            "type": "contourcarpet"
           }
          ],
          "heatmap": [
           {
            "colorbar": {
             "outlinewidth": 0,
             "ticks": ""
            },
            "colorscale": [
             [
              0,
              "#0d0887"
             ],
             [
              0.1111111111111111,
              "#46039f"
             ],
             [
              0.2222222222222222,
              "#7201a8"
             ],
             [
              0.3333333333333333,
              "#9c179e"
             ],
             [
              0.4444444444444444,
              "#bd3786"
             ],
             [
              0.5555555555555556,
              "#d8576b"
             ],
             [
              0.6666666666666666,
              "#ed7953"
             ],
             [
              0.7777777777777778,
              "#fb9f3a"
             ],
             [
              0.8888888888888888,
              "#fdca26"
             ],
             [
              1,
              "#f0f921"
             ]
            ],
            "type": "heatmap"
           }
          ],
          "heatmapgl": [
           {
            "colorbar": {
             "outlinewidth": 0,
             "ticks": ""
            },
            "colorscale": [
             [
              0,
              "#0d0887"
             ],
             [
              0.1111111111111111,
              "#46039f"
             ],
             [
              0.2222222222222222,
              "#7201a8"
             ],
             [
              0.3333333333333333,
              "#9c179e"
             ],
             [
              0.4444444444444444,
              "#bd3786"
             ],
             [
              0.5555555555555556,
              "#d8576b"
             ],
             [
              0.6666666666666666,
              "#ed7953"
             ],
             [
              0.7777777777777778,
              "#fb9f3a"
             ],
             [
              0.8888888888888888,
              "#fdca26"
             ],
             [
              1,
              "#f0f921"
             ]
            ],
            "type": "heatmapgl"
           }
          ],
          "histogram": [
           {
            "marker": {
             "pattern": {
              "fillmode": "overlay",
              "size": 10,
              "solidity": 0.2
             }
            },
            "type": "histogram"
           }
          ],
          "histogram2d": [
           {
            "colorbar": {
             "outlinewidth": 0,
             "ticks": ""
            },
            "colorscale": [
             [
              0,
              "#0d0887"
             ],
             [
              0.1111111111111111,
              "#46039f"
             ],
             [
              0.2222222222222222,
              "#7201a8"
             ],
             [
              0.3333333333333333,
              "#9c179e"
             ],
             [
              0.4444444444444444,
              "#bd3786"
             ],
             [
              0.5555555555555556,
              "#d8576b"
             ],
             [
              0.6666666666666666,
              "#ed7953"
             ],
             [
              0.7777777777777778,
              "#fb9f3a"
             ],
             [
              0.8888888888888888,
              "#fdca26"
             ],
             [
              1,
              "#f0f921"
             ]
            ],
            "type": "histogram2d"
           }
          ],
          "histogram2dcontour": [
           {
            "colorbar": {
             "outlinewidth": 0,
             "ticks": ""
            },
            "colorscale": [
             [
              0,
              "#0d0887"
             ],
             [
              0.1111111111111111,
              "#46039f"
             ],
             [
              0.2222222222222222,
              "#7201a8"
             ],
             [
              0.3333333333333333,
              "#9c179e"
             ],
             [
              0.4444444444444444,
              "#bd3786"
             ],
             [
              0.5555555555555556,
              "#d8576b"
             ],
             [
              0.6666666666666666,
              "#ed7953"
             ],
             [
              0.7777777777777778,
              "#fb9f3a"
             ],
             [
              0.8888888888888888,
              "#fdca26"
             ],
             [
              1,
              "#f0f921"
             ]
            ],
            "type": "histogram2dcontour"
           }
          ],
          "mesh3d": [
           {
            "colorbar": {
             "outlinewidth": 0,
             "ticks": ""
            },
            "type": "mesh3d"
           }
          ],
          "parcoords": [
           {
            "line": {
             "colorbar": {
              "outlinewidth": 0,
              "ticks": ""
             }
            },
            "type": "parcoords"
           }
          ],
          "pie": [
           {
            "automargin": true,
            "type": "pie"
           }
          ],
          "scatter": [
           {
            "fillpattern": {
             "fillmode": "overlay",
             "size": 10,
             "solidity": 0.2
            },
            "type": "scatter"
           }
          ],
          "scatter3d": [
           {
            "line": {
             "colorbar": {
              "outlinewidth": 0,
              "ticks": ""
             }
            },
            "marker": {
             "colorbar": {
              "outlinewidth": 0,
              "ticks": ""
             }
            },
            "type": "scatter3d"
           }
          ],
          "scattercarpet": [
           {
            "marker": {
             "colorbar": {
              "outlinewidth": 0,
              "ticks": ""
             }
            },
            "type": "scattercarpet"
           }
          ],
          "scattergeo": [
           {
            "marker": {
             "colorbar": {
              "outlinewidth": 0,
              "ticks": ""
             }
            },
            "type": "scattergeo"
           }
          ],
          "scattergl": [
           {
            "marker": {
             "colorbar": {
              "outlinewidth": 0,
              "ticks": ""
             }
            },
            "type": "scattergl"
           }
          ],
          "scattermapbox": [
           {
            "marker": {
             "colorbar": {
              "outlinewidth": 0,
              "ticks": ""
             }
            },
            "type": "scattermapbox"
           }
          ],
          "scatterpolar": [
           {
            "marker": {
             "colorbar": {
              "outlinewidth": 0,
              "ticks": ""
             }
            },
            "type": "scatterpolar"
           }
          ],
          "scatterpolargl": [
           {
            "marker": {
             "colorbar": {
              "outlinewidth": 0,
              "ticks": ""
             }
            },
            "type": "scatterpolargl"
           }
          ],
          "scatterternary": [
           {
            "marker": {
             "colorbar": {
              "outlinewidth": 0,
              "ticks": ""
             }
            },
            "type": "scatterternary"
           }
          ],
          "surface": [
           {
            "colorbar": {
             "outlinewidth": 0,
             "ticks": ""
            },
            "colorscale": [
             [
              0,
              "#0d0887"
             ],
             [
              0.1111111111111111,
              "#46039f"
             ],
             [
              0.2222222222222222,
              "#7201a8"
             ],
             [
              0.3333333333333333,
              "#9c179e"
             ],
             [
              0.4444444444444444,
              "#bd3786"
             ],
             [
              0.5555555555555556,
              "#d8576b"
             ],
             [
              0.6666666666666666,
              "#ed7953"
             ],
             [
              0.7777777777777778,
              "#fb9f3a"
             ],
             [
              0.8888888888888888,
              "#fdca26"
             ],
             [
              1,
              "#f0f921"
             ]
            ],
            "type": "surface"
           }
          ],
          "table": [
           {
            "cells": {
             "fill": {
              "color": "#EBF0F8"
             },
             "line": {
              "color": "white"
             }
            },
            "header": {
             "fill": {
              "color": "#C8D4E3"
             },
             "line": {
              "color": "white"
             }
            },
            "type": "table"
           }
          ]
         },
         "layout": {
          "annotationdefaults": {
           "arrowcolor": "#2a3f5f",
           "arrowhead": 0,
           "arrowwidth": 1
          },
          "autotypenumbers": "strict",
          "coloraxis": {
           "colorbar": {
            "outlinewidth": 0,
            "ticks": ""
           }
          },
          "colorscale": {
           "diverging": [
            [
             0,
             "#8e0152"
            ],
            [
             0.1,
             "#c51b7d"
            ],
            [
             0.2,
             "#de77ae"
            ],
            [
             0.3,
             "#f1b6da"
            ],
            [
             0.4,
             "#fde0ef"
            ],
            [
             0.5,
             "#f7f7f7"
            ],
            [
             0.6,
             "#e6f5d0"
            ],
            [
             0.7,
             "#b8e186"
            ],
            [
             0.8,
             "#7fbc41"
            ],
            [
             0.9,
             "#4d9221"
            ],
            [
             1,
             "#276419"
            ]
           ],
           "sequential": [
            [
             0,
             "#0d0887"
            ],
            [
             0.1111111111111111,
             "#46039f"
            ],
            [
             0.2222222222222222,
             "#7201a8"
            ],
            [
             0.3333333333333333,
             "#9c179e"
            ],
            [
             0.4444444444444444,
             "#bd3786"
            ],
            [
             0.5555555555555556,
             "#d8576b"
            ],
            [
             0.6666666666666666,
             "#ed7953"
            ],
            [
             0.7777777777777778,
             "#fb9f3a"
            ],
            [
             0.8888888888888888,
             "#fdca26"
            ],
            [
             1,
             "#f0f921"
            ]
           ],
           "sequentialminus": [
            [
             0,
             "#0d0887"
            ],
            [
             0.1111111111111111,
             "#46039f"
            ],
            [
             0.2222222222222222,
             "#7201a8"
            ],
            [
             0.3333333333333333,
             "#9c179e"
            ],
            [
             0.4444444444444444,
             "#bd3786"
            ],
            [
             0.5555555555555556,
             "#d8576b"
            ],
            [
             0.6666666666666666,
             "#ed7953"
            ],
            [
             0.7777777777777778,
             "#fb9f3a"
            ],
            [
             0.8888888888888888,
             "#fdca26"
            ],
            [
             1,
             "#f0f921"
            ]
           ]
          },
          "colorway": [
           "#636efa",
           "#EF553B",
           "#00cc96",
           "#ab63fa",
           "#FFA15A",
           "#19d3f3",
           "#FF6692",
           "#B6E880",
           "#FF97FF",
           "#FECB52"
          ],
          "font": {
           "color": "#2a3f5f"
          },
          "geo": {
           "bgcolor": "white",
           "lakecolor": "white",
           "landcolor": "#E5ECF6",
           "showlakes": true,
           "showland": true,
           "subunitcolor": "white"
          },
          "hoverlabel": {
           "align": "left"
          },
          "hovermode": "closest",
          "mapbox": {
           "style": "light"
          },
          "paper_bgcolor": "white",
          "plot_bgcolor": "#E5ECF6",
          "polar": {
           "angularaxis": {
            "gridcolor": "white",
            "linecolor": "white",
            "ticks": ""
           },
           "bgcolor": "#E5ECF6",
           "radialaxis": {
            "gridcolor": "white",
            "linecolor": "white",
            "ticks": ""
           }
          },
          "scene": {
           "xaxis": {
            "backgroundcolor": "#E5ECF6",
            "gridcolor": "white",
            "gridwidth": 2,
            "linecolor": "white",
            "showbackground": true,
            "ticks": "",
            "zerolinecolor": "white"
           },
           "yaxis": {
            "backgroundcolor": "#E5ECF6",
            "gridcolor": "white",
            "gridwidth": 2,
            "linecolor": "white",
            "showbackground": true,
            "ticks": "",
            "zerolinecolor": "white"
           },
           "zaxis": {
            "backgroundcolor": "#E5ECF6",
            "gridcolor": "white",
            "gridwidth": 2,
            "linecolor": "white",
            "showbackground": true,
            "ticks": "",
            "zerolinecolor": "white"
           }
          },
          "shapedefaults": {
           "line": {
            "color": "#2a3f5f"
           }
          },
          "ternary": {
           "aaxis": {
            "gridcolor": "white",
            "linecolor": "white",
            "ticks": ""
           },
           "baxis": {
            "gridcolor": "white",
            "linecolor": "white",
            "ticks": ""
           },
           "bgcolor": "#E5ECF6",
           "caxis": {
            "gridcolor": "white",
            "linecolor": "white",
            "ticks": ""
           }
          },
          "title": {
           "x": 0.05
          },
          "xaxis": {
           "automargin": true,
           "gridcolor": "white",
           "linecolor": "white",
           "ticks": "",
           "title": {
            "standoff": 15
           },
           "zerolinecolor": "white",
           "zerolinewidth": 2
          },
          "yaxis": {
           "automargin": true,
           "gridcolor": "white",
           "linecolor": "white",
           "ticks": "",
           "title": {
            "standoff": 15
           },
           "zerolinecolor": "white",
           "zerolinewidth": 2
          }
         }
        },
        "title": {
         "text": "Average price per district"
        },
        "updatemenus": [
         {
          "buttons": [
           {
            "args": [
             {},
             {
              "xaxis": {
               "categoryarray": [
                "Brugge",
                "Brussels",
                "Nivelles",
                "Antwerp",
                "Halle-Vilvoorde",
                "Gent",
                "Leuven",
                "Veurne",
                "Mechelen",
                "Dendermonde",
                "Oudenaarde",
                "Turnhout",
                "Sint-Niklaas",
                "Maaseik",
                "Hasselt",
                "Aalst",
                "Bastogne",
                "Eeklo",
                "Arlon",
                "Tielt",
                "Kortrijk",
                "Oostend",
                "Marche-en-Famenne",
                "Verviers",
                "Tongeren",
                "Diksmuide",
                "Roeselare",
                "Waremme",
                "Namur",
                "Ieper",
                "Tournai",
                "Virton",
                "Neufchâteau",
                "Huy",
                "Liège",
                "Ath",
                "Dinant",
                "Soignies",
                "Mouscron",
                "Thuin",
                "Mons",
                "Philippeville",
                "Charleroi"
               ]
              }
             }
            ],
            "label": "Sale",
            "method": "update"
           },
           {
            "args": [
             {},
             {
              "xaxis": {
               "categoryarray": [
                "Halle-Vilvoorde",
                "Brussels",
                "Antwerp",
                "Brugge",
                "Nivelles",
                "Leuven",
                "Hasselt",
                "Neufchâteau",
                "Waremme",
                "Gent",
                "Arlon",
                "Mechelen",
                "Dendermonde",
                "Turnhout",
                "Ath",
                "Maaseik",
                "Sint-Niklaas",
                "Tongeren",
                "Soignies",
                "Veurne",
                "Virton",
                "Mons",
                "Aalst",
                "Liège",
                "Dinant",
                "Kortrijk",
                "Oostend",
                "Marche-en-Famenne",
                "Verviers",
                "Oudenaarde",
                "Huy",
                "Roeselare",
                "Thuin",
                "Eeklo",
                "Diksmuide",
                "Namur",
                "Mouscron",
                "Tielt",
                "Bastogne",
                "Charleroi",
                "Tournai",
                "Philippeville",
                "Ieper"
               ]
              }
             }
            ],
            "label": "Rent",
            "method": "update"
           }
          ]
         }
        ],
        "width": 800,
        "xaxis": {
         "categoryorder": "array"
        },
        "yaxis": {
         "color": "rgb(229, 134, 6)",
         "gridcolor": "rgb(229, 134, 6)",
         "title": {
          "text": "Sale price in €"
         }
        },
        "yaxis2": {
         "color": "rgb(93, 105, 177)",
         "gridcolor": "rgb(93, 105, 177)",
         "overlaying": "y",
         "side": "right",
         "title": {
          "text": "Monthly rent in €"
         }
        }
       }
      }
     },
     "metadata": {},
     "output_type": "display_data"
    }
   ],
   "source": [
    "fig = go.Figure()\n",
    "colors = px.colors.qualitative.Vivid\n",
    "fig.add_trace(\n",
    "    go.Bar(\n",
    "        x=price_sale_district['District'],\n",
    "        y=price_sale_district['Price'],\n",
    "        name='Sale',\n",
    "        offsetgroup=1,\n",
    "        marker=dict(\n",
    "            color=colors[0]\n",
    "        )\n",
    "    )\n",
    ")\n",
    "fig.add_trace(\n",
    "    go.Bar(\n",
    "        x=price_rent_district['District'],\n",
    "        y=price_rent_district['Price'],\n",
    "        name='Rent',\n",
    "        yaxis='y2',\n",
    "        offsetgroup=2,\n",
    "        marker=dict(\n",
    "            color=colors[1]\n",
    "        )\n",
    "    )\n",
    ")\n",
    "fig.update_traces(\n",
    "    hovertemplate='<b>%{y:,.0f} €</b>',   \n",
    ")\n",
    "buttons=[\n",
    "    dict(\n",
    "        label=\"Sale\",\n",
    "        method=\"update\",\n",
    "        args=[{},dict(\n",
    "            xaxis=dict(\n",
    "                categoryarray=price_sale_district['District']\n",
    "            )   \n",
    "        )]\n",
    "    ),\n",
    "    dict(\n",
    "        label=\"Rent\",\n",
    "        method=\"update\",\n",
    "        args=[{},dict(\n",
    "            xaxis=dict(\n",
    "                categoryarray=price_rent_district['District']\n",
    "            )   \n",
    "        )]\n",
    "    )\n",
    "]\n",
    "fig.update_layout(\n",
    "    title='Average price per district',\n",
    "    width = 800,\n",
    "    updatemenus=[dict(\n",
    "        buttons=buttons\n",
    "    )],\n",
    "    legend=dict(\n",
    "        x=0.5,\n",
    "        y=1.15,\n",
    "        orientation='h',\n",
    "        xanchor='center'\n",
    "    ),\n",
    "    yaxis=dict(\n",
    "        gridcolor=colors[0],\n",
    "        color=colors[0],\n",
    "        title='Sale price in €'\n",
    "    ),\n",
    "    yaxis2=dict(\n",
    "        overlaying='y',\n",
    "        side='right',\n",
    "        gridcolor=colors[1],\n",
    "        color=colors[1],\n",
    "        title='Monthly rent in €'\n",
    "    ),\n",
    "    xaxis=dict(\n",
    "        categoryorder='array',\n",
    "    ),\n",
    "    bargap=0.1,\n",
    "    bargroupgap=0.05,\n",
    "    hovermode='x unified',\n",
    ")\n",
    "fig.show()"
   ]
  },
  {
   "cell_type": "markdown",
   "metadata": {},
   "source": [
    "### Price per m2"
   ]
  },
  {
   "cell_type": "markdown",
   "metadata": {},
   "source": [
    "#### Per Region"
   ]
  },
  {
   "cell_type": "code",
   "execution_count": 15,
   "metadata": {},
   "outputs": [
    {
     "data": {
      "text/plain": [
       "<Axes: xlabel='Region'>"
      ]
     },
     "execution_count": 15,
     "metadata": {},
     "output_type": "execute_result"
    },
    {
     "data": {
      "image/png": "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",
      "text/plain": [
       "<Figure size 640x480 with 1 Axes>"
      ]
     },
     "metadata": {},
     "output_type": "display_data"
    }
   ],
   "source": [
    "region_price = sale_data.groupby(\"Region\")[[\"Price\"]].sum()\n",
    "region_livingarea = sale_data.groupby(\"Region\")[[\"LivingArea\"]].sum()\n",
    "region_m2_price = pd.merge(region_price,region_livingarea,on=\"Region\")\n",
    "region_m2_price[\"€/m2\"] = region_m2_price[\"Price\"] / region_m2_price[\"LivingArea\"]\n",
    "region_m2_price = region_m2_price.reset_index()\n",
    "region_m2_price.plot.bar(x=\"Region\",y=\"€/m2\")"
   ]
  },
  {
   "cell_type": "markdown",
   "metadata": {},
   "source": [
    "#### Per Province"
   ]
  },
  {
   "cell_type": "code",
   "execution_count": 16,
   "metadata": {},
   "outputs": [
    {
     "data": {
      "text/plain": [
       "<Axes: xlabel='Province'>"
      ]
     },
     "execution_count": 16,
     "metadata": {},
     "output_type": "execute_result"
    },
    {
     "data": {
      "image/png": "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",
      "text/plain": [
       "<Figure size 640x480 with 1 Axes>"
      ]
     },
     "metadata": {},
     "output_type": "display_data"
    }
   ],
   "source": [
    "province_price = sale_data.groupby(\"Province\",as_index=False)[[\"Price\"]].sum()\n",
    "province_livingarea = sale_data.groupby(\"Province\",as_index=False)[[\"LivingArea\"]].sum()\n",
    "province_m2_price = pd.merge(province_price,province_livingarea,on=\"Province\")\n",
    "province_m2_price[\"€/m2\"] = province_m2_price[\"Price\"] / province_m2_price[\"LivingArea\"]\n",
    "province_m2_price.plot.bar(x=\"Province\",y=\"€/m2\")"
   ]
  },
  {
   "cell_type": "markdown",
   "metadata": {},
   "source": [
    "#### Per District"
   ]
  },
  {
   "cell_type": "code",
   "execution_count": 17,
   "metadata": {},
   "outputs": [
    {
     "data": {
      "text/plain": [
       "<Axes: xlabel='District'>"
      ]
     },
     "execution_count": 17,
     "metadata": {},
     "output_type": "execute_result"
    },
    {
     "data": {
      "image/png": "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",
      "text/plain": [
       "<Figure size 640x480 with 1 Axes>"
      ]
     },
     "metadata": {},
     "output_type": "display_data"
    }
   ],
   "source": [
    "district_price = sale_data.groupby(\"District\",as_index=False)[[\"Price\"]].sum()\n",
    "district_livingarea = sale_data.groupby(\"District\",as_index=False)[[\"LivingArea\"]].sum()\n",
    "district_m2_price = pd.merge(district_price,district_livingarea,on=\"District\")\n",
    "district_m2_price[\"€/m2\"] = district_m2_price[\"Price\"] / district_m2_price[\"LivingArea\"]\n",
    "district_m2_price.plot.bar(x=\"District\",y=\"€/m2\")"
   ]
  },
  {
   "cell_type": "code",
   "execution_count": 18,
   "metadata": {},
   "outputs": [
    {
     "data": {
      "text/html": [
       "<div>\n",
       "<style scoped>\n",
       "    .dataframe tbody tr th:only-of-type {\n",
       "        vertical-align: middle;\n",
       "    }\n",
       "\n",
       "    .dataframe tbody tr th {\n",
       "        vertical-align: top;\n",
       "    }\n",
       "\n",
       "    .dataframe thead th {\n",
       "        text-align: right;\n",
       "    }\n",
       "</style>\n",
       "<table border=\"1\" class=\"dataframe\">\n",
       "  <thead>\n",
       "    <tr style=\"text-align: right;\">\n",
       "      <th></th>\n",
       "      <th>Url</th>\n",
       "      <th>BathroomCount</th>\n",
       "      <th>BedroomCount</th>\n",
       "      <th>ConstructionYear</th>\n",
       "      <th>Country</th>\n",
       "      <th>District</th>\n",
       "      <th>Fireplace</th>\n",
       "      <th>FloodingZone</th>\n",
       "      <th>Furnished</th>\n",
       "      <th>Garden</th>\n",
       "      <th>GardenArea</th>\n",
       "      <th>Kitchen</th>\n",
       "      <th>LivingArea</th>\n",
       "      <th>Locality</th>\n",
       "      <th>MonthlyCharges</th>\n",
       "      <th>NumberOfFacades</th>\n",
       "      <th>PEB</th>\n",
       "      <th>PostalCode</th>\n",
       "      <th>Price</th>\n",
       "      <th>PropertyId</th>\n",
       "      <th>Province</th>\n",
       "      <th>Region</th>\n",
       "      <th>RoomCount</th>\n",
       "      <th>ShowerCount</th>\n",
       "      <th>StateOfBuilding</th>\n",
       "      <th>SubtypeOfProperty</th>\n",
       "      <th>SurfaceOfPlot</th>\n",
       "      <th>SwimmingPool</th>\n",
       "      <th>Terrace</th>\n",
       "      <th>ToiletCount</th>\n",
       "      <th>TypeOfProperty</th>\n",
       "      <th>TypeOfSale</th>\n",
       "    </tr>\n",
       "  </thead>\n",
       "  <tbody>\n",
       "    <tr>\n",
       "      <th>2</th>\n",
       "      <td>https://www.immoweb.be/en/classified/apartment/for-sale/zeebrugge/8380/10957010</td>\n",
       "      <td>1.0</td>\n",
       "      <td>1</td>\n",
       "      <td>1969.0</td>\n",
       "      <td>Belgium</td>\n",
       "      <td>Brugge</td>\n",
       "      <td>0.0</td>\n",
       "      <td>None</td>\n",
       "      <td>0.0</td>\n",
       "      <td>0.0</td>\n",
       "      <td>0.0</td>\n",
       "      <td>None</td>\n",
       "      <td>29.0</td>\n",
       "      <td>Zeebrugge</td>\n",
       "      <td>NaN</td>\n",
       "      <td>NaN</td>\n",
       "      <td>None</td>\n",
       "      <td>8380</td>\n",
       "      <td>99000</td>\n",
       "      <td>10957010</td>\n",
       "      <td>West Flanders</td>\n",
       "      <td>Flanders</td>\n",
       "      <td>1.0</td>\n",
       "      <td>0.0</td>\n",
       "      <td>GOOD</td>\n",
       "      <td>flat_studio</td>\n",
       "      <td>NaN</td>\n",
       "      <td>0.0</td>\n",
       "      <td>1.0</td>\n",
       "      <td>1.0</td>\n",
       "      <td>2</td>\n",
       "      <td>residential_sale</td>\n",
       "    </tr>\n",
       "  </tbody>\n",
       "</table>\n",
       "</div>"
      ],
      "text/plain": [
       "                                                                               Url  \\\n",
       "2  https://www.immoweb.be/en/classified/apartment/for-sale/zeebrugge/8380/10957010   \n",
       "\n",
       "   BathroomCount  BedroomCount  ConstructionYear  Country District  Fireplace  \\\n",
       "2            1.0             1            1969.0  Belgium   Brugge        0.0   \n",
       "\n",
       "  FloodingZone  Furnished  Garden  GardenArea Kitchen  LivingArea   Locality  \\\n",
       "2         None        0.0     0.0         0.0    None        29.0  Zeebrugge   \n",
       "\n",
       "   MonthlyCharges  NumberOfFacades   PEB  PostalCode  Price  PropertyId  \\\n",
       "2             NaN              NaN  None        8380  99000    10957010   \n",
       "\n",
       "        Province    Region  RoomCount  ShowerCount StateOfBuilding  \\\n",
       "2  West Flanders  Flanders        1.0          0.0            GOOD   \n",
       "\n",
       "  SubtypeOfProperty  SurfaceOfPlot  SwimmingPool  Terrace  ToiletCount  \\\n",
       "2       flat_studio            NaN           0.0      1.0          1.0   \n",
       "\n",
       "   TypeOfProperty        TypeOfSale  \n",
       "2               2  residential_sale  "
      ]
     },
     "execution_count": 18,
     "metadata": {},
     "output_type": "execute_result"
    }
   ],
   "source": [
    "sale_data.head(1)"
   ]
  },
  {
   "cell_type": "code",
   "execution_count": 19,
   "metadata": {},
   "outputs": [
    {
     "data": {
      "text/plain": [
       "StateOfBuilding\n",
       "GOOD              37856\n",
       "AS_NEW            14279\n",
       "TO_RENOVATE        7303\n",
       "TO_BE_DONE_UP      5450\n",
       "JUST_RENOVATED     3908\n",
       "TO_RESTORE          431\n",
       "Name: count, dtype: int64"
      ]
     },
     "execution_count": 19,
     "metadata": {},
     "output_type": "execute_result"
    }
   ],
   "source": [
    "sale_data.StateOfBuilding.value_counts()"
   ]
  },
  {
   "cell_type": "code",
   "execution_count": 20,
   "metadata": {},
   "outputs": [
    {
     "name": "stderr",
     "output_type": "stream",
     "text": [
      "/tmp/ipykernel_38298/143399172.py:2: FutureWarning:\n",
      "\n",
      "Downcasting behavior in `replace` is deprecated and will be removed in a future version. To retain the old behavior, explicitly call `result.infer_objects(copy=False)`. To opt-in to the future behavior, set `pd.set_option('future.no_silent_downcasting', True)`\n",
      "\n"
     ]
    },
    {
     "data": {
      "text/plain": [
       "<Axes: xlabel='PEB'>"
      ]
     },
     "execution_count": 20,
     "metadata": {},
     "output_type": "execute_result"
    },
    {
     "data": {
      "image/png": "iVBORw0KGgoAAAANSUhEUgAAAhYAAAHICAYAAAASm6MRAAAAOXRFWHRTb2Z0d2FyZQBNYXRwbG90bGliIHZlcnNpb24zLjkuMSwgaHR0cHM6Ly9tYXRwbG90bGliLm9yZy/TGe4hAAAACXBIWXMAAA9hAAAPYQGoP6dpAAAvnUlEQVR4nO3dd3hU1d728XtSCIE0eiihSEIEERCUYjvAASEGRI8FUREsHKQ+ygNi8EizBDmKiGBUDEWaWIADIngURVREECkiSEeCEIKUJLQIyXr/4M08DhBgkjUzGfh+rmuui93mtzJMZt9Ze81eDmOMEQAAgAUBvm4AAAC4fBAsAACANQQLAABgDcECAABYQ7AAAADWECwAAIA1BAsAAGBNkLcL5uXlae/evQoPD5fD4fB2eQAAUAjGGGVnZ6tKlSoKCCi4X8LrwWLv3r2KiYnxdlkAAGBBWlqaqlWrVuB2rweL8PBwSWcaFhER4e3yAACgELKyshQTE+M8jxfE68Ei//JHREQEwQIAAD9zsWEMDN4EAADWECwAAIA1BAsAAGCN18dYAAAuTW5urk6dOuXrZuAKERwcrMDAwCI/D8ECAIoZY4zS09N15MgRXzcFV5ioqChFR0cX6T5TBAsAKGbyQ0XFihVVqlQpbiYIjzPG6Pjx48rIyJAkVa5cudDPRbAAgGIkNzfXGSrKlSvn6+bgChIaGipJysjIUMWKFQt9WYTBmwBQjOSPqShVqpSPW4IrUf77rihjewgWAFAMcfkDvmDjfUewAAAA1hAsAACANW4P3vz99981ePBgLVq0SMePH1dsbKwmT56s66+/3hPtAwD8fzWfWejVertGJXq1nq+lp6era9euWr58uYKDg61+3bd79+46cuSI5s2bJ0lq2bKlGjVqpLFjxxZ4TM2aNfXkk0/qySeflHTmMsXcuXN15513WmuXJ7jVY3H48GHddNNNCg4O1qJFi7Rx40a9+uqrKlOmjKfaBwDwIwcOHFCvXr1UvXp1hYSEKDo6Wu3atdN3330n6czJMf/k6o6aNWte8CR8Ib/88ovuu+8+VahQQSEhIapTp46GDh2q48ePu+z32muvad++fVq7dq22bNnirOtwOORwOBQYGKgqVaroscce0+HDh91qw+uvv64pU6YUqv359u3bp4SEhCI9hze41WPx8ssvKyYmRpMnT3auq1WrlvVGAQD80913360///xTU6dO1VVXXaX9+/dryZIlOnjwoE/as2LFCrVp00Zt2rTRwoULValSJa1cuVL/+7//qyVLluirr75SiRIlJEnbt29XkyZNFBcX5/IcI0eOVI8ePZSbm6stW7bon//8p/r3769p06ZdcjsiIyOL/LNER0cX+Tm8wa0ei/nz5+v666/Xvffeq4oVK+q6667TxIkTL3hMTk6OsrKyXB4AgMvPkSNH9M033+jll19Wq1atVKNGDTVt2lRJSUm64447VLNmTUnSXXfdJYfD4Vzevn27OnXqpEqVKiksLEw33HCDvvjiC+fztmzZUr/99pueeuopZ+9Bvm+//Va33HKLQkNDFRMTo/79++vYsWOSztz06bHHHlPdunU1Z84cNW3aVDVq1NC9996rBQsW6Pvvv9drr70m6UzPxMcff6z33ntPDodD3bt3d9YIDw9XdHS0qlatqlatWqlbt2766aefnNuHDx+uRo0aubwWY8eOdf580plLIRe6hJGRkaGOHTsqNDRUtWrV0owZM87Z56+9Pbt27ZLD4dCcOXPUqlUrlSpVSg0bNtT333/vcszEiRMVExOjUqVK6a677tKYMWMUFRVVYDtscKvHYseOHUpJSdGAAQM0ZMgQrVq1Sv3791eJEiXUrVu38x6TnJysESNGWGksiqYo12evtGutANwXFhamsLAwzZs3T82bN1dISIjL9lWrVqlixYqaPHmy2rdv77wB09GjR3X77bfrxRdfVEhIiN577z117NhRmzdvVvXq1TVnzhw1bNhQ//znP9WjRw/n823fvl3t27fXCy+8oEmTJunAgQPq27ev+vbtq8mTJ2vt2rXauHGjZs6cqYAA17+jGzZsqDZt2mjWrFkaPHiwVq1apYcfflgRERF6/fXXnTeLOtvvv/+uBQsWqFmzZlZfu+7du2vv3r366quvFBwcrP79+zvvgnkhzz77rF555RXFxcXp2WefVZcuXbRt2zYFBQXpu+++0xNPPKGXX35Zd9xxh7744gs999xzVtt9Pm71WOTl5alx48Z66aWXdN111zn/k996660Cj0lKSlJmZqbzkZaWVuRGAwCKn6CgIE2ZMkVTp05VVFSUbrrpJg0ZMkTr16+XJFWoUEHS/81Hkb/csGFD9ezZU/Xr11dcXJyef/551a5dW/Pnz5cklS1bVoGBgc6eg/xLAsnJyXrwwQf15JNPKi4uTjfeeKPGjRun9957TydPnnSOk6hbt+5521u3bl3nPvnjL0JDQxUdHe1y6WLw4MEKCwtTaGioqlWrJofDoTFjxlh73bZs2aJFixZp4sSJat68uZo0aaLU1FSdOHHioscOHDhQiYmJqlOnjkaMGKHffvtN27ZtkyS98cYbSkhI0MCBA1WnTh317t3bK2M03AoWlStXVr169VzW1a1bV7t37y7wmJCQEEVERLg8AACXp7vvvlt79+7V/Pnz1b59ey1dulSNGze+4MDFo0ePauDAgapbt66ioqIUFhamTZs2XfDcIknr1q3TlClTnD0lYWFhateunfLy8rRz507nfsaYIv1MgwYN0tq1a7V+/XotWbJEkpSYmKjc3NwiPW++TZs2KSgoSE2aNHGuu/rqqy/pkkWDBg2c/86f3yO/p2Pz5s1q2rSpy/5nL3uCW5dCbrrpJm3evNll3ZYtW1SjRg2rjQIA+K+SJUuqbdu2atu2rZ577jk9/vjjGjZsmMu4hb8aOHCgPv/8c73yyiuKjY1VaGio7rnnHv35558XrHP06FH17NlT/fv3P2db9erVdfLkSUlnTtzXXXfdOfts2rRJderUuejPU758ecXGxkqS4uLiNHbsWLVo0UJfffWV2rRpo4CAgHPCi7emuw8ODnb+O3/sSV5enldqF8StHounnnpKK1as0EsvvaRt27Zp5syZeuedd9SnTx9PtQ8A4Ofq1avnHFAZHBx8zl/63333nbp376677rpL1157raKjo7Vr1y6XfUqUKHHOcY0bN9bGjRsVGxt7zqNEiRJq1KiRrr76ar322mvnnGzXrVunL774Ql26dHH758kfG5J/qaJChQpKT093CRdr16695Oe7+uqrdfr0aa1evdq5bvPmzUW+j0Z8fLxWrVrlsu7sZU9wK1jccMMNmjt3rmbNmqX69evr+eef19ixY/Xggw96qn0AAD9x8OBBtW7dWtOnT9f69eu1c+dOffjhhxo9erQ6deok6cy3L5YsWaL09HTnvSDi4uI0Z84crV27VuvWrdMDDzxwThCoWbOmli1bpt9//11//PGHpDNjH5YvX66+fftq7dq12rp1q/7zn/+ob9++ks78BZ+amqqNGzfq7rvv1sqVK7V79259+OGH6tixo1q0aOG8+dSFZGdnKz09Xfv27dPKlSs1aNAgVahQQTfeeKOkM99aOXDggEaPHq3t27drwoQJWrRo0SW/bvHx8Wrfvr169uypH374QatXr9bjjz9e4ADSS9WvXz99+umnGjNmjLZu3aq3335bixYt8vg8NG7febNDhw7q0KGDJ9oCALiA4v7trLCwMDVr1kyvvfaatm/frlOnTikmJkY9evTQkCFDJEmvvvqqBgwYoIkTJ6pq1aratWuXxowZo0cffVQ33nijypcvr8GDB59za4KRI0eqZ8+eql27tnJycmSMUYMGDfT111/r2Wef1S233CJjjGrXrq3OnTs7j7vxxhu1YsUKjRgxQgkJCcrOzlb16tXVrVs3JSUlnfPNlfMZOnSohg4dKulM78QNN9yg//73v85p7evWras333xTL730kp5//nndfffdGjhwoN55551Lfu0mT56sxx9/XH/7299UqVIlvfDCC0X+BsdNN92kt956SyNGjNC//vUvtWvXTk899ZTGjx9fpOe9GIcp6qgWN2VlZSkyMlKZmZkM5PQyvm4KFH8nT57Uzp07VatWLZUsWdLXzcFlpkePHvr111/1zTffnHf7hd5/l3r+drvHAgAA+IdXXnlFbdu2VenSpbVo0SJNnTpVb775pkdrEiwAALhMrVy5UqNHj1Z2drauuuoqjRs3To8//rhHaxIsAAC4TH3wwQder+nWt0IAAAAuhGABAMWQl8fVA5LsvO8IFgBQjOTfSfH48eM+bgmuRPnvu7/e0dNdjLEAgGIkMDBQUVFRzvkeSpUq5fEbGgHGGB0/flwZGRmKiopy3l20MAgWAFDM5M/eeSnTZgM25c88WxQECwAoZhwOhypXrqyKFSt6bTIrIDg4uEg9FfkIFgBQTAUGBlr5oAe8icGbAADAGoIFAACwhmABAACsIVgAAABrCBYAAMAaggUAALCGYAEAAKwhWAAAAGsIFgAAwBqCBQAAsIZgAQAArCFYAAAAawgWAADAGoIFAACwhmABAACsIVgAAABrCBYAAMAaggUAALCGYAEAAKwhWAAAAGsIFgAAwBqCBQAAsIZgAQAArCFYAAAAawgWAADAGoIFAACwhmABAACsIVgAAABrCBYAAMAaggUAALCGYAEAAKwhWAAAAGsIFgAAwBqCBQAAsIZgAQAArCFYAAAAawgWAADAGreCxfDhw+VwOFweV199tafaBgAA/EyQuwdcc801+uKLL/7vCYLcfgoAAHCZcjsVBAUFKTo62hNtAQAAfs7tMRZbt25VlSpVdNVVV+nBBx/U7t27L7h/Tk6OsrKyXB4AAODy5FawaNasmaZMmaLFixcrJSVFO3fu1C233KLs7OwCj0lOTlZkZKTzERMTU+RGAwCA4slhjDGFPfjIkSOqUaOGxowZo8cee+y8++Tk5CgnJ8e5nJWVpZiYGGVmZioiIqKwpVEINZ9ZWOhjd41KtNgSAIC/ycrKUmRk5EXP30UaeRkVFaU6depo27ZtBe4TEhKikJCQopQBAAB+okjB4ujRo9q+fbu6du1qqz1XDHoPAACXI7fGWAwcOFBff/21du3apeXLl+uuu+5SYGCgunTp4qn2AQAAP+JWj8WePXvUpUsXHTx4UBUqVNDNN9+sFStWqEKFCp5qHwAA8CNuBYv333/fU+0AAACXAeYKAQAA1hAsAACANQQLAABgDcECAABYQ7AAAADWECwAAIA1BAsAAGANwQIAAFhDsAAAANYQLAAAgDUECwAAYA3BAgAAWOPWJGRAYdR8ZmGhjts1KtFySwAAnkaPBQAAsIZgAQAArCl2l0LoNgcAwH/RYwEAAKwhWAAAAGsIFgAAwBqCBQAAsKbYDd70hcIOGJUYNAoAwF/RYwEAAKwhWAAAAGsIFgAAwBqCBQAAsIZgAQAArCFYAAAAawgWAADAGoIFAACwhmABAACsIVgAAABrCBYAAMAaggUAALCGYAEAAKwhWAAAAGuYNh2wpOYzCwt97K5RiRZbAgC+Q48FAACwhmABAACsIVgAAABrCBYAAMAaggUAALCGYAEAAKwhWAAAAGsIFgAAwBqCBQAAsIZgAQAArCFYAAAAa4oULEaNGiWHw6Enn3zSUnMAAIA/K3SwWLVqld5++201aNDAZnsAAIAfK1SwOHr0qB588EFNnDhRZcqUsd0mAADgpwoVLPr06aPExES1adPmovvm5OQoKyvL5QEAAC5PQe4e8P777+unn37SqlWrLmn/5ORkjRgxwu2GAUVR85mFhTpu16hEyy2BP+N95DmFfW0lXt/izq0ei7S0NP3P//yPZsyYoZIlS17SMUlJScrMzHQ+0tLSCtVQAABQ/LnVY7F69WplZGSocePGznW5ublatmyZxo8fr5ycHAUGBrocExISopCQEDutBQAAxZpbweLvf/+7fv75Z5d1jzzyiK6++moNHjz4nFABAACuLG4Fi/DwcNWvX99lXenSpVWuXLlz1gMAgCsPd94EAADWuP2tkLMtXbrUQjMAFAYj6wEUN/RYAAAAawgWAADAGoIFAACwhmABAACsIVgAAABrCBYAAMAaggUAALCGYAEAAKwhWAAAAGsIFgAAwBqCBQAAsIZgAQAArCFYAAAAa4o8uykAwL8xSy5soscCAABYQ7AAAADWECwAAIA1BAsAAGANwQIAAFhDsAAAANYQLAAAgDUECwAAYA3BAgAAWEOwAAAA1nBLbwBu4fbPAC6EHgsAAGANwQIAAFhDsAAAANYQLAAAgDUECwAAYA3BAgAAWEOwAAAA1hAsAACANQQLAABgDcECAABYQ7AAAADWECwAAIA1BAsAAGANwQIAAFhDsAAAANYQLAAAgDUECwAAYA3BAgAAWEOwAAAA1hAsAACANUG+bgAA4P/UfGZhoY7bNSrRcksuP4V9bSVeX3fQYwEAAKwhWAAAAGvcChYpKSlq0KCBIiIiFBERoRYtWmjRokWeahsAAPAzbgWLatWqadSoUVq9erV+/PFHtW7dWp06ddIvv/ziqfYBAAA/4tbgzY4dO7osv/jii0pJSdGKFSt0zTXXWG0YAADwP4X+Vkhubq4+/PBDHTt2TC1atChwv5ycHOXk5DiXs7KyClsSAAAUc24Hi59//lktWrTQyZMnFRYWprlz56pevXoF7p+cnKwRI0YUqZEArmx8TRBwjy+/tuz2t0Li4+O1du1a/fDDD+rVq5e6deumjRs3Frh/UlKSMjMznY+0tLQiNRgAABRfbvdYlChRQrGxsZKkJk2aaNWqVXr99df19ttvn3f/kJAQhYSEFK2VAADALxT5PhZ5eXkuYygAAMCVy60ei6SkJCUkJKh69erKzs7WzJkztXTpUn322Weeah8AAPAjbgWLjIwMPfzww9q3b58iIyPVoEEDffbZZ2rbtq2n2gcAAPyIW8EiNTXVU+0AAACXAeYKAQAA1hAsAACANQQLAABgDcECAABYQ7AAAADWECwAAIA1BAsAAGANwQIAAFhDsAAAANYQLAAAgDUECwAAYA3BAgAAWEOwAAAA1hAsAACANQQLAABgDcECAABYQ7AAAADWECwAAIA1BAsAAGANwQIAAFhDsAAAANYQLAAAgDUECwAAYA3BAgAAWEOwAAAA1hAsAACANQQLAABgDcECAABYQ7AAAADWECwAAIA1BAsAAGANwQIAAFhDsAAAANYQLAAAgDUECwAAYA3BAgAAWEOwAAAA1hAsAACANQQLAABgDcECAABYQ7AAAADWECwAAIA1BAsAAGANwQIAAFhDsAAAANYQLAAAgDUECwAAYA3BAgAAWONWsEhOTtYNN9yg8PBwVaxYUXfeeac2b97sqbYBAAA/41aw+Prrr9WnTx+tWLFCn3/+uU6dOqXbbrtNx44d81T7AACAHwlyZ+fFixe7LE+ZMkUVK1bU6tWrdeutt1ptGAAA8D9uBYuzZWZmSpLKli1b4D45OTnKyclxLmdlZRWlJAAAKMYKPXgzLy9PTz75pG666SbVr1+/wP2Sk5MVGRnpfMTExBS2JAAAKOYKHSz69OmjDRs26P3337/gfklJScrMzHQ+0tLSClsSAAAUc4W6FNK3b1998sknWrZsmapVq3bBfUNCQhQSElKoxgEAAP/iVrAwxqhfv36aO3euli5dqlq1anmqXQAAwA+5FSz69OmjmTNn6j//+Y/Cw8OVnp4uSYqMjFRoaKhHGggAAPyHW2MsUlJSlJmZqZYtW6py5crOx+zZsz3VPgAA4EfcvhQCAABQEOYKAQAA1hAsAACANQQLAABgDcECAABYQ7AAAADWECwAAIA1BAsAAGANwQIAAFhDsAAAANYQLAAAgDUECwAAYA3BAgAAWEOwAAAA1hAsAACANQQLAABgDcECAABYQ7AAAADWECwAAIA1BAsAAGANwQIAAFhDsAAAANYQLAAAgDUECwAAYA3BAgAAWEOwAAAA1hAsAACANQQLAABgDcECAABYQ7AAAADWECwAAIA1BAsAAGANwQIAAFhDsAAAANYQLAAAgDUECwAAYA3BAgAAWEOwAAAA1hAsAACANQQLAABgDcECAABYQ7AAAADWECwAAIA1BAsAAGANwQIAAFhDsAAAANYQLAAAgDUECwAAYI3bwWLZsmXq2LGjqlSpIofDoXnz5nmgWQAAwB+5HSyOHTumhg0basKECZ5oDwAA8GNB7h6QkJCghIQET7QFAAD4ObeDhbtycnKUk5PjXM7KyvJ0SQAA4CMeDxbJyckaMWKEp8sAAFAs1XxmYaGO2zUq0XJLvMPj3wpJSkpSZmam85GWlubpkgAAwEc83mMREhKikJAQT5cBAADFAPexAAAA1rjdY3H06FFt27bNubxz506tXbtWZcuWVfXq1a02DgAA+Be3g8WPP/6oVq1aOZcHDBggSerWrZumTJlirWEAAMD/uB0sWrZsKWOMJ9oCAAD8HGMsAACANQQLAABgDcECAABYQ7AAAADWECwAAIA1BAsAAGANwQIAAFhDsAAAANYQLAAAgDUECwAAYA3BAgAAWEOwAAAA1hAsAACANQQLAABgDcECAABYQ7AAAADWECwAAIA1BAsAAGANwQIAAFhDsAAAANYQLAAAgDUECwAAYA3BAgAAWEOwAAAA1hAsAACANQQLAABgDcECAABYQ7AAAADWECwAAIA1BAsAAGANwQIAAFhDsAAAANYQLAAAgDUECwAAYA3BAgAAWEOwAAAA1hAsAACANQQLAABgDcECAABYQ7AAAADWECwAAIA1BAsAAGANwQIAAFhDsAAAANYQLAAAgDUECwAAYA3BAgAAWEOwAAAA1hQqWEyYMEE1a9ZUyZIl1axZM61cudJ2uwAAgB9yO1jMnj1bAwYM0LBhw/TTTz+pYcOGateunTIyMjzRPgAA4EfcDhZjxoxRjx499Mgjj6hevXp66623VKpUKU2aNMkT7QMAAH4kyJ2d//zzT61evVpJSUnOdQEBAWrTpo2+//778x6Tk5OjnJwc53JmZqYkKSsr67z75+Ucd6dJTgU936UobM2i1L1Sahal7pVSsyh1qem5mkWpe6XULErdK6VmUeoWt5r524wxF34S44bff//dSDLLly93WT9o0CDTtGnT8x4zbNgwI4kHDx48ePDgcRk80tLSLpgV3OqxKIykpCQNGDDAuZyXl6dDhw6pXLlycjgcl/w8WVlZiomJUVpamiIiIjzR1GJR01d1qUlNf61LTWr6a11/q2mMUXZ2tqpUqXLB/dwKFuXLl1dgYKD279/vsn7//v2Kjo4+7zEhISEKCQlxWRcVFeVOWRcRERFefbP5qqav6lKTmv5al5rU9Ne6/lQzMjLyovu4NXizRIkSatKkiZYsWeJcl5eXpyVLlqhFixZuNxAAAFxe3L4UMmDAAHXr1k3XX3+9mjZtqrFjx+rYsWN65JFHPNE+AADgR9wOFp07d9aBAwc0dOhQpaenq1GjRlq8eLEqVarkifY5hYSEaNiwYedcVrncavqqLjWp6a91qUlNf617udZ0mIt+bwQAAODSMFcIAACwhmABAACsIVgAAABrCBYAAMAavwwWGzZs8HUTAADAefhNsMjOztY777yjpk2bqmHDhr5uDnBeX375perVq3feiXwyMzN1zTXX6JtvvvFBy+BvduzYcfHJnuC2EydO6JNPPnEu5087kf8YNGiQTp486cMW+r9iHyyWLVumbt26qXLlynrllVfUunVrrVixwuN1e/furT/++MPjdc723XffucwG6w179uxRXl6eV2odPHjQ+e+0tDQNHTpUgwYN8vrJNisrSykpKbr++uutPu/YsWPVo0eP894qNzIyUj179tSYMWOs1syXl5enSZMmqUOHDqpfv76uvfZa3XHHHXrvvfc8coK6/fbbnbMVS9KoUaN05MgR5/LBgwdVr14963WvFHFxcTpw4IBzuXPnzudMpwD3TZ06VW+//bZzefz48Vq+fLnWrFmjNWvWaPr06UpJSbFed+vWrerSpUuBf3Q88MAD2rFjh9Wa1atXd/nMHT9+fJFmTL1k7sxu6i379u0zycnJJjY21lSsWNH07dvXBAUFmV9++cVrbQgPDzfbt2/3Wj1f1vVGzfXr15saNWqYgIAAEx8fb9asWWMqVapkwsLCTEREhAkMDDRz5871aBuMMebLL780Dz30kClVqpSpXLmy6d27t9Xnr169utm4cWOB2zdt2mRiYmKs1jTGmLy8PJOYmGgcDodp1KiRuf/++03nzp1NgwYNjMPhMJ06dbJeMyAgwOzfv9+5fPb7KD093QQEBFituWXLFnP//febzMzMc7YdOXLEdOnSxWPv5S1btph///vfpk+fPqZv377m1Vdf9ejvjcPhcHl9w8LCPP57umTJElO3bt0CX9969eqZZcuWWa2ZkJBgjhw54lxOTk42hw8fdi7/8ccfpm7dutbq3XzzzWb+/PnO5bNf12nTppnmzZtbq5evR48eZtCgQQVuf/rpp80TTzxhtebZ7yFvnV+KXbDo0KGDiYiIMF26dDGffPKJOX36tDHGeD1YeOOXuLjU9UbN9u3bmw4dOphvv/3W9OzZ01StWtU8+uijJjc31+Tm5prevXubZs2aeaT2nj17zAsvvGBq165typUrZwICAsz7779v8vLyrNcKCQkxW7duLXD71q1bTcmSJa3XnTRpkgkPDzdffvnlOduWLFliwsPDzdSpU63WvNiJzxPBwhcfzsYY89JLL5mgoCATEBBgoqOjTaVKlUxAQIAJDg42//73v63XM8Y3waJjx45mzJgxBW5//fXXzZ133mm1prcDanR0tNm5c6dzuXz58i7LmzdvNhEREdbq5atTp45ZuXJlgdt//PFHU6dOHas1ffEeMqYYBovAwEDz1FNPmS1btris90Ww2LFjh9fq/bXu5RgsypUrZ9atW2eMMSY7O9s4HA7z448/Ordv2rTJREZGWq350UcfmYSEBFO6dGlzzz33mHnz5pmcnByPvpeuuuqqC/a8fPzxx6ZWrVrW67Zt29YkJycXuP3FF180t912m9WavggWvvhw/vLLL01AQIAZNmyYOXTokHP9wYMHzXPPPWcCAwPN119/bbWmMWdOuBkZGc5lb3wm+aLHzdvvo5IlS5pff/21wO2bNm0yISEh1ur9te6uXbsK3L5r1y4TGhpqtaavgoXbc4V42rfffqvU1FQ1adJEdevWVdeuXXX//fd7vG6tWrXkcDicyydOnNDf/vY3BQX930tk+/qXJI0cOdJl+c8//9S4ceNUtmxZ57qhQ4darfnee++5LJ8+fVpz5sxRxYoVnesefvhhqzUPHTqk6OhoSVJYWJhKly6tMmXKOLeXKVNG2dnZVmt27txZgwcP1uzZsxUeHm71uQty++2367nnnlP79u1VsmRJl20nTpzQsGHD1KFDB+t1169fr9GjRxe4PSEhQePGjbNa0+FwuPzO5K/zpN27d7u8T89Wvnx5paWlWa351ltv6fHHH9fw4cNd1pctW1YjR45Uenq6UlJSdOutt1qta4xR9+7dnXM6nDx5Uk888YRKly7tst+cOXOs1dy/f7+Cg4ML3B4UFOQy7sMfVatWTRs2bFB8fPx5t69fv17VqlWzXjcyMlLbt29XjRo1zrt927ZtHpk6/d1331VYWJikM5/1U6ZMUfny5V326d+/v9WaxS5YNG/eXM2bN9fYsWM1e/ZsTZo0SQMGDFBeXp4+//xzxcTEeOQkMWXKFOe/jTG6/fbbNWrUKFWtWtV6rb/auXOny7IxRnv27HEOivPEB/XkyZNdlk+dOqWPPvpIoaGhzpq2g0X+815o2bbHHntMEyZM0NKlS9W1a1d17tzZJcx4wr/+9S/NmTNHderUUd++fZ0fXr/++qsmTJig3NxcPfvss9brHjp06IITAVaqVEmHDx+2WvNiJz5PDEL2xYfzypUrNW3atAK3d+3a1SO/L926dXNZfuihh6zXOFvVqlW1YcMGxcbGnnf7+vXrVblyZas1vR1Qb7/9dg0dOlSJiYnnDf8jRoxQYmKi9bq33nqr3njjDbVu3fq828eNG6dbbrnFas3q1atr4sSJzuXo6Ohz3ssOh8N6sPCLScg2b96s1NRUTZs2TUeOHFHbtm01f/58j9YMDw/XunXrdNVVV3m0TnGo642aAQEBSkhIcJ6EFixYoNatW7uchBYvXqzc3FyrdU+cOKEPPvhAkyZN0g8//KB27dpp4cKFWrt2rerXr2+1Vr7ffvtNvXr10meffeb8NobD4VC7du00YcIE1apVy3rNwMBApaenq0KFCufdvn//flWpUsXq6/vII49c0n5nB9miuO+++3Tq1CnNnTv3vNs7deqkEiVK6MMPP7RWs1SpUtqyZUuBf8Xu2bNHcXFxOnHihLWavtKvXz8tXbpUq1atOu9Jt2nTpmrVqpXV3i9vfzbs379fjRo1UokSJdS3b1/VqVNH0pnzzPjx43X69GmtWbPG+ozda9asUYsWLdShQwc9/fTTLn90jB49WgsXLtTy5cvVuHFjq3V9wS+CRb7c3FwtWLBAkyZN8niwiIiI0Nq1awkWlvjiJHS2rVu3avLkyZo6daqOHj2qxMRE3XPPPfrHP/7hkXqHDx/Wtm3bZIxRXFycR3tLzv5wPpungpu3+eLDOSAgQOnp6QVegvFEaPOV/fv3q3HjxgoMDCywx+2nn36yetL1xWfDzp071atXL33++ecu4b9t27Z68803PfZZ+Mknn+jRRx91+QqoJJUrV07vvvuu7rjjDo/UvVTXXnutPv30U8XExBTpefwqWHgTPRaXr7y8PC1cuFCpqalatGiR1+8b4gnFIbh5i7c/nAMCAvTCCy84r1OfLTs7W0OHDr0sgoXkmx43d+zZs0dVqlRRQEDRb8N06NAhbdu2TZIUGxvrMrbNU06cOKHFixc7/+ioU6eObrvtNpUqVcrjtS/G1rmAYHGJNmzY4LGu87+aOXOmOnXqdM4ALU9KTk5Wr169FBUV5bWaxUVGRobzL9HExES9++671q8hwz5vfjjXrFnzkq75nz1eyt9dSo+bzZP8pfJVb7K32eo9cAfBwguys7M1a9Ysvfvuu1q9evVl8xcJzu9K67m5Evjiw/lK4ouT/JXye+rPvdfF/pbevrBs2TI9/PDDXr+NuK8ZY7Ro0SLdc889vm4KYMWuXbt06tQpr9a89tprrX/ltbji71KcD8Hi/0tPT9eoUaMUFxene++9V5GRkcrJydG8efM0atQo3XDDDV5phy/mKNm5c6eee+45Va9eXXfddRcT8ABF4IswAxQnBAtJHTt2VHx8vNavX6+xY8dq7969euONN3zSlunTp3tlkpicnBzNmDFDrVu3Vnx8vF566SUNGDBAGRkZLjP/AQDgjmJ3gyxfWLRokfr3769evXopLi7Op23xdNfi6tWrlZqaqlmzZik2NlZdu3bVrFmzVK1aNbVr184jd34DAFs8fWO9y8mJEye0ZMkS591+k5KSXL4FFxgYqOeff955z5K3337byleJ6bHQmduIZ2dnq0mTJmrWrJnGjx/vkynT83nyF6dZs2YKCQnRihUrtGrVKvXv39/6jWAAXBlsfFbt2LHDrT+oGNdx6dydIv6BBx6w8o1Eeizku9uIS96fo+Tvf/+7UlNTlZGRoa5du6pdu3aX/V8ABw8eVLly5SRJaWlpmjhxok6cOKE77rjD5Ra6Q4YM8cr32IHiaseOHed8Jl2IjZN8XFyc9u3b5/zad+fOnTVu3LgC/+DZuHGjqlSpUuS63uaL3oMZM2bo6aefdlk3c+ZM57c+pk+frgkTJuipp54qUp1zeHyaMz/166+/mkGDBpno6GhTsmRJ07FjR4/UWbp0qfPx1VdfmdDQUDNjxgyX9bbt3r3bjBgxwtSsWdNUqlTJ9O/f3wQFBV1wVkN/tH79elOjRg0TEBBg4uPjzZo1a0ylSpVMWFiYiYiIMIGBgReciRTFT0JCgjly5IhzOTk52Rw+fNi5/Mcff5i6des6l2fMmGGOHj3qzSb6ZIZiW86ewvy+++4z6enpBe6/e/duc/r06SLV9NUMnN6WkpJiOnTo4FwOCwszzZo1My1btjQtW7Y00dHRF5yyvjB8NUU8weIiTp8+bebOneuxYHE2b/9S/fe//zVdunQxJUuWNHFxcSYpKcmsXr3aa/U9qX379qZDhw7m22+/NT179jRVq1Y1jz76qMnNzTW5ubmmd+/eplmzZr5uJtxw9okvPDzc41O1+0OYscUXJ/krJVjcfPPNZv78+c7ls3/OadOmmebNm1ut6asp4gkWxczZH5TecujQITNu3DjTqFEj6x/MvlKuXDmzbt06Y4wx2dnZxuFwmB9//NG5fdOmTSYyMtJHrUNhXOwk5Ilg4Ysw4yu+OMkHBASYjIwMl5o7duzwaE1f8EXvQWxsrPnoo48K3D579mxTu3ZtqzWNMYYxFsWM8dHApDJlyqhfv37q16+ffvrpJ+f63r17a+TIkSpfvrxP2lUUhw4dUnR0tCQpLCxMpUuXdrktcZkyZZSdne2r5sFPnP076avfUW/w9hTm0pnXs3v37s4J9E6ePKknnnjinEGEc+bM8Wg7PO3IkSMuYyoOHDjgsj0vL8/6vEW+miKeYFHMnH2i89YcJX/115khp0+froEDB/plsJDO/VC83AeqXu58ceK7kvjiJN+tWzeX5Yceesjacxcn1apV04YNG5wzxp5t/fr1qlatmtWaQ4YM0QcffKD4+PgCp4gfMmSI1ZoSwaJYKk5zlPj7X2cX+pC8HGY1vdJc7MTnif/TKynM+OIkfznMuHspfNF7UKlSJS1fvly9evXSM888c94p4j1xuwEmIStGli1bpnfffVdz5sxRlSpV9I9//EN33323124nfj7+POHPlTSV+JXCF/+nAQEBSkhIcIaZBQsWqHXr1i5hZvHixUxSiAvav3+/GjVqpBIlShTYe7BmzRqP3VfIm1PEEyx8LD09XVOmTFFqaqqysrJ033336a233tK6detUr149XzfPr4MFYAMBFbbs3LlTvXr10ueff37e3oPL5XOWYOFDHTt21LJly5SYmKgHH3xQ7du3V2BgoIKDgwkWAHCZ8mbvgS8wxsKHitMcJX/liwGjAHClKFu2rJo2berrZngMc4X4UHGaoyQ7O1vvvPOOmjZtqoYNGzrXP/TQQ0xMBgC4ZFwKKQaOHTvmnKNk5cqVys3N1ZgxY/Too496bI6SfMuWLVNqaqo+/vjjYjNgFADgvwgWxczmzZuVmpqqadOm6ciRI2rbtq3mz59vtUZxHzAKAPBfXAopZuLj4zV69Gjt2bNHs2bNsv78HTt2VHx8vNavX6+xY8dq7969euONN6zXAQBcmeixuMIEBQWdd8BocfomCgDAf9FjcYUpTgNGAQCXH3osrlC+HDAKALh8ESzglQGjAIArA8ECTrm5uVqwYIEmTZpEsAAAFArBAgAAWMPgTQAAYA3BAgAAWEOwAAAA1hAsAACANQQLAABgDcECwAV1795dDodDDodDJUqUUGxsrEaOHKnTp09r6dKlzm1nP9LT0yVJw4cPd1kfGRmpW265RV9//bWPfzIAnhDk6wYAKP7at2+vyZMnKycnR59++qn69Omj4OBgtWjRQtKZm6xFRES4HFOxYkXnv6+55hp98cUXkqRDhw7plVdeUYcOHbRnzx5FRkZ67wcB4HH0WAC4qJCQEEVHR6tGjRrq1auX2rRp43ITtYoVKyo6OtrlERDwfx8vQUFBzvX16tXTyJEjdfToUW3ZssUXPw4ADyJYAHBbaGio/vzzz0Idm5OTo8mTJysqKkrx8fGWWwbA17gUAuCSGWO0ZMkSffbZZ+rXr59zfbVq1Vz2q1Gjhn755Rfn8s8//6ywsDBJ0vHjxxUeHq7Zs2efc/kEgP8jWAC4qE8++URhYWE6deqU8vLy9MADD2j48OFatWqVJOmbb75xmRU3ODjY5fj4+HjnpZPs7GzNnj1b9957r7766itdf/313vtBAHgcwQLARbVq1UopKSkqUaKEqlSpoqAg14+OWrVqKSoqqsDj879Nku+6667TvHnzNHbsWE2fPt1TzQbgAwQLABdVunRpl2BgQ2BgoE6cOGH1OQH4HsECQJFlZGTo5MmTLuvKlSvnvCRy+vRp530t8i+FbNy4UYMHD/Z6WwF4FsECQJGd79sd33//vZo3by5J+uWXX1S5cmVJUqlSpVS7dm2lpKTo4Ycf9mo7AXiewxhjfN0IAABweeA+FgAAwBqCBQAAsIZgAQAArCFYAAAAawgWAADAGoIFAACwhmABAACsIVgAAABrCBYAAMAaggUAALCGYAEAAKz5fz9pirKevuzDAAAAAElFTkSuQmCC",
      "text/plain": [
       "<Figure size 640x480 with 1 Axes>"
      ]
     },
     "metadata": {},
     "output_type": "display_data"
    }
   ],
   "source": [
    "stateofbuilding_to_num = {\"StateOfBuilding\":{\"TO_BE_DONE_UP\": 1, \"TO_RESTORE\" : 2, \"TO_RENOVATE\" : 3, \"GOOD\" : 4, \"JUST_RENOVATED\" : 5, \"AS_NEW\" : 6}}\n",
    "sale_data.replace(stateofbuilding_to_num, inplace=True)\n",
    "peb_sob = sale_data.groupby(\"PEB\", as_index=False)[[\"StateOfBuilding\"]].mean()\n",
    "peb_sob.dropna(inplace=True)\n",
    "peb_sob.sort_values(\"StateOfBuilding\",ascending=False)\n",
    "\n",
    "peb_sob.plot.bar(x=\"PEB\", y=\"StateOfBuilding\")"
   ]
  },
  {
   "cell_type": "markdown",
   "metadata": {},
   "source": [
    "### €/m2 per municipality"
   ]
  },
  {
   "cell_type": "markdown",
   "metadata": {},
   "source": [
    "#### adding Nom commune column"
   ]
  },
  {
   "cell_type": "code",
   "execution_count": 21,
   "metadata": {},
   "outputs": [
    {
     "data": {
      "text/html": [
       "<div>\n",
       "<style scoped>\n",
       "    .dataframe tbody tr th:only-of-type {\n",
       "        vertical-align: middle;\n",
       "    }\n",
       "\n",
       "    .dataframe tbody tr th {\n",
       "        vertical-align: top;\n",
       "    }\n",
       "\n",
       "    .dataframe thead th {\n",
       "        text-align: right;\n",
       "    }\n",
       "</style>\n",
       "<table border=\"1\" class=\"dataframe\">\n",
       "  <thead>\n",
       "    <tr style=\"text-align: right;\">\n",
       "      <th></th>\n",
       "      <th>Url</th>\n",
       "      <th>BathroomCount</th>\n",
       "      <th>BedroomCount</th>\n",
       "      <th>ConstructionYear</th>\n",
       "      <th>Country</th>\n",
       "      <th>District</th>\n",
       "      <th>Fireplace</th>\n",
       "      <th>FloodingZone</th>\n",
       "      <th>Furnished</th>\n",
       "      <th>Garden</th>\n",
       "      <th>GardenArea</th>\n",
       "      <th>Kitchen</th>\n",
       "      <th>LivingArea</th>\n",
       "      <th>Locality</th>\n",
       "      <th>MonthlyCharges</th>\n",
       "      <th>NumberOfFacades</th>\n",
       "      <th>PEB</th>\n",
       "      <th>PostalCode</th>\n",
       "      <th>Price</th>\n",
       "      <th>PropertyId</th>\n",
       "      <th>Province</th>\n",
       "      <th>Region</th>\n",
       "      <th>RoomCount</th>\n",
       "      <th>ShowerCount</th>\n",
       "      <th>StateOfBuilding</th>\n",
       "      <th>SubtypeOfProperty</th>\n",
       "      <th>SurfaceOfPlot</th>\n",
       "      <th>SwimmingPool</th>\n",
       "      <th>Terrace</th>\n",
       "      <th>ToiletCount</th>\n",
       "      <th>TypeOfProperty</th>\n",
       "      <th>TypeOfSale</th>\n",
       "      <th>Nom commune</th>\n",
       "      <th>Refnis code</th>\n",
       "    </tr>\n",
       "  </thead>\n",
       "  <tbody>\n",
       "    <tr>\n",
       "      <th>0</th>\n",
       "      <td>https://www.immoweb.be/en/classified/apartment/for-sale/zeebrugge/8380/10957010</td>\n",
       "      <td>1.0</td>\n",
       "      <td>1</td>\n",
       "      <td>1969.0</td>\n",
       "      <td>Belgium</td>\n",
       "      <td>Brugge</td>\n",
       "      <td>0.0</td>\n",
       "      <td>None</td>\n",
       "      <td>0.0</td>\n",
       "      <td>0.0</td>\n",
       "      <td>0.0</td>\n",
       "      <td>None</td>\n",
       "      <td>29.0</td>\n",
       "      <td>Zeebrugge</td>\n",
       "      <td>NaN</td>\n",
       "      <td>NaN</td>\n",
       "      <td>None</td>\n",
       "      <td>8380</td>\n",
       "      <td>99000</td>\n",
       "      <td>10957010</td>\n",
       "      <td>West Flanders</td>\n",
       "      <td>Flanders</td>\n",
       "      <td>1.0</td>\n",
       "      <td>0.0</td>\n",
       "      <td>4.0</td>\n",
       "      <td>flat_studio</td>\n",
       "      <td>NaN</td>\n",
       "      <td>0.0</td>\n",
       "      <td>1.0</td>\n",
       "      <td>1.0</td>\n",
       "      <td>2</td>\n",
       "      <td>residential_sale</td>\n",
       "      <td>Bruges</td>\n",
       "      <td>31005</td>\n",
       "    </tr>\n",
       "    <tr>\n",
       "      <th>1</th>\n",
       "      <td>https://www.immoweb.be/en/classified/house/for-sale/tournai/7500/10956841</td>\n",
       "      <td>6.0</td>\n",
       "      <td>13</td>\n",
       "      <td>1920.0</td>\n",
       "      <td>Belgium</td>\n",
       "      <td>Tournai</td>\n",
       "      <td>0.0</td>\n",
       "      <td>None</td>\n",
       "      <td>0.0</td>\n",
       "      <td>0.0</td>\n",
       "      <td>0.0</td>\n",
       "      <td>None</td>\n",
       "      <td>391.0</td>\n",
       "      <td>Tournai</td>\n",
       "      <td>NaN</td>\n",
       "      <td>3.0</td>\n",
       "      <td>D</td>\n",
       "      <td>7500</td>\n",
       "      <td>765000</td>\n",
       "      <td>10956841</td>\n",
       "      <td>Hainaut</td>\n",
       "      <td>Wallonie</td>\n",
       "      <td>31.0</td>\n",
       "      <td>NaN</td>\n",
       "      <td>4.0</td>\n",
       "      <td>apartment_block</td>\n",
       "      <td>130.0</td>\n",
       "      <td>0.0</td>\n",
       "      <td>0.0</td>\n",
       "      <td>5.0</td>\n",
       "      <td>1</td>\n",
       "      <td>residential_sale</td>\n",
       "      <td>Tournai</td>\n",
       "      <td>57081</td>\n",
       "    </tr>\n",
       "    <tr>\n",
       "      <th>2</th>\n",
       "      <td>https://www.immoweb.be/en/classified/house/for-sale/blankenberge/8370/10956807</td>\n",
       "      <td>2.0</td>\n",
       "      <td>4</td>\n",
       "      <td>2008.0</td>\n",
       "      <td>Belgium</td>\n",
       "      <td>Brugge</td>\n",
       "      <td>0.0</td>\n",
       "      <td>NON_FLOOD_ZONE</td>\n",
       "      <td>1.0</td>\n",
       "      <td>0.0</td>\n",
       "      <td>0.0</td>\n",
       "      <td>INSTALLED</td>\n",
       "      <td>111.0</td>\n",
       "      <td>BLANKENBERGE</td>\n",
       "      <td>NaN</td>\n",
       "      <td>2.0</td>\n",
       "      <td>B</td>\n",
       "      <td>8370</td>\n",
       "      <td>399000</td>\n",
       "      <td>10956807</td>\n",
       "      <td>West Flanders</td>\n",
       "      <td>Flanders</td>\n",
       "      <td>NaN</td>\n",
       "      <td>0.0</td>\n",
       "      <td>4.0</td>\n",
       "      <td>house</td>\n",
       "      <td>0.0</td>\n",
       "      <td>0.0</td>\n",
       "      <td>0.0</td>\n",
       "      <td>2.0</td>\n",
       "      <td>1</td>\n",
       "      <td>residential_sale</td>\n",
       "      <td>Blankenberge</td>\n",
       "      <td>31004</td>\n",
       "    </tr>\n",
       "    <tr>\n",
       "      <th>3</th>\n",
       "      <td>https://www.immoweb.be/en/classified/house/for-sale/de-panne/8660/10956664</td>\n",
       "      <td>1.0</td>\n",
       "      <td>4</td>\n",
       "      <td>NaN</td>\n",
       "      <td>Belgium</td>\n",
       "      <td>Veurne</td>\n",
       "      <td>0.0</td>\n",
       "      <td>None</td>\n",
       "      <td>0.0</td>\n",
       "      <td>1.0</td>\n",
       "      <td>1.0</td>\n",
       "      <td>None</td>\n",
       "      <td>NaN</td>\n",
       "      <td>De Panne</td>\n",
       "      <td>NaN</td>\n",
       "      <td>2.0</td>\n",
       "      <td>F</td>\n",
       "      <td>8660</td>\n",
       "      <td>230000</td>\n",
       "      <td>10956664</td>\n",
       "      <td>West Flanders</td>\n",
       "      <td>Flanders</td>\n",
       "      <td>NaN</td>\n",
       "      <td>NaN</td>\n",
       "      <td>1.0</td>\n",
       "      <td>house</td>\n",
       "      <td>170.0</td>\n",
       "      <td>0.0</td>\n",
       "      <td>1.0</td>\n",
       "      <td>2.0</td>\n",
       "      <td>1</td>\n",
       "      <td>residential_sale</td>\n",
       "      <td>La Panne</td>\n",
       "      <td>38008</td>\n",
       "    </tr>\n",
       "    <tr>\n",
       "      <th>4</th>\n",
       "      <td>https://www.immoweb.be/en/classified/apartment/for-sale/hasselt/3500/10956668</td>\n",
       "      <td>0.0</td>\n",
       "      <td>2</td>\n",
       "      <td>1972.0</td>\n",
       "      <td>Belgium</td>\n",
       "      <td>Hasselt</td>\n",
       "      <td>0.0</td>\n",
       "      <td>NON_FLOOD_ZONE</td>\n",
       "      <td>0.0</td>\n",
       "      <td>0.0</td>\n",
       "      <td>0.0</td>\n",
       "      <td>None</td>\n",
       "      <td>92.0</td>\n",
       "      <td>Hasselt</td>\n",
       "      <td>NaN</td>\n",
       "      <td>NaN</td>\n",
       "      <td>B</td>\n",
       "      <td>3500</td>\n",
       "      <td>198000</td>\n",
       "      <td>10956668</td>\n",
       "      <td>Limburg</td>\n",
       "      <td>Flanders</td>\n",
       "      <td>1.0</td>\n",
       "      <td>0.0</td>\n",
       "      <td>6.0</td>\n",
       "      <td>apartment</td>\n",
       "      <td>NaN</td>\n",
       "      <td>0.0</td>\n",
       "      <td>1.0</td>\n",
       "      <td>1.0</td>\n",
       "      <td>2</td>\n",
       "      <td>residential_sale</td>\n",
       "      <td>Hasselt</td>\n",
       "      <td>71022</td>\n",
       "    </tr>\n",
       "    <tr>\n",
       "      <th>...</th>\n",
       "      <td>...</td>\n",
       "      <td>...</td>\n",
       "      <td>...</td>\n",
       "      <td>...</td>\n",
       "      <td>...</td>\n",
       "      <td>...</td>\n",
       "      <td>...</td>\n",
       "      <td>...</td>\n",
       "      <td>...</td>\n",
       "      <td>...</td>\n",
       "      <td>...</td>\n",
       "      <td>...</td>\n",
       "      <td>...</td>\n",
       "      <td>...</td>\n",
       "      <td>...</td>\n",
       "      <td>...</td>\n",
       "      <td>...</td>\n",
       "      <td>...</td>\n",
       "      <td>...</td>\n",
       "      <td>...</td>\n",
       "      <td>...</td>\n",
       "      <td>...</td>\n",
       "      <td>...</td>\n",
       "      <td>...</td>\n",
       "      <td>...</td>\n",
       "      <td>...</td>\n",
       "      <td>...</td>\n",
       "      <td>...</td>\n",
       "      <td>...</td>\n",
       "      <td>...</td>\n",
       "      <td>...</td>\n",
       "      <td>...</td>\n",
       "      <td>...</td>\n",
       "      <td>...</td>\n",
       "    </tr>\n",
       "    <tr>\n",
       "      <th>102975</th>\n",
       "      <td>https://www.immoweb.be/en/classified/apartment/for-sale/wellen/3830/11418059</td>\n",
       "      <td>1.0</td>\n",
       "      <td>1</td>\n",
       "      <td>2017.0</td>\n",
       "      <td>Belgium</td>\n",
       "      <td>Tongeren</td>\n",
       "      <td>0.0</td>\n",
       "      <td>None</td>\n",
       "      <td>0.0</td>\n",
       "      <td>0.0</td>\n",
       "      <td>0.0</td>\n",
       "      <td>SEMI_EQUIPPED</td>\n",
       "      <td>83.0</td>\n",
       "      <td>WELLEN</td>\n",
       "      <td>NaN</td>\n",
       "      <td>2.0</td>\n",
       "      <td>A</td>\n",
       "      <td>3830</td>\n",
       "      <td>219000</td>\n",
       "      <td>11418059</td>\n",
       "      <td>Limburg</td>\n",
       "      <td>Flanders</td>\n",
       "      <td>NaN</td>\n",
       "      <td>0.0</td>\n",
       "      <td>4.0</td>\n",
       "      <td>service_flat</td>\n",
       "      <td>NaN</td>\n",
       "      <td>0.0</td>\n",
       "      <td>1.0</td>\n",
       "      <td>1.0</td>\n",
       "      <td>2</td>\n",
       "      <td>residential_sale</td>\n",
       "      <td>Wellen</td>\n",
       "      <td>73098</td>\n",
       "    </tr>\n",
       "    <tr>\n",
       "      <th>102976</th>\n",
       "      <td>https://www.immoweb.be/en/classified/house/for-sale/aalter/9880/11425357</td>\n",
       "      <td>1.0</td>\n",
       "      <td>3</td>\n",
       "      <td>2024.0</td>\n",
       "      <td>Belgium</td>\n",
       "      <td>Gent</td>\n",
       "      <td>0.0</td>\n",
       "      <td>None</td>\n",
       "      <td>0.0</td>\n",
       "      <td>1.0</td>\n",
       "      <td>168.0</td>\n",
       "      <td>None</td>\n",
       "      <td>129.0</td>\n",
       "      <td>Aalter</td>\n",
       "      <td>NaN</td>\n",
       "      <td>NaN</td>\n",
       "      <td>None</td>\n",
       "      <td>9880</td>\n",
       "      <td>409000</td>\n",
       "      <td>11425357</td>\n",
       "      <td>East Flanders</td>\n",
       "      <td>Flanders</td>\n",
       "      <td>4.0</td>\n",
       "      <td>NaN</td>\n",
       "      <td>4.0</td>\n",
       "      <td>house</td>\n",
       "      <td>234.0</td>\n",
       "      <td>0.0</td>\n",
       "      <td>0.0</td>\n",
       "      <td>0.0</td>\n",
       "      <td>1</td>\n",
       "      <td>residential_sale</td>\n",
       "      <td>Aalter</td>\n",
       "      <td>44084</td>\n",
       "    </tr>\n",
       "    <tr>\n",
       "      <th>102977</th>\n",
       "      <td>https://www.immoweb.be/en/classified/house/for-sale/antwerpen/2020/11370107</td>\n",
       "      <td>4.0</td>\n",
       "      <td>4</td>\n",
       "      <td>NaN</td>\n",
       "      <td>Belgium</td>\n",
       "      <td>Antwerp</td>\n",
       "      <td>0.0</td>\n",
       "      <td>None</td>\n",
       "      <td>0.0</td>\n",
       "      <td>0.0</td>\n",
       "      <td>0.0</td>\n",
       "      <td>None</td>\n",
       "      <td>318.0</td>\n",
       "      <td>Antwerpen</td>\n",
       "      <td>NaN</td>\n",
       "      <td>2.0</td>\n",
       "      <td>C</td>\n",
       "      <td>2020</td>\n",
       "      <td>599000</td>\n",
       "      <td>11370107</td>\n",
       "      <td>Antwerp</td>\n",
       "      <td>Flanders</td>\n",
       "      <td>NaN</td>\n",
       "      <td>NaN</td>\n",
       "      <td>5.0</td>\n",
       "      <td>apartment_block</td>\n",
       "      <td>202.0</td>\n",
       "      <td>0.0</td>\n",
       "      <td>0.0</td>\n",
       "      <td>0.0</td>\n",
       "      <td>1</td>\n",
       "      <td>residential_sale</td>\n",
       "      <td>Anvers</td>\n",
       "      <td>11002</td>\n",
       "    </tr>\n",
       "    <tr>\n",
       "      <th>102978</th>\n",
       "      <td>https://www.immoweb.be/en/classified/apartment/for-sale/antwerpen/2140/11485314</td>\n",
       "      <td>1.0</td>\n",
       "      <td>2</td>\n",
       "      <td>NaN</td>\n",
       "      <td>Belgium</td>\n",
       "      <td>Antwerp</td>\n",
       "      <td>0.0</td>\n",
       "      <td>NON_FLOOD_ZONE</td>\n",
       "      <td>0.0</td>\n",
       "      <td>0.0</td>\n",
       "      <td>0.0</td>\n",
       "      <td>HYPER_EQUIPPED</td>\n",
       "      <td>85.0</td>\n",
       "      <td>Antwerpen</td>\n",
       "      <td>NaN</td>\n",
       "      <td>4.0</td>\n",
       "      <td>D</td>\n",
       "      <td>2140</td>\n",
       "      <td>245000</td>\n",
       "      <td>11485314</td>\n",
       "      <td>Antwerp</td>\n",
       "      <td>Flanders</td>\n",
       "      <td>NaN</td>\n",
       "      <td>NaN</td>\n",
       "      <td>4.0</td>\n",
       "      <td>apartment</td>\n",
       "      <td>NaN</td>\n",
       "      <td>0.0</td>\n",
       "      <td>1.0</td>\n",
       "      <td>1.0</td>\n",
       "      <td>2</td>\n",
       "      <td>residential_sale</td>\n",
       "      <td>Anvers</td>\n",
       "      <td>11002</td>\n",
       "    </tr>\n",
       "    <tr>\n",
       "      <th>102979</th>\n",
       "      <td>https://www.immoweb.be/en/classified/apartment/for-sale/brugge/8000/11485038</td>\n",
       "      <td>1.0</td>\n",
       "      <td>2</td>\n",
       "      <td>NaN</td>\n",
       "      <td>Belgium</td>\n",
       "      <td>Brugge</td>\n",
       "      <td>0.0</td>\n",
       "      <td>POSSIBLE_FLOOD_ZONE</td>\n",
       "      <td>0.0</td>\n",
       "      <td>0.0</td>\n",
       "      <td>0.0</td>\n",
       "      <td>None</td>\n",
       "      <td>100.0</td>\n",
       "      <td>Brugge</td>\n",
       "      <td>NaN</td>\n",
       "      <td>NaN</td>\n",
       "      <td>D</td>\n",
       "      <td>8000</td>\n",
       "      <td>310000</td>\n",
       "      <td>11485038</td>\n",
       "      <td>West Flanders</td>\n",
       "      <td>Flanders</td>\n",
       "      <td>8.0</td>\n",
       "      <td>NaN</td>\n",
       "      <td>NaN</td>\n",
       "      <td>apartment</td>\n",
       "      <td>NaN</td>\n",
       "      <td>0.0</td>\n",
       "      <td>1.0</td>\n",
       "      <td>0.0</td>\n",
       "      <td>2</td>\n",
       "      <td>residential_sale</td>\n",
       "      <td>Bruges</td>\n",
       "      <td>31005</td>\n",
       "    </tr>\n",
       "  </tbody>\n",
       "</table>\n",
       "<p>101794 rows × 34 columns</p>\n",
       "</div>"
      ],
      "text/plain": [
       "                                                                                    Url  \\\n",
       "0       https://www.immoweb.be/en/classified/apartment/for-sale/zeebrugge/8380/10957010   \n",
       "1             https://www.immoweb.be/en/classified/house/for-sale/tournai/7500/10956841   \n",
       "2        https://www.immoweb.be/en/classified/house/for-sale/blankenberge/8370/10956807   \n",
       "3            https://www.immoweb.be/en/classified/house/for-sale/de-panne/8660/10956664   \n",
       "4         https://www.immoweb.be/en/classified/apartment/for-sale/hasselt/3500/10956668   \n",
       "...                                                                                 ...   \n",
       "102975     https://www.immoweb.be/en/classified/apartment/for-sale/wellen/3830/11418059   \n",
       "102976         https://www.immoweb.be/en/classified/house/for-sale/aalter/9880/11425357   \n",
       "102977      https://www.immoweb.be/en/classified/house/for-sale/antwerpen/2020/11370107   \n",
       "102978  https://www.immoweb.be/en/classified/apartment/for-sale/antwerpen/2140/11485314   \n",
       "102979     https://www.immoweb.be/en/classified/apartment/for-sale/brugge/8000/11485038   \n",
       "\n",
       "        BathroomCount  BedroomCount  ConstructionYear  Country  District  \\\n",
       "0                 1.0             1            1969.0  Belgium    Brugge   \n",
       "1                 6.0            13            1920.0  Belgium   Tournai   \n",
       "2                 2.0             4            2008.0  Belgium    Brugge   \n",
       "3                 1.0             4               NaN  Belgium    Veurne   \n",
       "4                 0.0             2            1972.0  Belgium   Hasselt   \n",
       "...               ...           ...               ...      ...       ...   \n",
       "102975            1.0             1            2017.0  Belgium  Tongeren   \n",
       "102976            1.0             3            2024.0  Belgium      Gent   \n",
       "102977            4.0             4               NaN  Belgium   Antwerp   \n",
       "102978            1.0             2               NaN  Belgium   Antwerp   \n",
       "102979            1.0             2               NaN  Belgium    Brugge   \n",
       "\n",
       "        Fireplace         FloodingZone  Furnished  Garden  GardenArea  \\\n",
       "0             0.0                 None        0.0     0.0         0.0   \n",
       "1             0.0                 None        0.0     0.0         0.0   \n",
       "2             0.0       NON_FLOOD_ZONE        1.0     0.0         0.0   \n",
       "3             0.0                 None        0.0     1.0         1.0   \n",
       "4             0.0       NON_FLOOD_ZONE        0.0     0.0         0.0   \n",
       "...           ...                  ...        ...     ...         ...   \n",
       "102975        0.0                 None        0.0     0.0         0.0   \n",
       "102976        0.0                 None        0.0     1.0       168.0   \n",
       "102977        0.0                 None        0.0     0.0         0.0   \n",
       "102978        0.0       NON_FLOOD_ZONE        0.0     0.0         0.0   \n",
       "102979        0.0  POSSIBLE_FLOOD_ZONE        0.0     0.0         0.0   \n",
       "\n",
       "               Kitchen  LivingArea      Locality  MonthlyCharges  \\\n",
       "0                 None        29.0     Zeebrugge             NaN   \n",
       "1                 None       391.0       Tournai             NaN   \n",
       "2            INSTALLED       111.0  BLANKENBERGE             NaN   \n",
       "3                 None         NaN      De Panne             NaN   \n",
       "4                 None        92.0       Hasselt             NaN   \n",
       "...                ...         ...           ...             ...   \n",
       "102975   SEMI_EQUIPPED        83.0        WELLEN             NaN   \n",
       "102976            None       129.0        Aalter             NaN   \n",
       "102977            None       318.0     Antwerpen             NaN   \n",
       "102978  HYPER_EQUIPPED        85.0     Antwerpen             NaN   \n",
       "102979            None       100.0        Brugge             NaN   \n",
       "\n",
       "        NumberOfFacades   PEB  PostalCode   Price  PropertyId       Province  \\\n",
       "0                   NaN  None        8380   99000    10957010  West Flanders   \n",
       "1                   3.0     D        7500  765000    10956841        Hainaut   \n",
       "2                   2.0     B        8370  399000    10956807  West Flanders   \n",
       "3                   2.0     F        8660  230000    10956664  West Flanders   \n",
       "4                   NaN     B        3500  198000    10956668        Limburg   \n",
       "...                 ...   ...         ...     ...         ...            ...   \n",
       "102975              2.0     A        3830  219000    11418059        Limburg   \n",
       "102976              NaN  None        9880  409000    11425357  East Flanders   \n",
       "102977              2.0     C        2020  599000    11370107        Antwerp   \n",
       "102978              4.0     D        2140  245000    11485314        Antwerp   \n",
       "102979              NaN     D        8000  310000    11485038  West Flanders   \n",
       "\n",
       "          Region  RoomCount  ShowerCount  StateOfBuilding SubtypeOfProperty  \\\n",
       "0       Flanders        1.0          0.0              4.0       flat_studio   \n",
       "1       Wallonie       31.0          NaN              4.0   apartment_block   \n",
       "2       Flanders        NaN          0.0              4.0             house   \n",
       "3       Flanders        NaN          NaN              1.0             house   \n",
       "4       Flanders        1.0          0.0              6.0         apartment   \n",
       "...          ...        ...          ...              ...               ...   \n",
       "102975  Flanders        NaN          0.0              4.0      service_flat   \n",
       "102976  Flanders        4.0          NaN              4.0             house   \n",
       "102977  Flanders        NaN          NaN              5.0   apartment_block   \n",
       "102978  Flanders        NaN          NaN              4.0         apartment   \n",
       "102979  Flanders        8.0          NaN              NaN         apartment   \n",
       "\n",
       "        SurfaceOfPlot  SwimmingPool  Terrace  ToiletCount  TypeOfProperty  \\\n",
       "0                 NaN           0.0      1.0          1.0               2   \n",
       "1               130.0           0.0      0.0          5.0               1   \n",
       "2                 0.0           0.0      0.0          2.0               1   \n",
       "3               170.0           0.0      1.0          2.0               1   \n",
       "4                 NaN           0.0      1.0          1.0               2   \n",
       "...               ...           ...      ...          ...             ...   \n",
       "102975            NaN           0.0      1.0          1.0               2   \n",
       "102976          234.0           0.0      0.0          0.0               1   \n",
       "102977          202.0           0.0      0.0          0.0               1   \n",
       "102978            NaN           0.0      1.0          1.0               2   \n",
       "102979            NaN           0.0      1.0          0.0               2   \n",
       "\n",
       "              TypeOfSale   Nom commune  Refnis code  \n",
       "0       residential_sale        Bruges        31005  \n",
       "1       residential_sale       Tournai        57081  \n",
       "2       residential_sale  Blankenberge        31004  \n",
       "3       residential_sale      La Panne        38008  \n",
       "4       residential_sale       Hasselt        71022  \n",
       "...                  ...           ...          ...  \n",
       "102975  residential_sale        Wellen        73098  \n",
       "102976  residential_sale        Aalter        44084  \n",
       "102977  residential_sale        Anvers        11002  \n",
       "102978  residential_sale        Anvers        11002  \n",
       "102979  residential_sale        Bruges        31005  \n",
       "\n",
       "[101794 rows x 34 columns]"
      ]
     },
     "execution_count": 21,
     "metadata": {},
     "output_type": "execute_result"
    }
   ],
   "source": [
    "municipality_name = pd.read_excel(\"Conversion Postal code_Refnis code_va01012019.xlsx\")\n",
    "zip_code = municipality_name[[\"Postal code\", \"Nom commune\",\"Refnis code\"]]\n",
    "zip_code.rename(columns={\"Postal code\": \"PostalCode\"}, inplace=True)\n",
    "data_municipality = pd.merge(sale_data,zip_code,on=\"PostalCode\",how='inner')\n",
    "data_municipality = data_municipality.drop_duplicates(\"PropertyId\")\n",
    "data_municipality"
   ]
  },
  {
   "cell_type": "markdown",
   "metadata": {},
   "source": [
    "### More and less expensives municipality in Wallonia"
   ]
  },
  {
   "cell_type": "code",
   "execution_count": 22,
   "metadata": {},
   "outputs": [
    {
     "name": "stdout",
     "output_type": "stream",
     "text": [
      "    Nom commune         €/m2\n",
      "138    La Hulpe  4131.251659\n",
      "    Nom commune         €/m2\n",
      "57  Colfontaine  1098.012172\n"
     ]
    }
   ],
   "source": [
    "municipality_price = data_municipality[[\"Nom commune\",\"Region\",\"Price\",\"LivingArea\",\"Refnis code\"]]\n",
    "wallonia_price = municipality_price[~municipality_price.Region.isin([\"Flanders\", \"Brussels\"])]\n",
    "wallonia_price[\"€/m2\"] = wallonia_price[\"Price\"] / wallonia_price[\"LivingArea\"]\n",
    "wallonia_price = wallonia_price.groupby(\"Nom commune\",as_index=False)[[\"€/m2\"]].mean()\n",
    "wallonia_price = wallonia_price.sort_values(\"€/m2\", ascending=False)\n",
    "print(wallonia_price.head(1))\n",
    "print(wallonia_price.tail(1))"
   ]
  },
  {
   "cell_type": "markdown",
   "metadata": {},
   "source": [
    "### More and less expensives municipality in Brussels"
   ]
  },
  {
   "cell_type": "code",
   "execution_count": 23,
   "metadata": {},
   "outputs": [
    {
     "name": "stdout",
     "output_type": "stream",
     "text": [
      "  Nom commune         €/m2\n",
      "1   Auderghem  5077.211291\n",
      "            Nom commune         €/m2\n",
      "9  Molenbeek-Saint-Jean  2623.717863\n"
     ]
    }
   ],
   "source": [
    "brussels_price = municipality_price[~municipality_price.Region.isin([\"Flanders\", \"Wallonie\"])]\n",
    "brussels_price[\"€/m2\"] = brussels_price[\"Price\"] / brussels_price[\"LivingArea\"]\n",
    "brussels_price = brussels_price.groupby(\"Nom commune\",as_index=False)[[\"€/m2\"]].mean()\n",
    "brussels_price = brussels_price.sort_values(\"€/m2\", ascending=False)\n",
    "print(brussels_price.head(1))\n",
    "print(brussels_price.tail(1))"
   ]
  },
  {
   "cell_type": "markdown",
   "metadata": {},
   "source": [
    "### More and less expensives municipality in Flanders"
   ]
  },
  {
   "cell_type": "code",
   "execution_count": 24,
   "metadata": {},
   "outputs": [
    {
     "name": "stdout",
     "output_type": "stream",
     "text": [
      "      Nom commune          €/m2\n",
      "133  Knokke-Heist  10367.533472\n",
      "    Nom commune         €/m2\n",
      "189    Messines  1356.232787\n"
     ]
    }
   ],
   "source": [
    "flanders_price = municipality_price[~municipality_price.Region.isin([\"Brussels\", \"Wallonie\"])]\n",
    "flanders_price[\"€/m2\"] = flanders_price[\"Price\"] / flanders_price[\"LivingArea\"]\n",
    "flanders_price = flanders_price.groupby(\"Nom commune\",as_index=False)[[\"€/m2\"]].mean()\n",
    "flanders_price = flanders_price.sort_values(\"€/m2\", ascending=False)\n",
    "print(flanders_price.head(1))\n",
    "print(flanders_price.tail(1))"
   ]
  },
  {
   "cell_type": "markdown",
   "metadata": {},
   "source": [
    "### Global €/m2 per municpality (sale)"
   ]
  },
  {
   "cell_type": "code",
   "execution_count": 33,
   "metadata": {},
   "outputs": [
    {
     "data": {
      "text/html": [
       "<div>\n",
       "<style scoped>\n",
       "    .dataframe tbody tr th:only-of-type {\n",
       "        vertical-align: middle;\n",
       "    }\n",
       "\n",
       "    .dataframe tbody tr th {\n",
       "        vertical-align: top;\n",
       "    }\n",
       "\n",
       "    .dataframe thead th {\n",
       "        text-align: right;\n",
       "    }\n",
       "</style>\n",
       "<table border=\"1\" class=\"dataframe\">\n",
       "  <thead>\n",
       "    <tr style=\"text-align: right;\">\n",
       "      <th></th>\n",
       "      <th>Nom commune</th>\n",
       "      <th>LivingArea</th>\n",
       "      <th>Price</th>\n",
       "      <th>Refnis code</th>\n",
       "      <th>Province</th>\n",
       "      <th>€/m2</th>\n",
       "    </tr>\n",
       "  </thead>\n",
       "  <tbody>\n",
       "    <tr>\n",
       "      <th>277</th>\n",
       "      <td>Knokke-Heist</td>\n",
       "      <td>332983.0</td>\n",
       "      <td>3665555801</td>\n",
       "      <td>13008.0</td>\n",
       "      <td>Antwerp</td>\n",
       "      <td>11008.237060</td>\n",
       "    </tr>\n",
       "    <tr>\n",
       "      <th>280</th>\n",
       "      <td>Koksijde</td>\n",
       "      <td>79778.0</td>\n",
       "      <td>442230281</td>\n",
       "      <td>45061.0</td>\n",
       "      <td>East Flanders</td>\n",
       "      <td>5543.261062</td>\n",
       "    </tr>\n",
       "    <tr>\n",
       "      <th>475</th>\n",
       "      <td>Sint-Martens-Latem</td>\n",
       "      <td>12571.0</td>\n",
       "      <td>67024833</td>\n",
       "      <td>38016.0</td>\n",
       "      <td>West Flanders</td>\n",
       "      <td>5331.702569</td>\n",
       "    </tr>\n",
       "    <tr>\n",
       "      <th>31</th>\n",
       "      <td>Auderghem</td>\n",
       "      <td>36207.0</td>\n",
       "      <td>181613300</td>\n",
       "      <td>23002.0</td>\n",
       "      <td>Flemish Brabant</td>\n",
       "      <td>5015.972050</td>\n",
       "    </tr>\n",
       "    <tr>\n",
       "      <th>225</th>\n",
       "      <td>Herbeumont</td>\n",
       "      <td>778.0</td>\n",
       "      <td>3830000</td>\n",
       "      <td>21002.0</td>\n",
       "      <td>Brussels</td>\n",
       "      <td>4922.879177</td>\n",
       "    </tr>\n",
       "    <tr>\n",
       "      <th>...</th>\n",
       "      <td>...</td>\n",
       "      <td>...</td>\n",
       "      <td>...</td>\n",
       "      <td>...</td>\n",
       "      <td>...</td>\n",
       "      <td>...</td>\n",
       "    </tr>\n",
       "    <tr>\n",
       "      <th>106</th>\n",
       "      <td>Châtelet</td>\n",
       "      <td>28669.0</td>\n",
       "      <td>34062785</td>\n",
       "      <td>71053.0</td>\n",
       "      <td>Limburg</td>\n",
       "      <td>1188.139977</td>\n",
       "    </tr>\n",
       "    <tr>\n",
       "      <th>241</th>\n",
       "      <td>Honnelles</td>\n",
       "      <td>9354.0</td>\n",
       "      <td>10513500</td>\n",
       "      <td>24062.0</td>\n",
       "      <td>Flemish Brabant</td>\n",
       "      <td>1123.957665</td>\n",
       "    </tr>\n",
       "    <tr>\n",
       "      <th>477</th>\n",
       "      <td>Sivry-Rance</td>\n",
       "      <td>6582.0</td>\n",
       "      <td>7372551</td>\n",
       "      <td>38016.0</td>\n",
       "      <td>West Flanders</td>\n",
       "      <td>1120.108022</td>\n",
       "    </tr>\n",
       "    <tr>\n",
       "      <th>291</th>\n",
       "      <td>La Calamine</td>\n",
       "      <td>9488.0</td>\n",
       "      <td>10257000</td>\n",
       "      <td>11002.0</td>\n",
       "      <td>Antwerp</td>\n",
       "      <td>1081.049747</td>\n",
       "    </tr>\n",
       "    <tr>\n",
       "      <th>74</th>\n",
       "      <td>Bouillon</td>\n",
       "      <td>22939.0</td>\n",
       "      <td>24593900</td>\n",
       "      <td>44021.0</td>\n",
       "      <td>East Flanders</td>\n",
       "      <td>1072.143511</td>\n",
       "    </tr>\n",
       "  </tbody>\n",
       "</table>\n",
       "<p>577 rows × 6 columns</p>\n",
       "</div>"
      ],
      "text/plain": [
       "            Nom commune  LivingArea       Price  Refnis code         Province  \\\n",
       "277        Knokke-Heist    332983.0  3665555801      13008.0          Antwerp   \n",
       "280            Koksijde     79778.0   442230281      45061.0    East Flanders   \n",
       "475  Sint-Martens-Latem     12571.0    67024833      38016.0    West Flanders   \n",
       "31            Auderghem     36207.0   181613300      23002.0  Flemish Brabant   \n",
       "225          Herbeumont       778.0     3830000      21002.0         Brussels   \n",
       "..                  ...         ...         ...          ...              ...   \n",
       "106            Châtelet     28669.0    34062785      71053.0          Limburg   \n",
       "241           Honnelles      9354.0    10513500      24062.0  Flemish Brabant   \n",
       "477         Sivry-Rance      6582.0     7372551      38016.0    West Flanders   \n",
       "291         La Calamine      9488.0    10257000      11002.0          Antwerp   \n",
       "74             Bouillon     22939.0    24593900      44021.0    East Flanders   \n",
       "\n",
       "             €/m2  \n",
       "277  11008.237060  \n",
       "280   5543.261062  \n",
       "475   5331.702569  \n",
       "31    5015.972050  \n",
       "225   4922.879177  \n",
       "..            ...  \n",
       "106   1188.139977  \n",
       "241   1123.957665  \n",
       "477   1120.108022  \n",
       "291   1081.049747  \n",
       "74    1072.143511  \n",
       "\n",
       "[577 rows x 6 columns]"
      ]
     },
     "execution_count": 33,
     "metadata": {},
     "output_type": "execute_result"
    }
   ],
   "source": [
    "municipality_price_m2 = data_municipality[[\"LivingArea\",\"Price\",\"Nom commune\",\"Province\"]]\n",
    "municipality_price_m2 = data_municipality.groupby(\"Nom commune\",as_index=False)[[\"LivingArea\",\"Price\"]].sum()\n",
    "municipality_price_m2[\"Refnis code\"] = data_municipality[\"Refnis code\"]\n",
    "municipality_price_m2[\"Province\"] = data_municipality[\"Province\"]\n",
    "municipality_price_m2[\"€/m2\"] = municipality_price_m2[\"Price\"] / municipality_price_m2[\"LivingArea\"]\n",
    "municipality_price_m2.sort_values(\"€/m2\",ascending=False)\n",
    "\n"
   ]
  },
  {
   "cell_type": "markdown",
   "metadata": {},
   "source": [
    "### Global €/m2 per municpality (rent)"
   ]
  },
  {
   "cell_type": "code",
   "execution_count": null,
   "metadata": {},
   "outputs": [],
   "source": [
    "municipality_name = pd.read_excel(\"Conversion Postal code_Refnis code_va01012019.xlsx\")\n",
    "zip_code = municipality_name[[\"Postal code\", \"Nom commune\",\"Refnis code\"]]\n",
    "zip_code.rename(columns={\"Postal code\": \"PostalCode\"}, inplace=True)\n",
    "data_municipality_rent = pd.merge(rent_data,zip_code,on=\"PostalCode\",how='inner')\n",
    "data_municipality_rent = data_municipality_rent.drop_duplicates(\"PropertyId\")\n",
    "data_municipality_rent"
   ]
  },
  {
   "cell_type": "code",
   "execution_count": null,
   "metadata": {},
   "outputs": [],
   "source": [
    "municipality_price_m2_rent = data_municipality_rent[[\"Price\",\"Nom commune\"]]\n",
    "municipality_price_m2_rent.drop(municipality_price_m2_rent[municipality_price_m2_rent[\"Price\"] < 195].index, inplace=True)\n",
    "municipality_price_m2_rent.drop(municipality_price_m2_rent[municipality_price_m2_rent[\"Price\"] > 18000].index, inplace=True)\n",
    "municipality_price_m2_rent = data_municipality_rent.groupby(\"Nom commune\",as_index=False)[[\"Price\"]].mean()\n",
    "municipality_price_m2_rent[\"Refnis code\"] = data_municipality_rent[\"Refnis code\"]\n",
    "municipality_price_m2_rent.sort_values(\"Price\",ascending=False)"
   ]
  },
  {
   "cell_type": "code",
   "execution_count": 34,
   "metadata": {},
   "outputs": [
    {
     "data": {
      "application/vnd.plotly.v1+json": {
       "config": {
        "plotlyServerURL": "https://plot.ly"
       },
       "data": [
        {
         "hovertemplate": "Province=West Flanders<br>Nom commune=%{x}<br>€/m2=%{y}<extra></extra>",
         "legendgroup": "West Flanders",
         "marker": {
          "color": "#636efa",
          "symbol": "circle"
         },
         "mode": "markers",
         "name": "West Flanders",
         "orientation": "v",
         "showlegend": true,
         "type": "scatter",
         "x": [
          "Aalter",
          "Aartselaar",
          "Affligem",
          "Amblève",
          "Anderlues",
          "Anhée",
          "Arlon",
          "Bièvre",
          "Blegny",
          "Bocholt",
          "Boechout",
          "Bredene",
          "Brugelette",
          "Bruges",
          "Bruxelles",
          "Chaudfontaine",
          "Deinze",
          "Diest",
          "Dilsen-Stokkem",
          "Dinant",
          "Dison",
          "Dixmude",
          "Doische",
          "Durbuy",
          "Evergem",
          "Flémalle",
          "Fléron",
          "Fontaine-l’Evêque",
          "Forest",
          "Fourons",
          "Frameries",
          "Froidchapelle",
          "Furnes",
          "Gammerages",
          "Gand",
          "Ganshoren",
          "Hamont-Achel",
          "Hannut",
          "Harelbeke",
          "Hasselt",
          "Hastière",
          "Hechtel-Eksel",
          "Houyet",
          "Huldenberg",
          "Izegem",
          "Jabbeke",
          "Jalhay",
          "Jemeppe-sur-Sambre",
          "Jodoigne",
          "Kalmthout",
          "Koekelare",
          "Koekelberg",
          "La Bruyère",
          "Laakdal",
          "Laarne",
          "Lasne",
          "Lierde",
          "Lint",
          "Linter",
          "Liège",
          "Lo-Reninge",
          "Lobbes",
          "Lochristi",
          "Lokeren",
          "Lommel",
          "Looz",
          "Léau",
          "Léglise",
          "Maarkedal",
          "Maasmechelen",
          "Manhay",
          "Marche-en-Famenne",
          "Marchin",
          "Martelange",
          "Meerhout",
          "Messines",
          "Mettet",
          "Modave",
          "Nieuwerkerken",
          "Ninove",
          "Nivelles",
          "Ohey",
          "Olen",
          "Olne",
          "Onhaye",
          "Oosterzele",
          "Oostkamp",
          "Oostrozebeke",
          "Opwijk",
          "Oreye",
          "Orp-Jauche",
          "Ostende",
          "Pepingen",
          "Quiévrain",
          "Quévy",
          "Raeren",
          "Ranst",
          "Ravels",
          "Rebecq",
          "Remicourt",
          "Renaix",
          "Rendeux",
          "Retie",
          "Rhode-Saint-Genèse",
          "Riemst",
          "Rijkevorsel",
          "Rixensart",
          "Rochefort",
          "Roosdaal",
          "Roulers",
          "Saint-Josse-ten-Noode",
          "Schilde",
          "Silly",
          "Sint-Katelijne-Waver",
          "Sint-Laureins",
          "Sint-Lievens-Houtem",
          "Sint-Martens-Latem",
          "Sint-Pieters-Leeuw",
          "Sivry-Rance",
          "Soignies",
          "Sombreffe",
          "Somme-Leuze",
          "Soumagne",
          "Spa",
          "Sprimont",
          "Stabroek",
          "Staden",
          "Stavelot",
          "Steenokkerzeel",
          "Stekene",
          "Stoumont",
          "Tamise",
          "Tellin",
          "Tenneville",
          "Termonde",
          "Ternat",
          "Tervuren",
          "Tessenderlo",
          "Theux",
          "Thimister-Clermont",
          "Thuin",
          "Tielt",
          "Tielt-Winge",
          "Tinlot",
          "Tintigny",
          "Tirlemont",
          "Tongres",
          "Torhout",
          "Tournai",
          "Vielsalm",
          "Walhain",
          "Wanze",
          "Wemmel",
          "Woluwe-Saint-Lambert",
          "Zwijndrecht"
         ],
         "xaxis": "x",
         "y": [
          3117.608466409344,
          2807.633203174203,
          2725.344159762989,
          2924.9353383458647,
          1523.3234344738541,
          2652.7744701119314,
          2854.1559968266943,
          2138.765978367748,
          2320.680651023149,
          2197.1047549071063,
          3261.662217985383,
          3290.842802277844,
          2400.24580090127,
          3582.0158620513216,
          4129.429878476608,
          3018.877619559377,
          3055.734176570242,
          2490.301956067608,
          1759.1382036899372,
          1774.0724724638924,
          1726.9037169001538,
          2090.4862972443907,
          1701.6177957532861,
          2238.330352746028,
          3253.1574639715072,
          1762.4402501234163,
          2472.9825328980583,
          1473.1317541523583,
          3673.2801188162616,
          2684.77047146402,
          1632.2764631915866,
          2688.8559046587216,
          2823.310012971254,
          2592.772501733981,
          3716.0208779060868,
          2940.8611860580363,
          1979.2353823088456,
          1898.086754407148,
          2422.6866662849948,
          3413.1537219006595,
          1535.403449442002,
          2456.6590239985726,
          1777.0107844842582,
          3234.618664671779,
          2131.9064457202503,
          2978.26130989347,
          2718.903407009403,
          1415.9933554817276,
          2082.338192179048,
          3294.6520800075123,
          2927.9691368212575,
          2866.5252875779192,
          2911.623602484472,
          2405.3157721899042,
          3315.7554347826085,
          3505.1738218897412,
          2021.631573655103,
          2975.6681534344334,
          2050.1770665438635,
          2351.9552161381307,
          1857.7165083524403,
          1794.6562562562563,
          3426.449915697549,
          3168.340199422724,
          2499.6075847323964,
          2029.689311142352,
          2304.3774031351672,
          1930.8306131965494,
          2494.1847435478603,
          2420.5930932412434,
          1269.7737710494982,
          2168.4083199320326,
          1845.9309981564393,
          2337.5912408759123,
          2391.22932501418,
          1283.1715210355987,
          2165.1578437180247,
          1498.1789802289281,
          2129.5786924939466,
          2446.3844038661023,
          2683.300420124156,
          2662.4385192855293,
          2374.258099623273,
          2286.8322558693435,
          1841.9781604367913,
          2685.1112909249346,
          3745.570177981332,
          2463.2679837489045,
          2582.2977644618577,
          1779.111799638523,
          2168.073710599529,
          4063.117075524603,
          1876.6427599851613,
          2429.6777454434064,
          1886.4533116178068,
          2432.9171746492502,
          2879.317956631203,
          2760.5744600703165,
          2175.184775770648,
          1509.2794759825329,
          2177.5394046068695,
          1634.4715629198388,
          2624.596236423339,
          3875.588214001303,
          1852.6825287882255,
          2970.0823529411764,
          2903.1071534092775,
          2222.7305246422893,
          2522.2125754147814,
          2603.0461031939135,
          2800.1294458484867,
          3576.600799041151,
          2032.1477469171373,
          2846.1725755686207,
          2543.339472068754,
          2567.6207096027765,
          5331.702569405776,
          2762.263561357059,
          1120.1080218778486,
          2188.381080018584,
          1589.4049838955755,
          1737.147473560517,
          2183.949066348828,
          2754.0113452188007,
          1871.1574771651444,
          2488.6419977298524,
          2852.790132117386,
          2065.123243492283,
          2739.0889612435667,
          2428.593256641448,
          2122.884940778342,
          2508.768023023879,
          1542.548596112311,
          2091.473136915078,
          2447.2460392368366,
          2514.1324743777454,
          4054.78248500692,
          2660.5904018502456,
          2143.2844517820727,
          2280.5736913561623,
          1704.4255107906151,
          3692.4662527632754,
          2806.020790327337,
          2008.682328907048,
          2615.376618431074,
          2194.2525561170523,
          2460.544853674759,
          3342.8315138912953,
          2325.845434643802,
          2019.3865456105234,
          2415.600702282418,
          2272.2008147087968,
          3304.7403777800346,
          4304.183618953684,
          2424.2360248447203
         ],
         "yaxis": "y"
        },
        {
         "hovertemplate": "Province=Hainaut<br>Nom commune=%{x}<br>€/m2=%{y}<extra></extra>",
         "legendgroup": "Hainaut",
         "marker": {
          "color": "#EF553B",
          "symbol": "circle"
         },
         "mode": "markers",
         "name": "Hainaut",
         "orientation": "v",
         "showlegend": true,
         "type": "scatter",
         "x": [
          "Aarschot",
          "Ans",
          "Antoing",
          "Ardooie",
          "Awans",
          "Aywaille",
          "Baerle-Duc",
          "Berchem-Sainte-Agathe",
          "Berlaar",
          "Berloz",
          "Bertogne",
          "Braine-l’Alleud",
          "Erquelinnes",
          "Etalle",
          "Eupen",
          "Evere",
          "Genappe",
          "Gesves",
          "Gingelom",
          "Gistel",
          "Glabbeek",
          "Gooik",
          "Gouvy",
          "Grammont",
          "Grez-Doiceau",
          "Grimbergen",
          "Grobbendonk",
          "Grâce-Hollogne",
          "Haacht",
          "Haaltert",
          "Habay",
          "Hal",
          "Halen",
          "Ham",
          "Ham-sur-Heure-Nalinnes",
          "Hamme",
          "Hamoir",
          "Hamois",
          "Heers",
          "Hulshout",
          "Hélécine",
          "Ichtegem",
          "Lendelede",
          "Lessines",
          "Lievegem",
          "Lille",
          "Limbourg",
          "Lincent",
          "Maldegem",
          "Malines",
          "Meise",
          "Melle",
          "Merelbeke",
          "Merksplas",
          "Molenbeek-Saint-Jean",
          "Momignies",
          "Mons",
          "Mont-Saint-Guibert",
          "Mont-de-l’Enclus",
          "Montaigu-Zichem",
          "Montigny-le-Tilleul",
          "Moorslede",
          "Morlanwelz",
          "Mortsel",
          "Mouscron",
          "Musson",
          "Namur",
          "Nandrin",
          "Nassogne",
          "Nazareth",
          "Neufchâteau",
          "Neupré",
          "Niel",
          "Nieuport",
          "Ottignies-Louvain-la-Neuve",
          "Paliseul",
          "Pecq",
          "Peer",
          "Pelt",
          "Rumst",
          "Saint-Vith",
          "Willebroek"
         ],
         "xaxis": "x",
         "y": [
          2902.790270976167,
          2389.286987782779,
          2131.620232367093,
          2718.1586429112963,
          1864.8873139617292,
          2356.461128229438,
          3145.481176048763,
          3190.686121919585,
          3583.162333610649,
          1742.845135376376,
          2366.0296735905044,
          3030.528087862105,
          1529.8086290883787,
          1965.7579787234042,
          2721.320557491289,
          3658.20574959183,
          2179.0898063846953,
          2352.228383651674,
          2012.0897606904668,
          3120.707751257284,
          2209.2876765331785,
          3295.699951290794,
          2191.3399941228326,
          2118.039339623866,
          2989.6303270211474,
          3090.415399886557,
          2305.9793323539843,
          1747.572530357729,
          2934.024491730749,
          2667.869441277081,
          2580.357773027009,
          2690.4947372532174,
          2396.15479497722,
          2213.2228711379053,
          2769.1392831614417,
          2615.2242110948227,
          2348.8868198307136,
          2378.396723646724,
          1949.9368968077208,
          2510.804588366663,
          2348.22375397667,
          3113.128285507596,
          2041.5603900975243,
          1787.3588635768526,
          3004.417573320719,
          2370.034451729014,
          2536.4269472424453,
          2122.640958442531,
          3261.3013089418073,
          3220.7035231239092,
          2696.3194184116105,
          3835.9874191229333,
          3646.9485586562796,
          3652.703460108665,
          2549.444477417896,
          1615.6185074626865,
          2266.183564513245,
          2616.796616889124,
          2928.4737343278844,
          2649.915251912062,
          2104.033843238121,
          2516.6447852760734,
          1646.547693247785,
          2967.922199380375,
          2154.090620014889,
          2101.2844036697247,
          2723.2290544415996,
          1967.1941971645235,
          1719.6476683937824,
          2644.538594875684,
          1671.5219078164605,
          2609.93648693351,
          2546.8494649417025,
          4470.933428173711,
          3404.5669781931465,
          1532.0249221183801,
          2811.185686015831,
          2722.3634463759854,
          2327.1167639307228,
          2969.976064028723,
          2723.875573499725,
          2754.088023238804
         ],
         "yaxis": "y"
        },
        {
         "hovertemplate": "Province=Limburg<br>Nom commune=%{x}<br>€/m2=%{y}<extra></extra>",
         "legendgroup": "Limburg",
         "marker": {
          "color": "#00cc96",
          "symbol": "circle"
         },
         "mode": "markers",
         "name": "Limburg",
         "orientation": "v",
         "showlegend": true,
         "type": "scatter",
         "x": [
          "Aiseau-Presles",
          "Balen",
          "Bassenge",
          "Bastogne",
          "Beaumont",
          "Beauraing",
          "Beauvechain",
          "Beernem",
          "Beerse",
          "Beersel",
          "Begijnendijk",
          "Bekkevoort",
          "Beloeil",
          "Binche",
          "Châtelet",
          "Erezée",
          "Fosses-la-Ville",
          "Houthulst",
          "Kinrooi",
          "Kluisbergen",
          "Les Bons Villers",
          "Londerzeel",
          "Malle",
          "Malmedy",
          "Meix-devant-Virton",
          "Wervik",
          "Westerlo"
         ],
         "xaxis": "x",
         "y": [
          1443.6833333333334,
          2473.583372865275,
          1725.4127966976264,
          3037.2100346383963,
          1644.630301213847,
          1807.6923076923076,
          2399.1201738950417,
          3416.475916861744,
          2675.095605533076,
          2805.9232314807796,
          2701.416087282062,
          2510.587809566889,
          1499.0449019488058,
          1927.4406927349962,
          1188.139976978618,
          1770.4657447146717,
          2082.798790343605,
          2625.8408578565773,
          2083.7145918367346,
          3042.8248993171073,
          2038.1832403347948,
          2847.1733742280435,
          3112.991880442457,
          1318.7162659123055,
          1490.8735332464146,
          2277.086135181976,
          2367.1873177156835
         ],
         "yaxis": "y"
        },
        {
         "hovertemplate": "Province=Brussels<br>Nom commune=%{x}<br>€/m2=%{y}<extra></extra>",
         "legendgroup": "Brussels",
         "marker": {
          "color": "#ab63fa",
          "symbol": "circle"
         },
         "mode": "markers",
         "name": "Brussels",
         "orientation": "v",
         "showlegend": true,
         "type": "scatter",
         "x": [
          "Alken",
          "Bertem",
          "Bertrix",
          "Beveren",
          "Beyne-Heusay",
          "Bierbeek",
          "Bilzen",
          "Braives",
          "Brakel",
          "Brasschaat",
          "Bree",
          "Brunehaut",
          "Dour",
          "Estaimpuis",
          "Faimes",
          "Farciennes",
          "Fauvillers",
          "Fernelmont",
          "Ferrières",
          "Fexhe-le-Haut-Clocher",
          "Fleurus",
          "Flobecq",
          "Florenville",
          "Gavere",
          "Gedinne",
          "Geel",
          "Geer",
          "Heist-op-den-Berg",
          "Hensies",
          "Herbeumont",
          "Héron",
          "Ittre",
          "Jette",
          "Kapelle-op-den-Bos",
          "Kasterlee",
          "Ledegem",
          "Libramont-Chevigny",
          "Lichtervelde",
          "Menin",
          "Oupeye",
          "Profondeville",
          "Putte",
          "Ramillies",
          "Saint-Georges-sur-Meuse",
          "Wielsbeke",
          "Wommelgem",
          "Wortegem-Petegem",
          "Zottegem",
          "Zwevegem"
         ],
         "xaxis": "x",
         "y": [
          2106.7598211434047,
          2916.5029705839734,
          2246.903869020397,
          2874.5418739309866,
          1789.7981519507186,
          3578.2965447313004,
          2492.565349544073,
          1860.064266955044,
          2088.7530902669573,
          3585.137528901335,
          2412.2470387365274,
          1977.0632848645075,
          1212.7432341757997,
          2317.781188073183,
          1921.9096145325655,
          1199.2421883110142,
          2179.8845335764204,
          3128.781765134938,
          1384.1932794340576,
          2659.6196373286157,
          1966.0523927745912,
          1554.561717352415,
          3504.086765168186,
          2754.2021176618005,
          2779.1472351765487,
          2662.7349783758864,
          1973.8834097859328,
          2795.4500634298233,
          1685.2752,
          4922.879177377892,
          1676.6706684856754,
          2272.352889358703,
          3049.0025363351383,
          2733.1189206149984,
          2286.007573025604,
          2209.3041455598054,
          2561.355402372555,
          2935.5324691358023,
          2346.7322945775823,
          2230.8121723273307,
          2565.784086946414,
          2333.066067447539,
          1749.794003868472,
          2313.2231504687643,
          2920.170111905502,
          2883.605058507159,
          2930.661946094107,
          2638.0384247486177,
          2892.9723506814457
         ],
         "yaxis": "y"
        },
        {
         "hovertemplate": "Province=Antwerp<br>Nom commune=%{x}<br>€/m2=%{y}<extra></extra>",
         "legendgroup": "Antwerp",
         "marker": {
          "color": "#FFA15A",
          "symbol": "circle"
         },
         "mode": "markers",
         "name": "Antwerp",
         "orientation": "v",
         "showlegend": true,
         "type": "scatter",
         "x": [
          "Alost",
          "Andenne",
          "Anvers",
          "Arendonk",
          "As",
          "Avelgem",
          "Bonheiden",
          "Burdinne",
          "Burg-Reuland",
          "Butgenbach",
          "Celles",
          "Cerfontaine",
          "Chapelle-lez-Herlaimont",
          "Charleroi",
          "Chaumont-Gistoux",
          "Chimay",
          "Chiny",
          "Clavier",
          "Colfontaine",
          "Comblain-au-Pont",
          "Comines-Warneton",
          "Courcelles",
          "Court-Saint-Etienne",
          "Courtrai",
          "Couvin",
          "Crisnée",
          "Dalhem",
          "Duffel",
          "Ecaussinnes",
          "Eeklo",
          "Eghezée",
          "Ellezelles",
          "Enghien",
          "Engis",
          "Incourt",
          "Kapellen",
          "Kaprijke",
          "Keerbergen",
          "Knokke-Heist",
          "La Calamine",
          "La Hulpe",
          "La Louvière",
          "La Panne",
          "Lanaken",
          "Landen",
          "Lierneux",
          "Lierre",
          "Linkebeek",
          "Machelen",
          "Oudenburg",
          "Saint-Hubert",
          "Sainte-Ode",
          "Schaerbeek",
          "Waregem",
          "Wellin",
          "Wetteren",
          "Wevelgem",
          "Wezembeek-Oppem",
          "Wichelen",
          "Wuustwezel",
          "Ypres",
          "Yvoir",
          "Zandhoven",
          "Zaventem",
          "Zedelgem",
          "Zele",
          "Zelzate",
          "Zemst",
          "Zoersel",
          "Zonhoven",
          "Zonnebeke",
          "Zulte",
          "Zutendaal",
          "Zwalin"
         ],
         "xaxis": "x",
         "y": [
          2464.82761759821,
          1552.543984707897,
          3400.90722918513,
          2173.9933132731526,
          1775.563713592233,
          2414.720659313422,
          3540.033776520509,
          3079.0408525754883,
          2228.605674070816,
          1456.028767711464,
          2387.2636627906977,
          1785.8326623049825,
          2017.5540383872215,
          1492.9603101907785,
          3202.554613127192,
          1859.282537226842,
          2283.445491251682,
          1953.749198566849,
          1408.1741764225428,
          2268.117770767613,
          3160.831469165659,
          1751.8998170666093,
          2851.971568880848,
          2798.925217960444,
          1451.8627200816534,
          2465.0974407137824,
          2176.583660987331,
          2521.610553445469,
          1854.9456581858408,
          2417.0040763571287,
          2310.758015006821,
          2344.793641992422,
          2076.543450697357,
          1677.7794096049347,
          2342.3150711639696,
          3685.284587732671,
          3815.6801630434784,
          2513.9073511735305,
          11008.237060150217,
          1081.0497470489038,
          4374.530204810222,
          1652.7937809752198,
          3570.8418222524288,
          2455.321989772199,
          1927.8681637544944,
          1661.1463844797179,
          2983.3939369137843,
          3424.242424242424,
          3235.787253049304,
          2681.808674781416,
          1564.245420482931,
          2032.640467684313,
          2996.3398713337724,
          2656.238922343752,
          1955.1721789883268,
          2717.053178484108,
          2246.1794398276393,
          3700.7593472423055,
          2263.9493549928334,
          3245.441560335399,
          2706.738675664277,
          2153.5396516282594,
          3350.2988763293424,
          3505.9662330950123,
          2813.537159357517,
          2436.482506059648,
          2779.149420965559,
          2930.7240881184543,
          2945.694282075564,
          2204.830188679245,
          2753.971063257066,
          2931.81106870229,
          2018.9182389937107,
          2782.5178926441354
         ],
         "yaxis": "y"
        },
        {
         "hovertemplate": "Province=Flemish Brabant<br>Nom commune=%{x}<br>€/m2=%{y}<extra></extra>",
         "legendgroup": "Flemish Brabant",
         "marker": {
          "color": "#19d3f3",
          "symbol": "circle"
         },
         "mode": "markers",
         "name": "Flemish Brabant",
         "orientation": "v",
         "showlegend": true,
         "type": "scatter",
         "x": [
          "Alveringem",
          "Asse",
          "Assenede",
          "Assesse",
          "Ath",
          "Attert",
          "Aubange",
          "Aubel",
          "Audenarde",
          "Auderghem",
          "Bourg-Léopold",
          "Buggenhout",
          "Dentergem",
          "Dessel",
          "Destelbergen",
          "Diepenbeek",
          "Dilbeek",
          "Herck-la-Ville",
          "Herent",
          "Herentals",
          "Herenthout",
          "Herne",
          "Herselt",
          "Herstal",
          "Herve",
          "Herzele",
          "Heusden-Zolder",
          "Heuvelland",
          "Hoegaarden",
          "Hoeilaart",
          "Hoeselt",
          "Holsbeek",
          "Honnelles",
          "Hoogstraten",
          "Horebeke",
          "Hotton",
          "Houffalize",
          "Houthalen-Helchteren",
          "Hove",
          "La Roche-en-Ardenne",
          "Langemark-Poelkapelle",
          "Leuze-en-Hainaut",
          "Libin",
          "Messancy",
          "Poperinge",
          "Quaregnon",
          "Rotselaar",
          "Saint-Léger",
          "Trooz",
          "Tubize",
          "Turnhout",
          "Uccle",
          "Vaux-sur-Sûre",
          "Verlaine",
          "Verviers",
          "Villers-la-Ville",
          "Vilvorde",
          "Viroinval",
          "Virton",
          "Visé",
          "Vleteren",
          "Vorselaar",
          "Vosselaar",
          "Vresse-sur-Semois",
          "Waasmunster",
          "Wachtebeke",
          "Waimes",
          "Walcourt",
          "Waremme",
          "Wasseiges",
          "Waterloo",
          "Watermael-Boitsfort",
          "Wavre"
         ],
         "xaxis": "x",
         "y": [
          1962.5423271500842,
          3080.2892223452945,
          2549.4649090462144,
          3210.371819960861,
          2133.6950994094045,
          2717.2423245614036,
          2293.3690407684476,
          2075.8288926912737,
          2480.8482800890974,
          5015.972049603668,
          2384.6937610178584,
          2654.694829532626,
          2484.61309352518,
          2569.5358067903394,
          2879.973395641512,
          2600.164180159796,
          2781.2853673908207,
          1762.838940586972,
          3007.200642813253,
          2638.427220050265,
          3467.1474249450816,
          2143.176958224543,
          2418.7544770583872,
          1833.2504835070376,
          2035.2325691485764,
          2241.1811555138875,
          2348.0597785654895,
          2320.3474384162005,
          2226.6990680254335,
          2970.702283498492,
          1988.6314720812184,
          2885.022522948803,
          1123.9576651699808,
          3165.3157483697137,
          2666.1732157177225,
          1436.9580384730389,
          2133.4207406056184,
          2343.5814950980393,
          3604.0661187438664,
          1566.9992005684846,
          4231.552621206149,
          2153.3070622315454,
          1793.3849401829698,
          2214.4454840319363,
          2182.792529495276,
          1262.5942475603492,
          2857.5741410962496,
          2385.971685971686,
          1882.7678622260175,
          2345.9904682231854,
          2387.333039835394,
          4720.442389548715,
          2117.7659517426273,
          2516.801318868326,
          1605.4615755065677,
          2465.129022768724,
          2932.720110505414,
          1334.1724479682855,
          1573.9780603612946,
          2230.708029676318,
          2045.7186212064444,
          2611.546769150599,
          2619.365917992167,
          1810.2265641238828,
          3099.6051331936546,
          2997.6337666381255,
          2377.3425499231953,
          1829.2789777721964,
          2069.680023995201,
          2460.19546086151,
          3632.3712773743173,
          3753.114554846551,
          3189.139436677463
         ],
         "yaxis": "y"
        },
        {
         "hovertemplate": "Province=East Flanders<br>Nom commune=%{x}<br>€/m2=%{y}<extra></extra>",
         "legendgroup": "East Flanders",
         "marker": {
          "color": "#FF6692",
          "symbol": "circle"
         },
         "mode": "markers",
         "name": "East Flanders",
         "orientation": "v",
         "showlegend": true,
         "type": "scatter",
         "x": [
          "Amay",
          "Anderlecht",
          "Berlare",
          "Bernissart",
          "Boom",
          "Boortmeerbeek",
          "Bornem",
          "Borsbeek",
          "Bouillon",
          "Boussu",
          "Boutersem",
          "Braine-le-Château",
          "Braine-le-Comte",
          "Chastre",
          "Denderleeuw",
          "Donceel",
          "Frasnes-lez-Anvaing",
          "Huy",
          "Juprelle",
          "Koksijde",
          "Kontich",
          "Kortemark",
          "Kortenaken",
          "Kortenberg",
          "Kortessem",
          "Kraainem",
          "Kruibeke",
          "Kruisem",
          "Kuurne",
          "Le Roeulx",
          "Lebbeke",
          "Lede",
          "Lennik",
          "Liedekerke",
          "Lontzen",
          "Louvain",
          "Lubbeek",
          "Maaseik",
          "Pepinster",
          "Perwez",
          "Philippeville",
          "Pittem",
          "Plombières",
          "Pont-à-Celles",
          "Rumes",
          "Saint-Gilles",
          "Saint-Nicolas",
          "Saint-Trond",
          "Seraing",
          "Tremelo",
          "Trois-Ponts",
          "Villers-Le-Bouillet",
          "Welkenraedt",
          "Wellen"
         ],
         "xaxis": "x",
         "y": [
          1555.7166666666667,
          2785.0842769569576,
          2721.4070458715596,
          2265.993265993266,
          2410.5504491795978,
          3022.511526639344,
          2846.6704783627174,
          2862.262607861937,
          1072.1435110510483,
          1498.8715619802992,
          2454.339529120198,
          2647.5031675269825,
          2287.694945897083,
          2381.525681014764,
          3019.5918991063486,
          2236.482820976492,
          1904.8766361000078,
          1534.046928251121,
          2340.303516156989,
          5543.261061946902,
          2851.1706863901095,
          2450.4118998611843,
          2445.9071927806776,
          2833.2908557181922,
          2330.2635971623313,
          3963.219814241486,
          2868.5547709470684,
          3171.9303952136174,
          2812.112137203166,
          2209.842373035341,
          2533.2462287463577,
          2738.5226873989473,
          2576.7170784460527,
          2809.4961506041022,
          2550.448377581121,
          4889.221010936623,
          3209.595716762735,
          2438.7508379219535,
          1397.4720903374823,
          2825.488506645817,
          1235.2331011478466,
          3128.919384167778,
          3038.328630503527,
          1856.6640263563718,
          1927.7897495631917,
          3183.7614735415514,
          2594.02914701716,
          2499.8302211900436,
          2071.861154626467,
          2817.6752696052768,
          4233.333333333333,
          1623.8235294117646,
          2921.4051504874947,
          2258.875023281803
         ],
         "yaxis": "y"
        },
        {
         "hovertemplate": "Province=Namur<br>Nom commune=%{x}<br>€/m2=%{y}<extra></extra>",
         "legendgroup": "Namur",
         "marker": {
          "color": "#B6E880",
          "symbol": "circle"
         },
         "mode": "markers",
         "name": "Namur",
         "orientation": "v",
         "showlegend": true,
         "type": "scatter",
         "x": [
          "Anthisnes",
          "Esneux",
          "Genk",
          "Jurbise",
          "Lens",
          "Manage",
          "Nijlen",
          "Ouffet"
         ],
         "xaxis": "x",
         "y": [
          1872.4401249566122,
          3369.32141887612,
          2652.7689995531905,
          1992.524177016761,
          2036.3123310459555,
          1407.5632787929455,
          2438.607997027818,
          2142.5346534653463
         ],
         "yaxis": "y"
        },
        {
         "hovertemplate": "Province=Walloon Brabant<br>Nom commune=%{x}<br>€/m2=%{y}<extra></extra>",
         "legendgroup": "Walloon Brabant",
         "marker": {
          "color": "#FF97FF",
          "symbol": "circle"
         },
         "mode": "markers",
         "name": "Walloon Brabant",
         "orientation": "v",
         "showlegend": true,
         "type": "scatter",
         "x": [
          "Anzegem",
          "Damme",
          "Daverdisse",
          "De Haan",
          "De Pinte",
          "Deerlijk",
          "Espierres-Helchin",
          "Essen",
          "Ingelmunster",
          "Merbes-le-Château",
          "Oud-Heverlee",
          "Oud-Turnhout",
          "Péruwelz",
          "Rouvroy",
          "Saint-Ghislain",
          "Sambreville",
          "Wingene"
         ],
         "xaxis": "x",
         "y": [
          2728.376576643419,
          4643.415250761659,
          1890.200887643074,
          3758.84810261607,
          3071.361801657311,
          3163.7254296349092,
          1877.6023699802502,
          2544.1999161337667,
          2813.608185200496,
          1531.4730558244596,
          3350.494890510949,
          2739.176471838018,
          1528.6800426136363,
          1864.6496815286623,
          2099.758434265119,
          1775.1627453106364,
          3380.6106013598255
         ],
         "yaxis": "y"
        },
        {
         "hovertemplate": "Province=Liège<br>Nom commune=%{x}<br>€/m2=%{y}<extra></extra>",
         "legendgroup": "Liège",
         "marker": {
          "color": "#FECB52",
          "symbol": "circle"
         },
         "mode": "markers",
         "name": "Liège",
         "orientation": "v",
         "showlegend": true,
         "type": "scatter",
         "x": [
          "Baelen",
          "Beringen",
          "Biévène",
          "Brecht",
          "Bullange",
          "Chièvres",
          "Ciney",
          "Edegem",
          "Erpe-Mere",
          "Estinnes",
          "Floreffe",
          "Florennes",
          "Geetbets",
          "Gembloux",
          "Havelange",
          "Kampenhout",
          "Lummen",
          "Meulebeke",
          "Middelkerke",
          "Moerbeke",
          "Oudsbergen",
          "Schelle",
          "Schoten",
          "Seneffe",
          "Sint-Gillis-Waas",
          "Woluwe-Saint-Pierre"
         ],
         "xaxis": "x",
         "y": [
          2746.5451776649747,
          2434.6551691335944,
          2720.9830648492357,
          2808.0606430783996,
          1932.0803340051827,
          1756.8326523361166,
          1982.8216878218907,
          3377.5292052241257,
          2383.982666869393,
          1782.2640117994101,
          1839.6318618667535,
          1384.3915495955725,
          2114.7462204608837,
          2756.977615272971,
          1432.279133722929,
          2982.448325017819,
          2371.269358220058,
          3091.6192570636326,
          3996.0512589658174,
          2897.0276422764227,
          2639.0164591384,
          3466.3858868404322,
          3501.957965786105,
          2765.7686465744664,
          2640.259768948327,
          4345.7426525626
         ],
         "yaxis": "y"
        },
        {
         "hovertemplate": "Province=Luxembourg<br>Nom commune=%{x}<br>€/m2=%{y}<extra></extra>",
         "legendgroup": "Luxembourg",
         "marker": {
          "color": "#636efa",
          "symbol": "circle"
         },
         "mode": "markers",
         "name": "Luxembourg",
         "orientation": "v",
         "showlegend": true,
         "type": "scatter",
         "x": [
          "Blankenberge",
          "Gerpinnes",
          "Hemiksem",
          "Hooglede",
          "Merchtem",
          "Mol",
          "Puurs-Sint-Amands",
          "Ruiselede"
         ],
         "xaxis": "x",
         "y": [
          3477.6261341513773,
          2086.366345908201,
          2430.579885423297,
          4179.110903629131,
          2754.464702416028,
          2632.7264018033247,
          2858.269038440357,
          3074.9235912129893
         ],
         "yaxis": "y"
        }
       ],
       "layout": {
        "legend": {
         "title": {
          "text": "Province"
         },
         "tracegroupgap": 0
        },
        "margin": {
         "t": 60
        },
        "template": {
         "data": {
          "bar": [
           {
            "error_x": {
             "color": "#2a3f5f"
            },
            "error_y": {
             "color": "#2a3f5f"
            },
            "marker": {
             "line": {
              "color": "#E5ECF6",
              "width": 0.5
             },
             "pattern": {
              "fillmode": "overlay",
              "size": 10,
              "solidity": 0.2
             }
            },
            "type": "bar"
           }
          ],
          "barpolar": [
           {
            "marker": {
             "line": {
              "color": "#E5ECF6",
              "width": 0.5
             },
             "pattern": {
              "fillmode": "overlay",
              "size": 10,
              "solidity": 0.2
             }
            },
            "type": "barpolar"
           }
          ],
          "carpet": [
           {
            "aaxis": {
             "endlinecolor": "#2a3f5f",
             "gridcolor": "white",
             "linecolor": "white",
             "minorgridcolor": "white",
             "startlinecolor": "#2a3f5f"
            },
            "baxis": {
             "endlinecolor": "#2a3f5f",
             "gridcolor": "white",
             "linecolor": "white",
             "minorgridcolor": "white",
             "startlinecolor": "#2a3f5f"
            },
            "type": "carpet"
           }
          ],
          "choropleth": [
           {
            "colorbar": {
             "outlinewidth": 0,
             "ticks": ""
            },
            "type": "choropleth"
           }
          ],
          "contour": [
           {
            "colorbar": {
             "outlinewidth": 0,
             "ticks": ""
            },
            "colorscale": [
             [
              0,
              "#0d0887"
             ],
             [
              0.1111111111111111,
              "#46039f"
             ],
             [
              0.2222222222222222,
              "#7201a8"
             ],
             [
              0.3333333333333333,
              "#9c179e"
             ],
             [
              0.4444444444444444,
              "#bd3786"
             ],
             [
              0.5555555555555556,
              "#d8576b"
             ],
             [
              0.6666666666666666,
              "#ed7953"
             ],
             [
              0.7777777777777778,
              "#fb9f3a"
             ],
             [
              0.8888888888888888,
              "#fdca26"
             ],
             [
              1,
              "#f0f921"
             ]
            ],
            "type": "contour"
           }
          ],
          "contourcarpet": [
           {
            "colorbar": {
             "outlinewidth": 0,
             "ticks": ""
            },
            "type": "contourcarpet"
           }
          ],
          "heatmap": [
           {
            "colorbar": {
             "outlinewidth": 0,
             "ticks": ""
            },
            "colorscale": [
             [
              0,
              "#0d0887"
             ],
             [
              0.1111111111111111,
              "#46039f"
             ],
             [
              0.2222222222222222,
              "#7201a8"
             ],
             [
              0.3333333333333333,
              "#9c179e"
             ],
             [
              0.4444444444444444,
              "#bd3786"
             ],
             [
              0.5555555555555556,
              "#d8576b"
             ],
             [
              0.6666666666666666,
              "#ed7953"
             ],
             [
              0.7777777777777778,
              "#fb9f3a"
             ],
             [
              0.8888888888888888,
              "#fdca26"
             ],
             [
              1,
              "#f0f921"
             ]
            ],
            "type": "heatmap"
           }
          ],
          "heatmapgl": [
           {
            "colorbar": {
             "outlinewidth": 0,
             "ticks": ""
            },
            "colorscale": [
             [
              0,
              "#0d0887"
             ],
             [
              0.1111111111111111,
              "#46039f"
             ],
             [
              0.2222222222222222,
              "#7201a8"
             ],
             [
              0.3333333333333333,
              "#9c179e"
             ],
             [
              0.4444444444444444,
              "#bd3786"
             ],
             [
              0.5555555555555556,
              "#d8576b"
             ],
             [
              0.6666666666666666,
              "#ed7953"
             ],
             [
              0.7777777777777778,
              "#fb9f3a"
             ],
             [
              0.8888888888888888,
              "#fdca26"
             ],
             [
              1,
              "#f0f921"
             ]
            ],
            "type": "heatmapgl"
           }
          ],
          "histogram": [
           {
            "marker": {
             "pattern": {
              "fillmode": "overlay",
              "size": 10,
              "solidity": 0.2
             }
            },
            "type": "histogram"
           }
          ],
          "histogram2d": [
           {
            "colorbar": {
             "outlinewidth": 0,
             "ticks": ""
            },
            "colorscale": [
             [
              0,
              "#0d0887"
             ],
             [
              0.1111111111111111,
              "#46039f"
             ],
             [
              0.2222222222222222,
              "#7201a8"
             ],
             [
              0.3333333333333333,
              "#9c179e"
             ],
             [
              0.4444444444444444,
              "#bd3786"
             ],
             [
              0.5555555555555556,
              "#d8576b"
             ],
             [
              0.6666666666666666,
              "#ed7953"
             ],
             [
              0.7777777777777778,
              "#fb9f3a"
             ],
             [
              0.8888888888888888,
              "#fdca26"
             ],
             [
              1,
              "#f0f921"
             ]
            ],
            "type": "histogram2d"
           }
          ],
          "histogram2dcontour": [
           {
            "colorbar": {
             "outlinewidth": 0,
             "ticks": ""
            },
            "colorscale": [
             [
              0,
              "#0d0887"
             ],
             [
              0.1111111111111111,
              "#46039f"
             ],
             [
              0.2222222222222222,
              "#7201a8"
             ],
             [
              0.3333333333333333,
              "#9c179e"
             ],
             [
              0.4444444444444444,
              "#bd3786"
             ],
             [
              0.5555555555555556,
              "#d8576b"
             ],
             [
              0.6666666666666666,
              "#ed7953"
             ],
             [
              0.7777777777777778,
              "#fb9f3a"
             ],
             [
              0.8888888888888888,
              "#fdca26"
             ],
             [
              1,
              "#f0f921"
             ]
            ],
            "type": "histogram2dcontour"
           }
          ],
          "mesh3d": [
           {
            "colorbar": {
             "outlinewidth": 0,
             "ticks": ""
            },
            "type": "mesh3d"
           }
          ],
          "parcoords": [
           {
            "line": {
             "colorbar": {
              "outlinewidth": 0,
              "ticks": ""
             }
            },
            "type": "parcoords"
           }
          ],
          "pie": [
           {
            "automargin": true,
            "type": "pie"
           }
          ],
          "scatter": [
           {
            "fillpattern": {
             "fillmode": "overlay",
             "size": 10,
             "solidity": 0.2
            },
            "type": "scatter"
           }
          ],
          "scatter3d": [
           {
            "line": {
             "colorbar": {
              "outlinewidth": 0,
              "ticks": ""
             }
            },
            "marker": {
             "colorbar": {
              "outlinewidth": 0,
              "ticks": ""
             }
            },
            "type": "scatter3d"
           }
          ],
          "scattercarpet": [
           {
            "marker": {
             "colorbar": {
              "outlinewidth": 0,
              "ticks": ""
             }
            },
            "type": "scattercarpet"
           }
          ],
          "scattergeo": [
           {
            "marker": {
             "colorbar": {
              "outlinewidth": 0,
              "ticks": ""
             }
            },
            "type": "scattergeo"
           }
          ],
          "scattergl": [
           {
            "marker": {
             "colorbar": {
              "outlinewidth": 0,
              "ticks": ""
             }
            },
            "type": "scattergl"
           }
          ],
          "scattermapbox": [
           {
            "marker": {
             "colorbar": {
              "outlinewidth": 0,
              "ticks": ""
             }
            },
            "type": "scattermapbox"
           }
          ],
          "scatterpolar": [
           {
            "marker": {
             "colorbar": {
              "outlinewidth": 0,
              "ticks": ""
             }
            },
            "type": "scatterpolar"
           }
          ],
          "scatterpolargl": [
           {
            "marker": {
             "colorbar": {
              "outlinewidth": 0,
              "ticks": ""
             }
            },
            "type": "scatterpolargl"
           }
          ],
          "scatterternary": [
           {
            "marker": {
             "colorbar": {
              "outlinewidth": 0,
              "ticks": ""
             }
            },
            "type": "scatterternary"
           }
          ],
          "surface": [
           {
            "colorbar": {
             "outlinewidth": 0,
             "ticks": ""
            },
            "colorscale": [
             [
              0,
              "#0d0887"
             ],
             [
              0.1111111111111111,
              "#46039f"
             ],
             [
              0.2222222222222222,
              "#7201a8"
             ],
             [
              0.3333333333333333,
              "#9c179e"
             ],
             [
              0.4444444444444444,
              "#bd3786"
             ],
             [
              0.5555555555555556,
              "#d8576b"
             ],
             [
              0.6666666666666666,
              "#ed7953"
             ],
             [
              0.7777777777777778,
              "#fb9f3a"
             ],
             [
              0.8888888888888888,
              "#fdca26"
             ],
             [
              1,
              "#f0f921"
             ]
            ],
            "type": "surface"
           }
          ],
          "table": [
           {
            "cells": {
             "fill": {
              "color": "#EBF0F8"
             },
             "line": {
              "color": "white"
             }
            },
            "header": {
             "fill": {
              "color": "#C8D4E3"
             },
             "line": {
              "color": "white"
             }
            },
            "type": "table"
           }
          ]
         },
         "layout": {
          "annotationdefaults": {
           "arrowcolor": "#2a3f5f",
           "arrowhead": 0,
           "arrowwidth": 1
          },
          "autotypenumbers": "strict",
          "coloraxis": {
           "colorbar": {
            "outlinewidth": 0,
            "ticks": ""
           }
          },
          "colorscale": {
           "diverging": [
            [
             0,
             "#8e0152"
            ],
            [
             0.1,
             "#c51b7d"
            ],
            [
             0.2,
             "#de77ae"
            ],
            [
             0.3,
             "#f1b6da"
            ],
            [
             0.4,
             "#fde0ef"
            ],
            [
             0.5,
             "#f7f7f7"
            ],
            [
             0.6,
             "#e6f5d0"
            ],
            [
             0.7,
             "#b8e186"
            ],
            [
             0.8,
             "#7fbc41"
            ],
            [
             0.9,
             "#4d9221"
            ],
            [
             1,
             "#276419"
            ]
           ],
           "sequential": [
            [
             0,
             "#0d0887"
            ],
            [
             0.1111111111111111,
             "#46039f"
            ],
            [
             0.2222222222222222,
             "#7201a8"
            ],
            [
             0.3333333333333333,
             "#9c179e"
            ],
            [
             0.4444444444444444,
             "#bd3786"
            ],
            [
             0.5555555555555556,
             "#d8576b"
            ],
            [
             0.6666666666666666,
             "#ed7953"
            ],
            [
             0.7777777777777778,
             "#fb9f3a"
            ],
            [
             0.8888888888888888,
             "#fdca26"
            ],
            [
             1,
             "#f0f921"
            ]
           ],
           "sequentialminus": [
            [
             0,
             "#0d0887"
            ],
            [
             0.1111111111111111,
             "#46039f"
            ],
            [
             0.2222222222222222,
             "#7201a8"
            ],
            [
             0.3333333333333333,
             "#9c179e"
            ],
            [
             0.4444444444444444,
             "#bd3786"
            ],
            [
             0.5555555555555556,
             "#d8576b"
            ],
            [
             0.6666666666666666,
             "#ed7953"
            ],
            [
             0.7777777777777778,
             "#fb9f3a"
            ],
            [
             0.8888888888888888,
             "#fdca26"
            ],
            [
             1,
             "#f0f921"
            ]
           ]
          },
          "colorway": [
           "#636efa",
           "#EF553B",
           "#00cc96",
           "#ab63fa",
           "#FFA15A",
           "#19d3f3",
           "#FF6692",
           "#B6E880",
           "#FF97FF",
           "#FECB52"
          ],
          "font": {
           "color": "#2a3f5f"
          },
          "geo": {
           "bgcolor": "white",
           "lakecolor": "white",
           "landcolor": "#E5ECF6",
           "showlakes": true,
           "showland": true,
           "subunitcolor": "white"
          },
          "hoverlabel": {
           "align": "left"
          },
          "hovermode": "closest",
          "mapbox": {
           "style": "light"
          },
          "paper_bgcolor": "white",
          "plot_bgcolor": "#E5ECF6",
          "polar": {
           "angularaxis": {
            "gridcolor": "white",
            "linecolor": "white",
            "ticks": ""
           },
           "bgcolor": "#E5ECF6",
           "radialaxis": {
            "gridcolor": "white",
            "linecolor": "white",
            "ticks": ""
           }
          },
          "scene": {
           "xaxis": {
            "backgroundcolor": "#E5ECF6",
            "gridcolor": "white",
            "gridwidth": 2,
            "linecolor": "white",
            "showbackground": true,
            "ticks": "",
            "zerolinecolor": "white"
           },
           "yaxis": {
            "backgroundcolor": "#E5ECF6",
            "gridcolor": "white",
            "gridwidth": 2,
            "linecolor": "white",
            "showbackground": true,
            "ticks": "",
            "zerolinecolor": "white"
           },
           "zaxis": {
            "backgroundcolor": "#E5ECF6",
            "gridcolor": "white",
            "gridwidth": 2,
            "linecolor": "white",
            "showbackground": true,
            "ticks": "",
            "zerolinecolor": "white"
           }
          },
          "shapedefaults": {
           "line": {
            "color": "#2a3f5f"
           }
          },
          "ternary": {
           "aaxis": {
            "gridcolor": "white",
            "linecolor": "white",
            "ticks": ""
           },
           "baxis": {
            "gridcolor": "white",
            "linecolor": "white",
            "ticks": ""
           },
           "bgcolor": "#E5ECF6",
           "caxis": {
            "gridcolor": "white",
            "linecolor": "white",
            "ticks": ""
           }
          },
          "title": {
           "x": 0.05
          },
          "xaxis": {
           "automargin": true,
           "gridcolor": "white",
           "linecolor": "white",
           "ticks": "",
           "title": {
            "standoff": 15
           },
           "zerolinecolor": "white",
           "zerolinewidth": 2
          },
          "yaxis": {
           "automargin": true,
           "gridcolor": "white",
           "linecolor": "white",
           "ticks": "",
           "title": {
            "standoff": 15
           },
           "zerolinecolor": "white",
           "zerolinewidth": 2
          }
         }
        },
        "xaxis": {
         "anchor": "y",
         "domain": [
          0,
          1
         ],
         "title": {
          "text": "Nom commune"
         }
        },
        "yaxis": {
         "anchor": "x",
         "domain": [
          0,
          1
         ],
         "title": {
          "text": "€/m2"
         }
        }
       }
      }
     },
     "metadata": {},
     "output_type": "display_data"
    }
   ],
   "source": [
    "# municipality_price_m2.plot.scatter(x=\"Nom commune\",y= \"€/m2\")\n",
    "fig = px.scatter(data_frame=municipality_price_m2,x=\"Nom commune\",y= \"€/m2\",color='Province')\n",
    "fig.show()"
    "\n",
    "checking = rent_data[[\"Url\" , \"Price\"]]\n",
    "checking.sort_values(\"Price\",ascending=False).head(25)\n",
    "\n"
   ]
  },
  {
   "cell_type": "markdown",
   "metadata": {},
   "source": [
    "### Just for fun the link between url lenght and Price"
   ]
  },
  {
   "cell_type": "code",
   "execution_count": 27,
   "metadata": {},
   "outputs": [
    {
     "data": {
      "application/vnd.plotly.v1+json": {
       "config": {
        "plotlyServerURL": "https://plot.ly"
       },
       "data": [
        {
         "alignmentgroup": "True",
         "hovertemplate": "length_url=%{x}<br>Price=%{y}<extra></extra>",
         "legendgroup": "",
         "marker": {
          "color": "#636efa",
          "pattern": {
           "shape": ""
          }
         },
         "name": "",
         "offsetgroup": "",
         "orientation": "v",
         "showlegend": false,
         "textposition": "auto",
         "type": "bar",
         "x": [
          113,
          109,
          108,
          107,
          106,
          105,
          103,
          102,
          101,
          100,
          99,
          98,
          97,
          96,
          95,
          94,
          93,
          92,
          91,
          90,
          89,
          88,
          87,
          86,
          85,
          84,
          83,
          82,
          81,
          80,
          79,
          78,
          77,
          76,
          75,
          74,
          73,
          72,
          71,
          70,
          69,
          68
         ],
         "xaxis": "x",
         "y": [
          497579.6216216216,
          554666.6666666666,
          435000,
          429000,
          310000,
          569666.6666666666,
          347666.6666666667,
          474512,
          254458.33333333334,
          300538.6153846154,
          353438.25,
          342042.0909090909,
          231282.14285714287,
          311139.86666666664,
          480193.3333333333,
          317960.07692307694,
          331808.17333333334,
          457137.7922077922,
          310912.9719387755,
          373309.7407002188,
          472289.4266055046,
          345589.2986512524,
          353613.1131611316,
          454891.3283740701,
          592626.78700812,
          428643.3621212121,
          417771.0419235512,
          589910.4524378586,
          365731.4105987055,
          357453.55743095133,
          388427.3001919912,
          447211.570745114,
          359921.1107450583,
          442867.66524565703,
          414551.58024169697,
          408886.2525261558,
          453953.67662015907,
          460749.73501483677,
          489098.6773754887,
          465910.8634933123,
          385381.5716374269,
          401515.7272727273
         ],
         "yaxis": "y"
        }
       ],
       "layout": {
        "barmode": "relative",
        "legend": {
         "tracegroupgap": 0
        },
        "margin": {
         "t": 60
        },
        "template": {
         "data": {
          "bar": [
           {
            "error_x": {
             "color": "#2a3f5f"
            },
            "error_y": {
             "color": "#2a3f5f"
            },
            "marker": {
             "line": {
              "color": "#E5ECF6",
              "width": 0.5
             },
             "pattern": {
              "fillmode": "overlay",
              "size": 10,
              "solidity": 0.2
             }
            },
            "type": "bar"
           }
          ],
          "barpolar": [
           {
            "marker": {
             "line": {
              "color": "#E5ECF6",
              "width": 0.5
             },
             "pattern": {
              "fillmode": "overlay",
              "size": 10,
              "solidity": 0.2
             }
            },
            "type": "barpolar"
           }
          ],
          "carpet": [
           {
            "aaxis": {
             "endlinecolor": "#2a3f5f",
             "gridcolor": "white",
             "linecolor": "white",
             "minorgridcolor": "white",
             "startlinecolor": "#2a3f5f"
            },
            "baxis": {
             "endlinecolor": "#2a3f5f",
             "gridcolor": "white",
             "linecolor": "white",
             "minorgridcolor": "white",
             "startlinecolor": "#2a3f5f"
            },
            "type": "carpet"
           }
          ],
          "choropleth": [
           {
            "colorbar": {
             "outlinewidth": 0,
             "ticks": ""
            },
            "type": "choropleth"
           }
          ],
          "contour": [
           {
            "colorbar": {
             "outlinewidth": 0,
             "ticks": ""
            },
            "colorscale": [
             [
              0,
              "#0d0887"
             ],
             [
              0.1111111111111111,
              "#46039f"
             ],
             [
              0.2222222222222222,
              "#7201a8"
             ],
             [
              0.3333333333333333,
              "#9c179e"
             ],
             [
              0.4444444444444444,
              "#bd3786"
             ],
             [
              0.5555555555555556,
              "#d8576b"
             ],
             [
              0.6666666666666666,
              "#ed7953"
             ],
             [
              0.7777777777777778,
              "#fb9f3a"
             ],
             [
              0.8888888888888888,
              "#fdca26"
             ],
             [
              1,
              "#f0f921"
             ]
            ],
            "type": "contour"
           }
          ],
          "contourcarpet": [
           {
            "colorbar": {
             "outlinewidth": 0,
             "ticks": ""
            },
            "type": "contourcarpet"
           }
          ],
          "heatmap": [
           {
            "colorbar": {
             "outlinewidth": 0,
             "ticks": ""
            },
            "colorscale": [
             [
              0,
              "#0d0887"
             ],
             [
              0.1111111111111111,
              "#46039f"
             ],
             [
              0.2222222222222222,
              "#7201a8"
             ],
             [
              0.3333333333333333,
              "#9c179e"
             ],
             [
              0.4444444444444444,
              "#bd3786"
             ],
             [
              0.5555555555555556,
              "#d8576b"
             ],
             [
              0.6666666666666666,
              "#ed7953"
             ],
             [
              0.7777777777777778,
              "#fb9f3a"
             ],
             [
              0.8888888888888888,
              "#fdca26"
             ],
             [
              1,
              "#f0f921"
             ]
            ],
            "type": "heatmap"
           }
          ],
          "heatmapgl": [
           {
            "colorbar": {
             "outlinewidth": 0,
             "ticks": ""
            },
            "colorscale": [
             [
              0,
              "#0d0887"
             ],
             [
              0.1111111111111111,
              "#46039f"
             ],
             [
              0.2222222222222222,
              "#7201a8"
             ],
             [
              0.3333333333333333,
              "#9c179e"
             ],
             [
              0.4444444444444444,
              "#bd3786"
             ],
             [
              0.5555555555555556,
              "#d8576b"
             ],
             [
              0.6666666666666666,
              "#ed7953"
             ],
             [
              0.7777777777777778,
              "#fb9f3a"
             ],
             [
              0.8888888888888888,
              "#fdca26"
             ],
             [
              1,
              "#f0f921"
             ]
            ],
            "type": "heatmapgl"
           }
          ],
          "histogram": [
           {
            "marker": {
             "pattern": {
              "fillmode": "overlay",
              "size": 10,
              "solidity": 0.2
             }
            },
            "type": "histogram"
           }
          ],
          "histogram2d": [
           {
            "colorbar": {
             "outlinewidth": 0,
             "ticks": ""
            },
            "colorscale": [
             [
              0,
              "#0d0887"
             ],
             [
              0.1111111111111111,
              "#46039f"
             ],
             [
              0.2222222222222222,
              "#7201a8"
             ],
             [
              0.3333333333333333,
              "#9c179e"
             ],
             [
              0.4444444444444444,
              "#bd3786"
             ],
             [
              0.5555555555555556,
              "#d8576b"
             ],
             [
              0.6666666666666666,
              "#ed7953"
             ],
             [
              0.7777777777777778,
              "#fb9f3a"
             ],
             [
              0.8888888888888888,
              "#fdca26"
             ],
             [
              1,
              "#f0f921"
             ]
            ],
            "type": "histogram2d"
           }
          ],
          "histogram2dcontour": [
           {
            "colorbar": {
             "outlinewidth": 0,
             "ticks": ""
            },
            "colorscale": [
             [
              0,
              "#0d0887"
             ],
             [
              0.1111111111111111,
              "#46039f"
             ],
             [
              0.2222222222222222,
              "#7201a8"
             ],
             [
              0.3333333333333333,
              "#9c179e"
             ],
             [
              0.4444444444444444,
              "#bd3786"
             ],
             [
              0.5555555555555556,
              "#d8576b"
             ],
             [
              0.6666666666666666,
              "#ed7953"
             ],
             [
              0.7777777777777778,
              "#fb9f3a"
             ],
             [
              0.8888888888888888,
              "#fdca26"
             ],
             [
              1,
              "#f0f921"
             ]
            ],
            "type": "histogram2dcontour"
           }
          ],
          "mesh3d": [
           {
            "colorbar": {
             "outlinewidth": 0,
             "ticks": ""
            },
            "type": "mesh3d"
           }
          ],
          "parcoords": [
           {
            "line": {
             "colorbar": {
              "outlinewidth": 0,
              "ticks": ""
             }
            },
            "type": "parcoords"
           }
          ],
          "pie": [
           {
            "automargin": true,
            "type": "pie"
           }
          ],
          "scatter": [
           {
            "fillpattern": {
             "fillmode": "overlay",
             "size": 10,
             "solidity": 0.2
            },
            "type": "scatter"
           }
          ],
          "scatter3d": [
           {
            "line": {
             "colorbar": {
              "outlinewidth": 0,
              "ticks": ""
             }
            },
            "marker": {
             "colorbar": {
              "outlinewidth": 0,
              "ticks": ""
             }
            },
            "type": "scatter3d"
           }
          ],
          "scattercarpet": [
           {
            "marker": {
             "colorbar": {
              "outlinewidth": 0,
              "ticks": ""
             }
            },
            "type": "scattercarpet"
           }
          ],
          "scattergeo": [
           {
            "marker": {
             "colorbar": {
              "outlinewidth": 0,
              "ticks": ""
             }
            },
            "type": "scattergeo"
           }
          ],
          "scattergl": [
           {
            "marker": {
             "colorbar": {
              "outlinewidth": 0,
              "ticks": ""
             }
            },
            "type": "scattergl"
           }
          ],
          "scattermapbox": [
           {
            "marker": {
             "colorbar": {
              "outlinewidth": 0,
              "ticks": ""
             }
            },
            "type": "scattermapbox"
           }
          ],
          "scatterpolar": [
           {
            "marker": {
             "colorbar": {
              "outlinewidth": 0,
              "ticks": ""
             }
            },
            "type": "scatterpolar"
           }
          ],
          "scatterpolargl": [
           {
            "marker": {
             "colorbar": {
              "outlinewidth": 0,
              "ticks": ""
             }
            },
            "type": "scatterpolargl"
           }
          ],
          "scatterternary": [
           {
            "marker": {
             "colorbar": {
              "outlinewidth": 0,
              "ticks": ""
             }
            },
            "type": "scatterternary"
           }
          ],
          "surface": [
           {
            "colorbar": {
             "outlinewidth": 0,
             "ticks": ""
            },
            "colorscale": [
             [
              0,
              "#0d0887"
             ],
             [
              0.1111111111111111,
              "#46039f"
             ],
             [
              0.2222222222222222,
              "#7201a8"
             ],
             [
              0.3333333333333333,
              "#9c179e"
             ],
             [
              0.4444444444444444,
              "#bd3786"
             ],
             [
              0.5555555555555556,
              "#d8576b"
             ],
             [
              0.6666666666666666,
              "#ed7953"
             ],
             [
              0.7777777777777778,
              "#fb9f3a"
             ],
             [
              0.8888888888888888,
              "#fdca26"
             ],
             [
              1,
              "#f0f921"
             ]
            ],
            "type": "surface"
           }
          ],
          "table": [
           {
            "cells": {
             "fill": {
              "color": "#EBF0F8"
             },
             "line": {
              "color": "white"
             }
            },
            "header": {
             "fill": {
              "color": "#C8D4E3"
             },
             "line": {
              "color": "white"
             }
            },
            "type": "table"
           }
          ]
         },
         "layout": {
          "annotationdefaults": {
           "arrowcolor": "#2a3f5f",
           "arrowhead": 0,
           "arrowwidth": 1
          },
          "autotypenumbers": "strict",
          "coloraxis": {
           "colorbar": {
            "outlinewidth": 0,
            "ticks": ""
           }
          },
          "colorscale": {
           "diverging": [
            [
             0,
             "#8e0152"
            ],
            [
             0.1,
             "#c51b7d"
            ],
            [
             0.2,
             "#de77ae"
            ],
            [
             0.3,
             "#f1b6da"
            ],
            [
             0.4,
             "#fde0ef"
            ],
            [
             0.5,
             "#f7f7f7"
            ],
            [
             0.6,
             "#e6f5d0"
            ],
            [
             0.7,
             "#b8e186"
            ],
            [
             0.8,
             "#7fbc41"
            ],
            [
             0.9,
             "#4d9221"
            ],
            [
             1,
             "#276419"
            ]
           ],
           "sequential": [
            [
             0,
             "#0d0887"
            ],
            [
             0.1111111111111111,
             "#46039f"
            ],
            [
             0.2222222222222222,
             "#7201a8"
            ],
            [
             0.3333333333333333,
             "#9c179e"
            ],
            [
             0.4444444444444444,
             "#bd3786"
            ],
            [
             0.5555555555555556,
             "#d8576b"
            ],
            [
             0.6666666666666666,
             "#ed7953"
            ],
            [
             0.7777777777777778,
             "#fb9f3a"
            ],
            [
             0.8888888888888888,
             "#fdca26"
            ],
            [
             1,
             "#f0f921"
            ]
           ],
           "sequentialminus": [
            [
             0,
             "#0d0887"
            ],
            [
             0.1111111111111111,
             "#46039f"
            ],
            [
             0.2222222222222222,
             "#7201a8"
            ],
            [
             0.3333333333333333,
             "#9c179e"
            ],
            [
             0.4444444444444444,
             "#bd3786"
            ],
            [
             0.5555555555555556,
             "#d8576b"
            ],
            [
             0.6666666666666666,
             "#ed7953"
            ],
            [
             0.7777777777777778,
             "#fb9f3a"
            ],
            [
             0.8888888888888888,
             "#fdca26"
            ],
            [
             1,
             "#f0f921"
            ]
           ]
          },
          "colorway": [
           "#636efa",
           "#EF553B",
           "#00cc96",
           "#ab63fa",
           "#FFA15A",
           "#19d3f3",
           "#FF6692",
           "#B6E880",
           "#FF97FF",
           "#FECB52"
          ],
          "font": {
           "color": "#2a3f5f"
          },
          "geo": {
           "bgcolor": "white",
           "lakecolor": "white",
           "landcolor": "#E5ECF6",
           "showlakes": true,
           "showland": true,
           "subunitcolor": "white"
          },
          "hoverlabel": {
           "align": "left"
          },
          "hovermode": "closest",
          "mapbox": {
           "style": "light"
          },
          "paper_bgcolor": "white",
          "plot_bgcolor": "#E5ECF6",
          "polar": {
           "angularaxis": {
            "gridcolor": "white",
            "linecolor": "white",
            "ticks": ""
           },
           "bgcolor": "#E5ECF6",
           "radialaxis": {
            "gridcolor": "white",
            "linecolor": "white",
            "ticks": ""
           }
          },
          "scene": {
           "xaxis": {
            "backgroundcolor": "#E5ECF6",
            "gridcolor": "white",
            "gridwidth": 2,
            "linecolor": "white",
            "showbackground": true,
            "ticks": "",
            "zerolinecolor": "white"
           },
           "yaxis": {
            "backgroundcolor": "#E5ECF6",
            "gridcolor": "white",
            "gridwidth": 2,
            "linecolor": "white",
            "showbackground": true,
            "ticks": "",
            "zerolinecolor": "white"
           },
           "zaxis": {
            "backgroundcolor": "#E5ECF6",
            "gridcolor": "white",
            "gridwidth": 2,
            "linecolor": "white",
            "showbackground": true,
            "ticks": "",
            "zerolinecolor": "white"
           }
          },
          "shapedefaults": {
           "line": {
            "color": "#2a3f5f"
           }
          },
          "ternary": {
           "aaxis": {
            "gridcolor": "white",
            "linecolor": "white",
            "ticks": ""
           },
           "baxis": {
            "gridcolor": "white",
            "linecolor": "white",
            "ticks": ""
           },
           "bgcolor": "#E5ECF6",
           "caxis": {
            "gridcolor": "white",
            "linecolor": "white",
            "ticks": ""
           }
          },
          "title": {
           "x": 0.05
          },
          "xaxis": {
           "automargin": true,
           "gridcolor": "white",
           "linecolor": "white",
           "ticks": "",
           "title": {
            "standoff": 15
           },
           "zerolinecolor": "white",
           "zerolinewidth": 2
          },
          "yaxis": {
           "automargin": true,
           "gridcolor": "white",
           "linecolor": "white",
           "ticks": "",
           "title": {
            "standoff": 15
           },
           "zerolinecolor": "white",
           "zerolinewidth": 2
          }
         }
        },
        "xaxis": {
         "anchor": "y",
         "domain": [
          0,
          1
         ],
         "title": {
          "text": "length_url"
         }
        },
        "yaxis": {
         "anchor": "x",
         "domain": [
          0,
          1
         ],
         "title": {
          "text": "Price"
         }
        }
       }
      }
     },
     "metadata": {},
     "output_type": "display_data"
    }
   ],
   "source": [
    "sale_data[\"length_url\"] = sale_data[\"Url\"].apply(len)\n",
    "sale_data = sale_data.groupby(\"length_url\",as_index=False)[[\"Price\"]].mean().sort_values(\"length_url\",ascending=False)\n",
    "# sale_data.plot.bar(x=\"length_url\",y=\"Price\")\n",
    "fig = px.bar(data_frame=sale_data,x=\"length_url\",y=\"Price\")\n",
    "fig.show()"
   ]
  }
 ],
 "metadata": {
  "kernelspec": {
   "display_name": "Python 3",
   "language": "python",
   "name": "python3"
  },
  "language_info": {
   "codemirror_mode": {
    "name": "ipython",
    "version": 3
   },
   "file_extension": ".py",
   "mimetype": "text/x-python",
   "name": "python",
   "nbconvert_exporter": "python",
   "pygments_lexer": "ipython3",
   "version": "3.12.4"
  }
 },
 "nbformat": 4,
 "nbformat_minor": 2
}
